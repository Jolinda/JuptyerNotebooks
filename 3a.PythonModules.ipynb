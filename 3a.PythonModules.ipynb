{
 "cells": [
  {
   "cell_type": "markdown",
   "metadata": {},
   "source": [
    "# REVIEW\n",
    "pirgs = research group. You are probably already in one.  \n",
    "If you don't have access to talapas, request it here: https://hpcf.uoregon.edu/content/request-access  Know your pirg, it probably isn't lcni.\n"
   ]
  },
  {
   "cell_type": "markdown",
   "metadata": {},
   "source": [
    "# Python Modules\n",
    "Many useful python commands and libraries are located in modules (not to be confused with LMOD modules, the things you load with 'module load'. Some are part of standard python, some are common enough to be already on talapas. If you need something not on talapas you can either request it, or install it locally."
   ]
  },
  {
   "cell_type": "markdown",
   "metadata": {},
   "source": [
    "# Standard modules\n",
    "Standard modules are included with python. The reference for python is here: https://docs.python.org/3/. Note the drop down box for the specific version of python you are running. You can find your current python version in the bash shell with the --version flag. Note that you could have multiple versions of python installed."
   ]
  },
  {
   "cell_type": "code",
   "execution_count": 1,
   "metadata": {},
   "outputs": [
    {
     "name": "stderr",
     "output_type": "stream",
     "text": [
      "Python 3.6.8 :: Anaconda custom (64-bit)\n",
      "Python 2.7.5\n",
      "Python 3.6.8 :: Anaconda custom (64-bit)\n"
     ]
    }
   ],
   "source": [
    "%%bash\n",
    "python --version\n",
    "python2 --version\n",
    "python3 --version"
   ]
  },
  {
   "cell_type": "markdown",
   "metadata": {},
   "source": [
    "We see here that talapas is a little behind, the latest stable release is 3.8. Make sure you are reading the correct documentation for your version of python. It's okay if you don't match the 'micro' release, eg, the documentation for 3.6.10 is fine. Let's look at some useful standard modules."
   ]
  },
  {
   "cell_type": "markdown",
   "metadata": {},
   "source": [
    "# sys — System-specific parameters and functions"
   ]
  },
  {
   "cell_type": "code",
   "execution_count": 2,
   "metadata": {},
   "outputs": [],
   "source": [
    "import sys"
   ]
  },
  {
   "cell_type": "code",
   "execution_count": 3,
   "metadata": {},
   "outputs": [
    {
     "data": {
      "text/plain": [
       "sys.version_info(major=3, minor=6, micro=8, releaselevel='final', serial=0)"
      ]
     },
     "execution_count": 3,
     "metadata": {},
     "output_type": "execute_result"
    }
   ],
   "source": [
    "# we can get the version here too\n",
    "sys.version_info"
   ]
  },
  {
   "cell_type": "code",
   "execution_count": 4,
   "metadata": {},
   "outputs": [
    {
     "data": {
      "text/plain": [
       "['/gpfs/projects/lcni/jolinda/shared/TalapasClass',\n",
       " '',\n",
       " '/projects/lcni/shared/python3/site-packages',\n",
       " '/projects/lcni/jolinda/shared/site-packages',\n",
       " '/packages/miniconda/20190102/envs/anaconda-tensorflow-cpu/lib/python36.zip',\n",
       " '/packages/miniconda/20190102/envs/anaconda-tensorflow-cpu/lib/python3.6',\n",
       " '/packages/miniconda/20190102/envs/anaconda-tensorflow-cpu/lib/python3.6/lib-dynload',\n",
       " '/home/jolinda/.local/lib/python3.6/site-packages',\n",
       " '/home/jolinda/.local/lib/python3.6/site-packages/pyperclip-1.6.0-py3.6.egg',\n",
       " '/packages/miniconda/20190102/envs/anaconda-tensorflow-cpu/lib/python3.6/site-packages',\n",
       " '/packages/miniconda/20190102/envs/anaconda-tensorflow-cpu/lib/python3.6/site-packages/IPython/extensions',\n",
       " '/gpfs/home/jolinda/.ipython']"
      ]
     },
     "execution_count": 4,
     "metadata": {},
     "output_type": "execute_result"
    }
   ],
   "source": [
    "# we can see our path\n",
    "sys.path"
   ]
  },
  {
   "cell_type": "markdown",
   "metadata": {},
   "source": [
    "That includes all the places python looks for modules when you type import. It will include the directory where you started the notebook, the current directory, and anything in the PYTHONPATH environment variable. You can set that variable in your .bashrc_ondemand file (more on that later). Notice that the path also depends on the module used to load python -- in our case, it's the tensorflow module that is used by ondemand. If you ssh in and run module load python3, you'll have different a different path."
   ]
  },
  {
   "cell_type": "markdown",
   "metadata": {},
   "source": [
    "# glob — Unix style pathname pattern expansion"
   ]
  },
  {
   "cell_type": "markdown",
   "metadata": {},
   "source": [
    "The most useful function in 'glob' is also called glob. You use it like this."
   ]
  },
  {
   "cell_type": "code",
   "execution_count": 5,
   "metadata": {},
   "outputs": [
    {
     "data": {
      "text/plain": [
       "['/projects/lcni/dcm/TalapasClass/Smith/phantom_20180620_110428/Series_1_AAHead_Scout_32ch-head-coil',\n",
       " '/projects/lcni/dcm/TalapasClass/Smith/phantom_20180620_110428/Series_9_se_epi_1.7mm_pa',\n",
       " '/projects/lcni/dcm/TalapasClass/Smith/phantom_20180620_110428/Series_3_AAHead_Scout_32ch-head-coil_MPR_cor',\n",
       " '/projects/lcni/dcm/TalapasClass/Smith/phantom_20180620_110428/Series_5_mprage_p2',\n",
       " '/projects/lcni/dcm/TalapasClass/Smith/phantom_20180620_110428/Series_11_bold_DIFTIM_1.7mm',\n",
       " '/projects/lcni/dcm/TalapasClass/Smith/phantom_20180620_110428/Series_8_se_epi_1.7mm_ap',\n",
       " '/projects/lcni/dcm/TalapasClass/Smith/phantom_20180620_110428/Series_2_AAHead_Scout_32ch-head-coil_MPR_sag',\n",
       " '/projects/lcni/dcm/TalapasClass/Smith/phantom_20180620_110428/Series_4_AAHead_Scout_32ch-head-coil_MPR_tra',\n",
       " '/projects/lcni/dcm/TalapasClass/Smith/phantom_20180620_110428/Series_6_bold_DIFTIM_1.7mm',\n",
       " '/projects/lcni/dcm/TalapasClass/Smith/phantom_20180620_110428/Series_7_bold_DIFTIM_1.7mm',\n",
       " '/projects/lcni/dcm/TalapasClass/Smith/phantom_20180620_110428/Series_10_bold_DIFTIM_1.7mm',\n",
       " '/projects/lcni/dcm/TalapasClass/Smith/phantom_20180916_090647/Series_2_mprage_p2',\n",
       " '/projects/lcni/dcm/TalapasClass/Smith/phantom_20180916_090647/Series_1_localizer',\n",
       " '/projects/lcni/dcm/TalapasClass/Smith/phantom_20180916_090647/Series_3_SVC_1_bold_mb3_g2_2mm_te25']"
      ]
     },
     "execution_count": 5,
     "metadata": {},
     "output_type": "execute_result"
    }
   ],
   "source": [
    "import glob\n",
    "glob.glob('/projects/lcni/dcm/TalapasClass/*/*/*')"
   ]
  },
  {
   "cell_type": "markdown",
   "metadata": {},
   "source": [
    "# os — Miscellaneous operating system interfaces"
   ]
  },
  {
   "cell_type": "markdown",
   "metadata": {},
   "source": [
    "os is great because it takes care of the stuff that's specific to your current operating system. For example, windows uses a '\\' instead of a '/' as a path separator. Using the os.path functions to build your paths will take care of those details and make it easier to port your code & notebooks. For example, my notebooks are full of stuff like this:"
   ]
  },
  {
   "cell_type": "code",
   "execution_count": 6,
   "metadata": {},
   "outputs": [],
   "source": [
    "import os"
   ]
  },
  {
   "cell_type": "code",
   "execution_count": 7,
   "metadata": {},
   "outputs": [
    {
     "data": {
      "text/plain": [
       "['/projects/lcni/dcm/TalapasClass/Smith/phantom_20180620_110428/Series_5_mprage_p2',\n",
       " '/projects/lcni/dcm/TalapasClass/Smith/phantom_20180916_090647/Series_2_mprage_p2']"
      ]
     },
     "execution_count": 7,
     "metadata": {},
     "output_type": "execute_result"
    }
   ],
   "source": [
    "# define a starting point -- this is the only part I'll need to change\n",
    "dicomdir = '/projects/lcni/dcm/TalapasClass/Smith'\n",
    "glob.glob(os.path.join(dicomdir, '*', '*mprage*'))"
   ]
  },
  {
   "cell_type": "code",
   "execution_count": 8,
   "metadata": {},
   "outputs": [
    {
     "data": {
      "text/plain": [
       "['phantom_20180620_110428', 'phantom_20180916_090647']"
      ]
     },
     "execution_count": 8,
     "metadata": {},
     "output_type": "execute_result"
    }
   ],
   "source": [
    "# os can list the contents of a directory\n",
    "os.listdir(dicomdir)"
   ]
  },
  {
   "cell_type": "code",
   "execution_count": 9,
   "metadata": {},
   "outputs": [],
   "source": [
    "# and it can rename files\n",
    "os.replace('story.txt', 'oldstory.txt')"
   ]
  },
  {
   "cell_type": "markdown",
   "metadata": {},
   "source": [
    "but to copy a file we need a different library, shutil"
   ]
  },
  {
   "cell_type": "markdown",
   "metadata": {},
   "source": [
    "# shutil — High-level file operations"
   ]
  },
  {
   "cell_type": "code",
   "execution_count": 10,
   "metadata": {},
   "outputs": [
    {
     "data": {
      "text/plain": [
       "'story.txt'"
      ]
     },
     "execution_count": 10,
     "metadata": {},
     "output_type": "execute_result"
    }
   ],
   "source": [
    "import shutil\n",
    "shutil.copyfile('oldstory.txt', 'story.txt')"
   ]
  },
  {
   "cell_type": "markdown",
   "metadata": {},
   "source": [
    "shutil comes with all sorts of caveats about copying metadata, ownership, acls, etc. If you care about those things you might be better off going into the actual shell."
   ]
  },
  {
   "cell_type": "code",
   "execution_count": 11,
   "metadata": {},
   "outputs": [],
   "source": [
    "# os can't copy a file but it can remove one\n",
    "os.remove('oldstory.txt')"
   ]
  },
  {
   "cell_type": "markdown",
   "metadata": {},
   "source": [
    "# subprocess — Subprocess management\n",
    "The subprocess module allows you to spawn new processes, connect to their input/output/error pipes, and obtain their return codes. This is how you run bash commands from inside python."
   ]
  },
  {
   "cell_type": "code",
   "execution_count": 12,
   "metadata": {},
   "outputs": [],
   "source": [
    "import subprocess\n",
    "process = subprocess.run('ls')"
   ]
  },
  {
   "cell_type": "code",
   "execution_count": 13,
   "metadata": {},
   "outputs": [
    {
     "data": {
      "text/plain": [
       "0"
      ]
     },
     "execution_count": 13,
     "metadata": {},
     "output_type": "execute_result"
    }
   ],
   "source": [
    "process.returncode"
   ]
  },
  {
   "cell_type": "markdown",
   "metadata": {},
   "source": [
    "that's good, 0 means no errors"
   ]
  },
  {
   "cell_type": "code",
   "execution_count": 14,
   "metadata": {},
   "outputs": [],
   "source": [
    "process.stdout"
   ]
  },
  {
   "cell_type": "code",
   "execution_count": 15,
   "metadata": {},
   "outputs": [],
   "source": [
    "process = subprocess.run('ls', stdout=subprocess.PIPE)"
   ]
  },
  {
   "cell_type": "code",
   "execution_count": 16,
   "metadata": {},
   "outputs": [
    {
     "name": "stdout",
     "output_type": "stream",
     "text": [
      "b'1.TalapasTour.ipynb\\n1.images\\n2.PythonBasics.ipynb\\n3.PythonModules.ipynb\\nBonus.MinimalLinux.ipynb\\nREADME.md\\nstory.txt\\ntemp\\nzoom_recordings\\n'\n"
     ]
    }
   ],
   "source": [
    "print(process.stdout)"
   ]
  },
  {
   "cell_type": "code",
   "execution_count": 17,
   "metadata": {},
   "outputs": [
    {
     "name": "stdout",
     "output_type": "stream",
     "text": [
      "1.TalapasTour.ipynb\n",
      "1.images\n",
      "2.PythonBasics.ipynb\n",
      "3.PythonModules.ipynb\n",
      "Bonus.MinimalLinux.ipynb\n",
      "README.md\n",
      "story.txt\n",
      "temp\n",
      "zoom_recordings\n",
      "\n"
     ]
    }
   ],
   "source": [
    "process = subprocess.run('ls', stdout=subprocess.PIPE, universal_newlines=True)\n",
    "print(process.stdout)"
   ]
  },
  {
   "cell_type": "markdown",
   "metadata": {},
   "source": [
    "If your command has multiple arguments, use a list"
   ]
  },
  {
   "cell_type": "code",
   "execution_count": 18,
   "metadata": {},
   "outputs": [
    {
     "name": "stdout",
     "output_type": "stream",
     "text": [
      "total 0\n",
      "drwxr-xr-x 2 jolinda talapas 4096 Apr 15 10:11 2020-04-07\n",
      "drwxr-xr-x 2 jolinda talapas 4096 Apr 15 17:35 2020-04-14\n",
      "\n"
     ]
    }
   ],
   "source": [
    "process = subprocess.run(['ls', '-l', 'zoom_recordings'], stdout=subprocess.PIPE, universal_newlines=True)\n",
    "print(process.stdout)"
   ]
  },
  {
   "cell_type": "markdown",
   "metadata": {},
   "source": [
    "To capture errors, you can either use stderr = subprocess.PIPE and then look at process.stderr, or just send it all to stdout"
   ]
  },
  {
   "cell_type": "code",
   "execution_count": 19,
   "metadata": {},
   "outputs": [
    {
     "name": "stdout",
     "output_type": "stream",
     "text": [
      "ls: cannot access nonexistant: No such file or directory\n",
      "\n"
     ]
    }
   ],
   "source": [
    "process = subprocess.run(['ls', '-l', 'nonexistant'], stdout=subprocess.PIPE, stderr = subprocess.STDOUT, universal_newlines=True)\n",
    "print(process.stdout)"
   ]
  },
  {
   "cell_type": "markdown",
   "metadata": {},
   "source": [
    "# inspect — Inspect live objects\n",
    "This lets us know where these modules actual live, which will be useful later."
   ]
  },
  {
   "cell_type": "code",
   "execution_count": 20,
   "metadata": {},
   "outputs": [],
   "source": [
    "import inspect"
   ]
  },
  {
   "cell_type": "code",
   "execution_count": 21,
   "metadata": {},
   "outputs": [
    {
     "data": {
      "text/plain": [
       "'/packages/miniconda/20190102/envs/anaconda-tensorflow-cpu/lib/python3.6/os.py'"
      ]
     },
     "execution_count": 21,
     "metadata": {},
     "output_type": "execute_result"
    }
   ],
   "source": [
    "inspect.getfile(os)"
   ]
  },
  {
   "cell_type": "markdown",
   "metadata": {},
   "source": [
    "# Other modules\n",
    "These are not a part of the basic python distribution. They provide additional functionality, such as numpy (numeric python)."
   ]
  },
  {
   "cell_type": "code",
   "execution_count": 22,
   "metadata": {},
   "outputs": [
    {
     "data": {
      "text/plain": [
       "'/packages/miniconda/20190102/envs/anaconda-tensorflow-cpu/lib/python3.6/site-packages/numpy/__init__.py'"
      ]
     },
     "execution_count": 22,
     "metadata": {},
     "output_type": "execute_result"
    }
   ],
   "source": [
    "import numpy as np\n",
    "inspect.getfile(np)"
   ]
  },
  {
   "cell_type": "raw",
   "metadata": {},
   "source": [
    "Note that this is one of the paths in our sys.path list. Again, if we loaded a different LMOD module on talapas, we'll have a different path and pull in the python module from a different locatation. This can lead to unexpected behavior if those files represent different versions."
   ]
  },
  {
   "cell_type": "raw",
   "metadata": {},
   "source": [
    "Because we're using conda we can see all packages and their versions with:"
   ]
  },
  {
   "cell_type": "code",
   "execution_count": 23,
   "metadata": {},
   "outputs": [
    {
     "name": "stdout",
     "output_type": "stream",
     "text": [
      "# packages in environment at /packages/miniconda/20190102/envs/anaconda-tensorflow-cpu:\n",
      "#\n",
      "# Name                    Version                   Build  Channel\n",
      "_anaconda_depends         2019.03                  py36_0  \n",
      "_pytorch_select           0.2                       gpu_0  \n",
      "_tflow_select             2.3.0                       mkl    anaconda\n",
      "absl-py                   0.6.1                    py36_0    anaconda\n",
      "alabaster                 0.7.11                   py36_0    anaconda\n",
      "anaconda                  custom           py36hbbc8b67_0  \n",
      "anaconda-client           1.7.2                    py36_0    anaconda\n",
      "anaconda-project          0.8.2                    py36_0    anaconda\n",
      "appdirs                   1.4.3            py36h28b3542_0    anaconda\n",
      "asciitree                 0.3.3                      py_2  \n",
      "asn1crypto                0.24.0                   py36_0    anaconda\n",
      "astor                     0.7.1                    py36_0    anaconda\n",
      "astroid                   2.0.4                    py36_0    anaconda\n",
      "astropy                   3.0.4            py36h14c3975_0    anaconda\n",
      "atomicwrites              1.2.1                    py36_0    anaconda\n",
      "attrs                     19.3.0                     py_0  \n",
      "automat                   0.7.0                    py36_0    anaconda\n",
      "babel                     2.6.0                    py36_0    anaconda\n",
      "backcall                  0.1.0                    py36_0    anaconda\n",
      "backports                 1.0                      py36_1    anaconda\n",
      "backports.os              0.1.1                    py36_0  \n",
      "backports.shutil_get_terminal_size 1.0.0                    py36_2    anaconda\n",
      "basemap                   1.2.0           py36hb9db7be_1000    conda-forge\n",
      "bcolz                     1.2.1            py36h04863e7_0  \n",
      "beautifulsoup4            4.6.3                    py36_0    anaconda\n",
      "bitarray                  0.8.3            py36h14c3975_0    anaconda\n",
      "bkcharts                  0.2                      py36_0    anaconda\n",
      "blas                      1.0                         mkl    anaconda\n",
      "blaze                     0.11.3                   py36_0    anaconda\n",
      "bleach                    2.1.4                    py36_0    anaconda\n",
      "blosc                     1.14.4               hdbcaa40_0    anaconda\n",
      "bokeh                     0.13.0                   py36_0    anaconda\n",
      "boto                      2.49.0                   py36_0    anaconda\n",
      "bottleneck                1.2.1            py36h035aef0_1    anaconda\n",
      "bz2file                   0.98                     py36_1  \n",
      "bzip2                     1.0.6                h14c3975_5    anaconda\n",
      "c-ares                    1.15.0               h7b6447c_1    anaconda\n",
      "ca-certificates           2020.1.1                      0  \n",
      "cairo                     1.14.12              h8948797_3    anaconda\n",
      "certifi                   2019.11.28               py36_1  \n",
      "cffi                      1.11.5           py36he75722e_1    anaconda\n",
      "chardet                   3.0.4                    py36_1    anaconda\n",
      "click                     6.7                      py36_0    anaconda\n",
      "cloudpickle               0.5.5                    py36_0    anaconda\n",
      "clyent                    1.2.2                    py36_1    anaconda\n",
      "colorama                  0.3.9                    py36_0    anaconda\n",
      "constantly                15.1.0           py36h28b3542_0    anaconda\n",
      "contextlib2               0.5.5                    py36_0    anaconda\n",
      "cryptography              2.4.2            py36h1ba5d50_0  \n",
      "cudatoolkit               10.0.130                      0  \n",
      "cudnn                     7.6.4                cuda10.0_0  \n",
      "curl                      7.63.0            hbc83047_1000  \n",
      "cycler                    0.10.0                   py36_0    anaconda\n",
      "cython                    0.28.5           py36hf484d3e_0    anaconda\n",
      "cytoolz                   0.9.0.1          py36h14c3975_1    anaconda\n",
      "dask                      1.2.2                      py_0  \n",
      "dask-core                 1.2.2                      py_0  \n",
      "dask-jobqueue             0.4.1                      py_0    conda-forge\n",
      "datashape                 0.5.4                    py36_1    anaconda\n",
      "dbus                      1.13.2               h714fa37_1    anaconda\n",
      "decorator                 4.3.0                    py36_0    anaconda\n",
      "defusedxml                0.5.0                    py36_1    anaconda\n",
      "distributed               1.28.1                   py36_0  \n",
      "docrep                    0.2.7                      py_0    conda-forge\n",
      "docutils                  0.14                     py36_0    anaconda\n",
      "entrypoints               0.2.3                    py36_2    anaconda\n",
      "et_xmlfile                1.0.1                    py36_0    anaconda\n",
      "etelemetry                0.1.2                      py_1    conda-forge\n",
      "expat                     2.2.6                he6710b0_0    anaconda\n",
      "fastcache                 1.0.2            py36h14c3975_2    anaconda\n",
      "fasteners                 0.14.1                     py_3  \n",
      "fastscape                 0.1.0alpha                 py_0    conda-forge\n",
      "fastscapelib-f2py         2.8.1            py36h7eb8c7e_0    conda-forge\n",
      "ffmpeg                    4.0                  hcdf2ecd_0  \n",
      "filelock                  3.0.8                    py36_0    anaconda\n",
      "flask                     1.0.2                    py36_1    anaconda\n",
      "flask-cors                3.0.6                    py36_0    anaconda\n",
      "fontconfig                2.13.0               h9420a91_0    anaconda\n",
      "freeglut                  3.0.0                hf484d3e_5  \n",
      "freetype                  2.9.1                h8a8886c_1    anaconda\n",
      "fribidi                   1.0.5                h7b6447c_0    anaconda\n",
      "future                    0.17.1                py36_1000    conda-forge\n",
      "gast                      0.2.0                    py36_0    anaconda\n",
      "gdk-pixbuf                2.32.2                        1    bioconda\n",
      "geos                      3.6.2                hfc679d8_4    conda-forge\n",
      "get_terminal_size         1.0.0                haa9412d_0    anaconda\n",
      "gevent                    1.3.6            py36h7b6447c_0    anaconda\n",
      "glib                      2.56.2               hd408876_0    anaconda\n",
      "glob2                     0.6                      py36_0    anaconda\n",
      "gmp                       6.1.2                h6c8ec71_1  \n",
      "gmpy2                     2.0.8            py36h10f8cd9_2    anaconda\n",
      "gobject-introspection     1.56.1           py36hbc4ca2d_2  \n",
      "graphite2                 1.3.12               h23475e2_2    anaconda\n",
      "graphviz                  2.40.1               h21bd128_2  \n",
      "greenlet                  0.4.15           py36h7b6447c_0    anaconda\n",
      "grpcio                    1.16.1           py36hf8bcb03_1  \n",
      "gst-plugins-base          1.14.0               hbbd80ab_1    anaconda\n",
      "gstreamer                 1.14.0               hb453b48_1    anaconda\n",
      "h5py                      2.8.0            py36h989c5e5_3    anaconda\n",
      "harfbuzz                  1.8.8                hffaf4a1_0    anaconda\n",
      "hdf5                      1.10.2               hba1933b_1    anaconda\n",
      "heapdict                  1.0.0                    py36_2    anaconda\n",
      "html5lib                  1.0.1                    py36_0    anaconda\n",
      "hyperlink                 18.0.0                   py36_0    anaconda\n",
      "icu                       58.2                 h9c2bf20_1  \n",
      "idna                      2.7                      py36_0    anaconda\n",
      "imageio                   2.4.1                    py36_0    anaconda\n",
      "imagesize                 1.1.0                    py36_0    anaconda\n",
      "importlib_metadata        0.19                     py36_0  \n",
      "incremental               17.5.0                   py36_0    anaconda\n",
      "intel-openmp              2019.0                      118    anaconda\n",
      "ipykernel                 4.9.0                    py36_1    anaconda\n",
      "ipython                   7.2.0            py36h39e3cac_0  \n",
      "ipython_genutils          0.2.0                    py36_0    anaconda\n",
      "ipywidgets                7.4.1                    py36_0    anaconda\n",
      "isodate                   0.6.0                      py_1  \n",
      "isort                     4.3.4                    py36_0    anaconda\n",
      "itsdangerous              0.24                     py36_1    anaconda\n",
      "jasper                    2.0.14               h07fcdf6_1  \n",
      "jbig                      2.1                  hdba287a_0    anaconda\n",
      "jdcal                     1.4                      py36_0    anaconda\n",
      "jedi                      0.12.1                   py36_0    anaconda\n",
      "jeepney                   0.3.1                    py36_0    anaconda\n",
      "jinja2                    2.10                     py36_0    anaconda\n",
      "joblib                    0.13.2                   py36_0  \n",
      "jpeg                      9b                   h024ee3a_2  \n",
      "jsonschema                2.6.0                    py36_0    anaconda\n",
      "jupyter                   1.0.0                    py36_7  \n",
      "jupyter_client            5.2.4                    py36_0  \n",
      "jupyter_console           6.0.0                    py36_0  \n",
      "jupyter_core              4.4.0                    py36_0  \n",
      "jupyterlab                0.35.3                   py36_0  \n",
      "jupyterlab_launcher       0.13.1                   py36_0  \n",
      "jupyterlab_server         0.2.0                    py36_0  \n",
      "jupyterlmod               1.7.1                    pypi_0    pypi\n",
      "keepalive                 0.5                        py_1    conda-forge\n",
      "keras                     2.2.4                         0  \n",
      "keras-applications        1.0.6                    py36_0    anaconda\n",
      "keras-base                2.2.4                    py36_0  \n",
      "keras-preprocessing       1.0.5                    py36_0    anaconda\n",
      "keyring                   13.2.1                   py36_0    anaconda\n",
      "kiwisolver                1.0.1            py36hf484d3e_0    anaconda\n",
      "krb5                      1.16.1               h173b8e3_7  \n",
      "lazy-object-proxy         1.3.1            py36h14c3975_2    anaconda\n",
      "libcurl                   7.63.0            h20c2e04_1000  \n",
      "libedit                   3.1.20170329         h6b74fdf_2    anaconda\n",
      "libffi                    3.2.1                hd88cf55_4  \n",
      "libgcc                    7.2.0                h69d50b8_2  \n",
      "libgcc-ng                 8.2.0                hdf63c60_1    anaconda\n",
      "libgfortran-ng            7.3.0                hdf63c60_0    anaconda\n",
      "libglu                    9.0.0                hf484d3e_1  \n",
      "libiconv                  1.15                 h63c8f33_5  \n",
      "libopencv                 3.4.2                hb342d67_1  \n",
      "libopus                   1.3                  h7b6447c_0  \n",
      "libpng                    1.6.37               hbc83047_0  \n",
      "libprotobuf               3.6.1                hd408876_0    anaconda\n",
      "libsodium                 1.0.16               h1bed415_0    anaconda\n",
      "libssh2                   1.8.0                h1ba5d50_4  \n",
      "libstdcxx-ng              8.2.0                hdf63c60_1    anaconda\n",
      "libtiff                   4.0.9                he85c1e1_2    anaconda\n",
      "libtool                   2.4.6                h544aabb_3  \n",
      "libuuid                   1.0.3                h1bed415_2    anaconda\n",
      "libvpx                    1.7.0                h439df22_0  \n",
      "libxcb                    1.13                 h1bed415_1    anaconda\n",
      "libxml2                   2.9.8                h26e45fe_1    anaconda\n",
      "libxslt                   1.1.32               h1312cb7_0    anaconda\n",
      "littleutils               0.2.2                      py_0    conda-forge\n",
      "llvmlite                  0.24.0           py36hdbcaa40_0    anaconda\n",
      "locket                    0.2.0                    py36_1    anaconda\n",
      "lxml                      4.2.5            py36hefd8a0e_0    anaconda\n",
      "lzo                       2.10                 h49e0be7_2  \n",
      "markdown                  3.0.1                    py36_0    anaconda\n",
      "markupsafe                1.0              py36h14c3975_1    anaconda\n",
      "matplotlib                2.2.3            py36hb69df0a_0    anaconda\n",
      "matplotlib-base           3.1.3            py36hef1b27d_0  \n",
      "mccabe                    0.6.1                    py36_1    anaconda\n",
      "mistune                   0.8.3            py36h14c3975_1    anaconda\n",
      "mkl                       2019.4                      243  \n",
      "mkl-service               2.3.0            py36he904b0f_0  \n",
      "mkl_fft                   1.0.4            py36h4414c95_1    anaconda\n",
      "mkl_random                1.0.1            py36h4414c95_1    anaconda\n",
      "monotonic                 1.5                        py_0  \n",
      "more-itertools            4.3.0                    py36_0    anaconda\n",
      "mpc                       1.1.0                h10f8cd9_1    anaconda\n",
      "mpfr                      4.0.1                hdf1c602_3    anaconda\n",
      "mpmath                    1.0.0                    py36_2    anaconda\n",
      "msgpack-python            0.5.6            py36h6bb024c_1    anaconda\n",
      "multipledispatch          0.6.0                    py36_0    anaconda\n",
      "nbconvert                 5.4.0                    py36_1    anaconda\n",
      "nbformat                  4.4.0                    py36_0    anaconda\n",
      "ncurses                   6.1                  hf484d3e_0    anaconda\n",
      "networkx                  2.4                        py_0  \n",
      "neurdflib                 5.0.1                      py_0    conda-forge\n",
      "nibabel                   2.5.1                      py_0    conda-forge\n",
      "nilearn                   0.5.2              pyh24bf2e0_0    conda-forge\n",
      "ninja                     1.9.0            py36hfd86e86_0  \n",
      "nipype                    1.5.0rc1         py36h9f0ad1d_0    conda-forge\n",
      "nltk                      3.3.0                    py36_0    anaconda\n",
      "nodejs                    10.13.0              he6710b0_0  \n",
      "nose                      1.3.7                    py36_2    anaconda\n",
      "notebook                  5.6.0                    py36_0    anaconda\n",
      "numba                     0.39.0           py36h04863e7_0    anaconda\n",
      "numcodecs                 0.5.4            py36he6710b0_0  \n",
      "numexpr                   2.6.8            py36hd89afb7_0    anaconda\n",
      "numpy                     1.15.1           py36h1d66e8a_0    anaconda\n",
      "numpy-base                1.15.1           py36h81de0dd_0    anaconda\n",
      "numpydoc                  0.8.0                    py36_0    anaconda\n",
      "obspy                     1.1.0           py36h3010b51_1002    conda-forge\n",
      "odo                       0.5.1                    py36_0    anaconda\n",
      "olefile                   0.46                     py36_0    anaconda\n",
      "opencv                    3.4.2            py36h6fd60c2_1  \n",
      "openjpeg                  2.3.0                h05c96fa_1  \n",
      "openpyxl                  2.5.6                    py36_0    anaconda\n",
      "openslide                 3.4.1                         2    bioconda\n",
      "openslide-python          1.1.1            py36h470a237_0    bioconda\n",
      "openssl                   1.1.1f               h7b6447c_0  \n",
      "outdated                  0.2.0                      py_0    conda-forge\n",
      "packaging                 17.1                     py36_0    anaconda\n",
      "pandas                    1.0.3            py36h0573a6f_0  \n",
      "pandas-flavor             0.2.0                      py_0    conda-forge\n",
      "pandoc                    1.19.2.1             hea2e7c5_1    anaconda\n",
      "pandocfilters             1.4.2                    py36_1    anaconda\n",
      "pango                     1.42.4               h049681c_0    anaconda\n",
      "parso                     0.3.1                    py36_0    anaconda\n",
      "partd                     0.3.8                    py36_0    anaconda\n",
      "patchelf                  0.9                  hf484d3e_2    anaconda\n",
      "path.py                   11.1.0                   py36_0    anaconda\n",
      "pathlib2                  2.3.2                    py36_0    anaconda\n",
      "patsy                     0.5.1                    py36_0  \n",
      "pcre                      8.42                 h439df22_0    anaconda\n",
      "pep8                      1.7.1                    py36_0    anaconda\n",
      "pexpect                   4.6.0                    py36_0    anaconda\n",
      "pickleshare               0.7.4                    py36_0    anaconda\n",
      "pillow                    5.2.0            py36heded4f4_0    anaconda\n",
      "pingouin                  0.3.3                      py_1    conda-forge\n",
      "pip                       10.0.1                   py36_0    anaconda\n",
      "pixman                    0.34.0               hceecf20_3  \n",
      "pkginfo                   1.4.2                    py36_1    anaconda\n",
      "pluggy                    0.7.1            py36h28b3542_0    anaconda\n",
      "ply                       3.11                     py36_0    anaconda\n",
      "pomegranate               0.11.1           py36ha516724_0  \n",
      "proj4                     5.2.0             h14c3975_1001    conda-forge\n",
      "prometheus_client         0.3.1            py36h28b3542_0    anaconda\n",
      "prompt_toolkit            2.0.7                    py36_0  \n",
      "protobuf                  3.6.1            py36he6710b0_0    anaconda\n",
      "prov                      1.5.3                      py_1    conda-forge\n",
      "psutil                    5.4.7            py36h14c3975_0    anaconda\n",
      "ptyprocess                0.6.0                    py36_0    anaconda\n",
      "py                        1.6.0                    py36_0    anaconda\n",
      "py-opencv                 3.4.2            py36hb342d67_1  \n",
      "pyasn1                    0.4.4            py36h28b3542_0    anaconda\n",
      "pyasn1-modules            0.2.2                    py36_0    anaconda\n",
      "pycodestyle               2.4.0                    py36_0    anaconda\n",
      "pycosat                   0.6.3            py36h14c3975_0    anaconda\n",
      "pycparser                 2.18                     py36_1    anaconda\n",
      "pycrypto                  2.6.1            py36h14c3975_9    anaconda\n",
      "pycurl                    7.43.0.2         py36h1ba5d50_0  \n",
      "pydicom                   1.3.0                      py_0    conda-forge\n",
      "pydot                     1.4.1                    py36_0  \n",
      "pydotplus                 2.0.2                    py36_1  \n",
      "pyflakes                  2.0.0                    py36_0    anaconda\n",
      "pygments                  2.2.0                    py36_0    anaconda\n",
      "pylint                    2.1.1                    py36_0    anaconda\n",
      "pyodbc                    4.0.24           py36he6710b0_0    anaconda\n",
      "pyopenssl                 18.0.0                   py36_0    anaconda\n",
      "pyparsing                 2.2.0                    py36_1    anaconda\n",
      "pyproj                    1.9.6           py36hc0953d3_1000    conda-forge\n",
      "pyqt                      5.9.2            py36h05f1152_2    anaconda\n",
      "pyrsistent                0.14.11          py36h7b6447c_0  \n",
      "pyshp                     2.0.1                      py_0    conda-forge\n",
      "pysocks                   1.6.8                    py36_0    anaconda\n",
      "pytables                  3.4.4            py36ha205bf6_0    anaconda\n",
      "pytest                    3.8.0                    py36_0    anaconda\n",
      "pytest-arraydiff          0.2              py36h39e3cac_0    anaconda\n",
      "pytest-astropy            0.4.0                    py36_0    anaconda\n",
      "pytest-doctestplus        0.1.3                    py36_0    anaconda\n",
      "pytest-openfiles          0.3.0                    py36_0    anaconda\n",
      "pytest-remotedata         0.3.0                    py36_0    anaconda\n",
      "python                    3.6.8                h0371630_0  \n",
      "python-dateutil           2.7.3                    py36_0    anaconda\n",
      "python_abi                3.6                     1_cp36m    conda-forge\n",
      "pytorch                   1.2.0           cuda100py36h938c94c_0  \n",
      "pytz                      2018.5                   py36_0    anaconda\n",
      "pywavelets                1.0.0            py36hdd07704_0    anaconda\n",
      "pyyaml                    3.13             py36h14c3975_0    anaconda\n",
      "pyzmq                     17.1.2           py36h14c3975_0    anaconda\n",
      "qt                        5.9.7                h5867ecd_1  \n",
      "qtawesome                 0.4.4                    py36_0    anaconda\n",
      "qtconsole                 4.4.1                    py36_0    anaconda\n",
      "qtpy                      1.5.0                    py36_0    anaconda\n",
      "rdflib                    4.2.2                 py36_1000    conda-forge\n",
      "readline                  7.0                  h7b6447c_5    anaconda\n",
      "regex                     2019.6.8                 pypi_0    pypi\n",
      "requests                  2.19.1                   py36_0    anaconda\n",
      "root-numpy                4.8.0                    pypi_0    pypi\n",
      "rope                      0.11.0                   py36_0    anaconda\n",
      "ruamel_yaml               0.15.46          py36h14c3975_0    anaconda\n",
      "scikit-allel              1.2.1            py36hb3f55d8_0    conda-forge\n",
      "scikit-image              0.14.0           py36hf484d3e_1    anaconda\n",
      "scikit-learn              0.19.2           py36h4989274_0    anaconda\n",
      "scipy                     1.4.1            py36h0b6359f_0  \n",
      "seaborn                   0.9.0                    py36_0    anaconda\n",
      "secretstorage             3.1.0                    py36_0    anaconda\n",
      "send2trash                1.5.0                    py36_0    anaconda\n",
      "service_identity          17.0.0           py36h28b3542_0    anaconda\n",
      "setuptools                40.2.0                   py36_0    anaconda\n",
      "shap                      0.30.2           py36hb3f55d8_0    conda-forge\n",
      "simplegeneric             0.8.1                    py36_2    anaconda\n",
      "simplejson                3.17.0           py36h7b6447c_0  \n",
      "singledispatch            3.4.0.3                  py36_0    anaconda\n",
      "sip                       4.19.8           py36hf484d3e_0    anaconda\n",
      "six                       1.11.0                   py36_1    anaconda\n",
      "snappy                    1.1.7                hbae5bb6_3  \n",
      "snowballstemmer           1.2.1                    py36_0    anaconda\n",
      "sortedcollections         1.0.1                    py36_0    anaconda\n",
      "sortedcontainers          2.0.5                    py36_0    anaconda\n",
      "soupsieve                 1.9.2                    py36_0  \n",
      "sparqlwrapper             1.8.2                 py36_1000    conda-forge\n",
      "sphinx                    1.7.9                    py36_0    anaconda\n",
      "sphinxcontrib             1.0                      py36_1    anaconda\n",
      "sphinxcontrib-websupport  1.1.0                    py36_1    anaconda\n",
      "spyder                    3.3.1                    py36_1    anaconda\n",
      "spyder-kernels            0.2.6                    py36_0    anaconda\n",
      "sqlalchemy                1.2.11           py36h7b6447c_0    anaconda\n",
      "sqlite                    3.26.0               h7b6447c_0  \n",
      "statsmodels               0.11.0           py36h7b6447c_0  \n",
      "sympy                     1.2                      py36_0    anaconda\n",
      "tblib                     1.3.2                    py36_0    anaconda\n",
      "tensorboard               1.12.0           py36hf484d3e_0    anaconda\n",
      "tensorflow                1.12.0          mkl_py36h69b6ba0_0    anaconda\n",
      "tensorflow-base           1.12.0          mkl_py36h3c3e929_0    anaconda\n",
      "tensorflow-hub            0.7.0              pyhe6710b0_0  \n",
      "termcolor                 1.1.0                    py36_1    anaconda\n",
      "terminado                 0.8.1                    py36_1    anaconda\n",
      "testpath                  0.3.1                    py36_0    anaconda\n",
      "tk                        8.6.8                hbc83047_0    anaconda\n",
      "toolz                     0.9.0                    py36_0    anaconda\n",
      "torchvision               0.4.0           cuda100py36hecfc37a_0  \n",
      "tornado                   5.1              py36h14c3975_0    anaconda\n",
      "tqdm                      4.36.1                     py_0  \n",
      "traitlets                 4.3.2                    py36_0    anaconda\n",
      "traits                    5.2.0            py36h7b6447c_0  \n",
      "twisted                   18.7.0           py36h14c3975_1    anaconda\n",
      "typed-ast                 1.1.0            py36h14c3975_0    anaconda\n",
      "unicodecsv                0.14.1                   py36_0    anaconda\n",
      "unixodbc                  2.3.7                h14c3975_0    anaconda\n",
      "urllib3                   1.23                     py36_0    anaconda\n",
      "wcwidth                   0.1.7                    py36_0    anaconda\n",
      "webencodings              0.5.1                    py36_1    anaconda\n",
      "werkzeug                  0.14.1                   py36_0    anaconda\n",
      "wheel                     0.31.1                   py36_0    anaconda\n",
      "widgetsnbextension        3.4.1                    py36_0    anaconda\n",
      "wrapt                     1.10.11          py36h14c3975_2    anaconda\n",
      "wurlitzer                 1.0.3                    py36_0  \n",
      "xarray                    0.11.3                   py36_0  \n",
      "xarray-simlab             0.3.0                      py_0    conda-forge\n",
      "xlrd                      1.1.0                    py36_1    anaconda\n",
      "xlsxwriter                1.1.0                    py36_0    anaconda\n",
      "xlwt                      1.3.0                    py36_0    anaconda\n",
      "xvfbwrapper               0.2.9                 py36_1001    conda-forge\n",
      "xz                        5.2.4                h14c3975_4    anaconda\n",
      "yaml                      0.1.7                had09818_2  \n",
      "zarr                      2.2.0                      py_0  \n",
      "zeromq                    4.2.5                hf484d3e_1    anaconda\n",
      "zict                      0.1.3                    py36_0    anaconda\n",
      "zipp                      0.5.2                      py_0  \n",
      "zlib                      1.2.11               ha838bed_2  \n",
      "zope                      1.0                      py36_1    anaconda\n",
      "zope.interface            4.5.0            py36h14c3975_0    anaconda\n",
      "zstd                      1.3.7                h0b5b093_0  \n"
     ]
    }
   ],
   "source": [
    "!conda list"
   ]
  },
  {
   "cell_type": "markdown",
   "metadata": {},
   "source": [
    "Some of the other ones I use from this list are:  \n",
    "* matplotlib -- visualization and plotting  \n",
    "* pandas -- python data analysis library  \n",
    "* seaborn -- statistical data visualization  \n",
    "* nibabel -- read/write nifti files  \n",
    "* pydicom -- read dicom files\n",
    "* numpy -- support for multidimensional arrays  \n",
    "In some cases I also have local versions installed. I've done this for modules that are either unavailable on talapas or outdated."
   ]
  },
  {
   "cell_type": "code",
   "execution_count": 24,
   "metadata": {},
   "outputs": [
    {
     "data": {
      "text/plain": [
       "'/home/jolinda/.local/lib/python3.6/site-packages/pandas/__init__.py'"
      ]
     },
     "execution_count": 24,
     "metadata": {},
     "output_type": "execute_result"
    }
   ],
   "source": [
    "import pandas\n",
    "inspect.getfile(pandas)"
   ]
  },
  {
   "cell_type": "markdown",
   "metadata": {},
   "source": [
    "It's being pulled from a local copy, because I wanted a more recent version. You don't usually need to worry about this and you can ask RACS to add or update python modules."
   ]
  },
  {
   "cell_type": "markdown",
   "metadata": {},
   "source": [
    "If you do need your own local copy of something you can install it with pip, the python package manager. You can also use pip to update itself, and you can wind up with different versions of pip installed (just like with other packages). We probably won't need to install or upgrade any packages in this class, but here's how you would do it.  \n",
    "  \n",
    "install a local copy of a package\n",
    "```\n",
    "pip install --user package\n",
    "```\n",
    "upgrade a local copy of a package\n",
    "```\n",
    "pip install --user package --upgrade\n",
    "```\n"
   ]
  },
  {
   "cell_type": "markdown",
   "metadata": {},
   "source": [
    "# My modules\n",
    "These are ones I've written myself and are in the /projects/lcni/jolinda/shared/site-packages directory"
   ]
  },
  {
   "cell_type": "code",
   "execution_count": 28,
   "metadata": {},
   "outputs": [
    {
     "data": {
      "text/plain": [
       "['Untitled.ipynb',\n",
       " 'slurmpy.bak',\n",
       " 'niftiviewer.py',\n",
       " '.ipynb_checkpoints',\n",
       " 'oldslurmpy.py',\n",
       " 'slurmpy.py',\n",
       " '__pycache__']"
      ]
     },
     "execution_count": 28,
     "metadata": {},
     "output_type": "execute_result"
    }
   ],
   "source": [
    "jos_modules = '/projects/lcni/jolinda/shared/site-packages'\n",
    "os.listdir(jos_modules)"
   ]
  },
  {
   "cell_type": "markdown",
   "metadata": {},
   "source": [
    "Later we'll be using slurmpy quite a bit, but for now let's just load it."
   ]
  },
  {
   "cell_type": "code",
   "execution_count": 27,
   "metadata": {},
   "outputs": [],
   "source": [
    "import slurmpy"
   ]
  },
  {
   "cell_type": "markdown",
   "metadata": {},
   "source": [
    "That probably didn't work for you because that directory isn't in your path."
   ]
  },
  {
   "cell_type": "code",
   "execution_count": 30,
   "metadata": {},
   "outputs": [],
   "source": [
    "sys.path.append(jos_modules)"
   ]
  },
  {
   "cell_type": "code",
   "execution_count": 31,
   "metadata": {},
   "outputs": [],
   "source": [
    "import slurmpy"
   ]
  },
  {
   "cell_type": "markdown",
   "metadata": {},
   "source": [
    "Hopefully that worked. You can ensure this module is always loaded when running jupyterlab in ondemand by creating a file called .bashrc_ondemand and writing to the PYTHONPATH environment variable. (Outside of ondemand you'll want to add this to your .bashrc file, but the regular .bashrc is not sourced by ondemand)."
   ]
  },
  {
   "cell_type": "code",
   "execution_count": 46,
   "metadata": {},
   "outputs": [
    {
     "name": "stdout",
     "output_type": "stream",
     "text": [
      "# .bashrc-ondemand\n",
      "\n",
      "export PYTHONPATH=$PYTHONPATH:/projects/lcni/jolinda/shared/site-packages\n",
      "\n",
      "\n"
     ]
    }
   ],
   "source": [
    "with open('../sample.bashrc-ondemand') as f:\n",
    "    print(f.read())"
   ]
  },
  {
   "cell_type": "code",
   "execution_count": null,
   "metadata": {},
   "outputs": [],
   "source": []
  }
 ],
 "metadata": {
  "kernelspec": {
   "display_name": "Python 3",
   "language": "python",
   "name": "python3"
  },
  "language_info": {
   "codemirror_mode": {
    "name": "ipython",
    "version": 3
   },
   "file_extension": ".py",
   "mimetype": "text/x-python",
   "name": "python",
   "nbconvert_exporter": "python",
   "pygments_lexer": "ipython3",
   "version": "3.6.8"
  }
 },
 "nbformat": 4,
 "nbformat_minor": 2
}
