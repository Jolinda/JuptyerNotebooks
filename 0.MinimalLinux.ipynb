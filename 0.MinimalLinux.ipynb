{
 "cells": [
  {
   "cell_type": "markdown",
   "metadata": {},
   "source": [
    "This is a VERY short guide to linux: the smallest amount you can possibly know and still accomplish most of what you need to do (in my experience)."
   ]
  },
  {
   "cell_type": "markdown",
   "metadata": {},
   "source": [
    "## Shells\n",
    "There are various \"shells\" in linux, but everything I do here is 'bash'. To run bash commands in a Jupyter notebook, preface them with %%bash or an exclamation point (if bash is your current shell)."
   ]
  },
  {
   "cell_type": "markdown",
   "metadata": {},
   "source": [
    "The echo command just writes to the console"
   ]
  },
  {
   "cell_type": "code",
   "execution_count": 1,
   "metadata": {},
   "outputs": [
    {
     "name": "stdout",
     "output_type": "stream",
     "text": [
      "hello\n"
     ]
    }
   ],
   "source": [
    "!echo hello"
   ]
  },
  {
   "cell_type": "markdown",
   "metadata": {},
   "source": [
    "Use dollar signs to refer to variables. Some of these are already set for you, and you can make new ones"
   ]
  },
  {
   "cell_type": "code",
   "execution_count": 3,
   "metadata": {},
   "outputs": [
    {
     "name": "stdout",
     "output_type": "stream",
     "text": [
      "/bin/bash\n"
     ]
    }
   ],
   "source": [
    "!echo $SHELL"
   ]
  },
  {
   "cell_type": "code",
   "execution_count": 4,
   "metadata": {},
   "outputs": [
    {
     "name": "stdout",
     "output_type": "stream",
     "text": [
      "hello world\n"
     ]
    }
   ],
   "source": [
    "%%bash\n",
    "myvar='world'\n",
    "echo hello $myvar"
   ]
  },
  {
   "cell_type": "markdown",
   "metadata": {},
   "source": [
    "The ls command lists the files in a directory"
   ]
  },
  {
   "cell_type": "code",
   "execution_count": 5,
   "metadata": {},
   "outputs": [
    {
     "name": "stdout",
     "output_type": "stream",
     "text": [
      "0.MinimalLinux.ipynb\n",
      "1.TalapasIntro.ipynb\n",
      "1.images\n",
      "README.md\n",
      "fslinfo.srun\n",
      "hello_everyone.srun\n"
     ]
    }
   ],
   "source": [
    "%%bash\n",
    "ls"
   ]
  },
  {
   "cell_type": "markdown",
   "metadata": {},
   "source": [
    "Use the -l (that's the letter not the number 1) flag to show more details, and wildcards to show only matching files"
   ]
  },
  {
   "cell_type": "code",
   "execution_count": 7,
   "metadata": {},
   "outputs": [
    {
     "name": "stdout",
     "output_type": "stream",
     "text": [
      "-rw-r--r-- 1 jolinda talapas 13623 Jun 13 15:22 0.MinimalLinux.ipynb\n",
      "-rw-r--r-- 1 jolinda talapas 29527 Jun 13 15:18 1.TalapasIntro.ipynb\n"
     ]
    }
   ],
   "source": [
    "!ls -l *.ipynb"
   ]
  },
  {
   "cell_type": "markdown",
   "metadata": {},
   "source": [
    "Wildcards: '*' matches any number of characters. '?' matches a single character. There are more but these are the most usefule"
   ]
  },
  {
   "cell_type": "code",
   "execution_count": 8,
   "metadata": {},
   "outputs": [
    {
     "name": "stdout",
     "output_type": "stream",
     "text": [
      "/gpfs/home/jolinda/notebooks/TalapasClass\n"
     ]
    }
   ],
   "source": [
    "# use pwd to get the current working directory\n",
    "!pwd"
   ]
  },
  {
   "cell_type": "code",
   "execution_count": 9,
   "metadata": {},
   "outputs": [
    {
     "name": "stdout",
     "output_type": "stream",
     "text": [
      "/gpfs/home/jolinda/notebooks/TalapasClass\n"
     ]
    }
   ],
   "source": [
    "# there's also a special variable for it. \n",
    "!echo $PWD"
   ]
  },
  {
   "cell_type": "markdown",
   "metadata": {},
   "source": [
    "You can use for loops like this. Separate commands with semicolons."
   ]
  },
  {
   "cell_type": "code",
   "execution_count": 10,
   "metadata": {},
   "outputs": [
    {
     "name": "stdout",
     "output_type": "stream",
     "text": [
      "0.MinimalLinux.ipynb\n",
      "1.TalapasIntro.ipynb\n"
     ]
    }
   ],
   "source": [
    "%%bash\n",
    "for x in *.ipynb; do echo $x; done"
   ]
  },
  {
   "cell_type": "markdown",
   "metadata": {},
   "source": [
    "You can parse bash variables using '#' and '%'. '#' throws away anything to the LEFT that matches. '%' throws away anything to the RIGHT that matches. I remember this by looking at the keyboard: # is to the left of %. Double ## and %% match the BIGGEST match, single # and % match the smallest."
   ]
  },
  {
   "cell_type": "code",
   "execution_count": 11,
   "metadata": {},
   "outputs": [
    {
     "name": "stdout",
     "output_type": "stream",
     "text": [
      "0.MinimalLinux\n",
      "1.TalapasIntro\n",
      "\n",
      "0.MinimalLinux.ipynb\n",
      "1.\n",
      "\n",
      "0.MinimalLinux.ipynb\n",
      "1.\n",
      "\n",
      "MinimalLinux.ipynb\n",
      "TalapasIntro.ipynb\n",
      "\n",
      "0.MinimalLinux.ipynb\n",
      "alapasIntro.ipynb\n",
      "\n",
      "0.MinimalLinux.ipynb\n",
      "alapasIntro.ipynb\n"
     ]
    }
   ],
   "source": [
    "%%bash\n",
    "for x in *.ipynb; do echo ${x%.ipynb}; done\n",
    "echo ''\n",
    "for x in *.ipynb; do echo ${x%T*}; done\n",
    "echo ''\n",
    "for x in *.ipynb; do echo ${x%%T*}; done\n",
    "echo ''\n",
    "for x in *.ipynb; do echo ${x#*.}; done\n",
    "echo ''\n",
    "for x in *.ipynb; do echo ${x#*T}; done\n",
    "echo ''\n",
    "for x in *.ipynb; do echo ${x##*T}; done"
   ]
  },
  {
   "cell_type": "code",
   "execution_count": 12,
   "metadata": {},
   "outputs": [],
   "source": [
    "# write to a file with '>'\n",
    "!ls > newfile.txt"
   ]
  },
  {
   "cell_type": "code",
   "execution_count": 13,
   "metadata": {},
   "outputs": [
    {
     "name": "stdout",
     "output_type": "stream",
     "text": [
      "0.MinimalLinux.ipynb\n",
      "1.TalapasIntro.ipynb\n",
      "1.images\n",
      "README.md\n",
      "fslinfo.srun\n",
      "hello_everyone.srun\n",
      "newfile.txt\n"
     ]
    }
   ],
   "source": [
    "# see a file with cat\n",
    "!cat newfile.txt"
   ]
  },
  {
   "cell_type": "code",
   "execution_count": 14,
   "metadata": {},
   "outputs": [],
   "source": [
    "# append to a file with '>>'\n",
    "!echo 'hello' >> newfile.txt"
   ]
  },
  {
   "cell_type": "code",
   "execution_count": 15,
   "metadata": {},
   "outputs": [
    {
     "name": "stdout",
     "output_type": "stream",
     "text": [
      "0.MinimalLinux.ipynb\n",
      "1.TalapasIntro.ipynb\n",
      "1.images\n",
      "README.md\n",
      "fslinfo.srun\n",
      "hello_everyone.srun\n",
      "newfile.txt\n",
      "hello\n"
     ]
    }
   ],
   "source": [
    "!cat newfile.txt"
   ]
  },
  {
   "cell_type": "markdown",
   "metadata": {},
   "source": [
    "grep is useful for searching through a file or the output of a command. It prints matching lines."
   ]
  },
  {
   "cell_type": "code",
   "execution_count": 16,
   "metadata": {},
   "outputs": [
    {
     "name": "stdout",
     "output_type": "stream",
     "text": [
      "0.MinimalLinux.ipynb\n",
      "1.TalapasIntro.ipynb\n"
     ]
    }
   ],
   "source": [
    "!grep 'ipy' newfile.txt"
   ]
  },
  {
   "cell_type": "markdown",
   "metadata": {},
   "source": [
    "string commands together using the 'pipe' operator: |"
   ]
  },
  {
   "cell_type": "code",
   "execution_count": 18,
   "metadata": {},
   "outputs": [
    {
     "name": "stdout",
     "output_type": "stream",
     "text": [
      "-rw-r--r-- 1 jolinda talapas    40 Jun 13 11:08 fslinfo.srun\n",
      "-rw-r--r-- 1 jolinda talapas   168 Jun 13 15:09 hello_everyone.srun\n"
     ]
    }
   ],
   "source": [
    "ls -l | grep .srun"
   ]
  },
  {
   "cell_type": "markdown",
   "metadata": {},
   "source": [
    "sed lets you replace strings. Syntax is s:{match}:{replace}g"
   ]
  },
  {
   "cell_type": "code",
   "execution_count": 23,
   "metadata": {},
   "outputs": [],
   "source": [
    "!sed 's:ipynb:donut:g' newfile.txt > donutfile.txt"
   ]
  },
  {
   "cell_type": "code",
   "execution_count": 24,
   "metadata": {},
   "outputs": [
    {
     "name": "stdout",
     "output_type": "stream",
     "text": [
      "0.MinimalLinux.donut\n",
      "1.TalapasIntro.donut\n",
      "1.images\n",
      "README.md\n",
      "fslinfo.srun\n",
      "hello_everyone.srun\n",
      "newfile.txt\n",
      "hello\n"
     ]
    }
   ],
   "source": [
    "!cat donutfile.txt"
   ]
  },
  {
   "cell_type": "markdown",
   "metadata": {},
   "source": [
    "you can use any character for the separator, doesn't have to be a colon. To change the contents of a file add the '-i' inplace field."
   ]
  },
  {
   "cell_type": "markdown",
   "metadata": {},
   "source": [
    "Delete a file with rm {filename}. Delete a directory with rmdir {dirname} (must be empty), or rm -r {dirname}."
   ]
  },
  {
   "cell_type": "code",
   "execution_count": 25,
   "metadata": {},
   "outputs": [],
   "source": [
    "!rm donutfile.txt"
   ]
  },
  {
   "cell_type": "markdown",
   "metadata": {},
   "source": [
    "Make a new directory with mkdir."
   ]
  },
  {
   "cell_type": "code",
   "execution_count": 26,
   "metadata": {},
   "outputs": [],
   "source": [
    "!mkdir temp"
   ]
  },
  {
   "cell_type": "markdown",
   "metadata": {},
   "source": [
    "Copy a file with cp. Move it with mv."
   ]
  },
  {
   "cell_type": "code",
   "execution_count": 27,
   "metadata": {},
   "outputs": [],
   "source": [
    "!cp newfile.txt copy.txt"
   ]
  },
  {
   "cell_type": "code",
   "execution_count": 28,
   "metadata": {},
   "outputs": [],
   "source": [
    "!mv copy.txt temp/copy.txt"
   ]
  },
  {
   "cell_type": "code",
   "execution_count": 29,
   "metadata": {},
   "outputs": [
    {
     "name": "stdout",
     "output_type": "stream",
     "text": [
      "rmdir: failed to remove 'temp': Directory not empty\n"
     ]
    }
   ],
   "source": [
    "!rmdir temp"
   ]
  },
  {
   "cell_type": "code",
   "execution_count": 30,
   "metadata": {},
   "outputs": [],
   "source": [
    "!rm -r temp"
   ]
  },
  {
   "cell_type": "code",
   "execution_count": null,
   "metadata": {},
   "outputs": [],
   "source": []
  }
 ],
 "metadata": {
  "kernelspec": {
   "display_name": "Python 3",
   "language": "python",
   "name": "python3"
  },
  "language_info": {
   "codemirror_mode": {
    "name": "ipython",
    "version": 3
   },
   "file_extension": ".py",
   "mimetype": "text/x-python",
   "name": "python",
   "nbconvert_exporter": "python",
   "pygments_lexer": "ipython3",
   "version": "3.6.8"
  }
 },
 "nbformat": 4,
 "nbformat_minor": 2
}
