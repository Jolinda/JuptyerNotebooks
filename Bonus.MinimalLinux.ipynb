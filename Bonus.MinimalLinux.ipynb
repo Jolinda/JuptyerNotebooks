{
 "cells": [
  {
   "cell_type": "markdown",
   "metadata": {},
   "source": [
    "This is a very short guide to linux: the smallest amount you can possibly know and still accomplish most of what you need to do (in my experience)."
   ]
  },
  {
   "cell_type": "markdown",
   "metadata": {},
   "source": [
    "## Shells\n",
    "There are various \"shells\" in linux, but everything I do here is 'bash'. To run bash commands in a Jupyter notebook, preface them with %%bash or an exclamation point (if bash is your current shell)."
   ]
  },
  {
   "cell_type": "code",
   "execution_count": 1,
   "metadata": {},
   "outputs": [
    {
     "name": "stdout",
     "output_type": "stream",
     "text": [
      "/bin/bash\r\n"
     ]
    }
   ],
   "source": [
    "!echo $SHELL"
   ]
  },
  {
   "cell_type": "code",
   "execution_count": 2,
   "metadata": {},
   "outputs": [
    {
     "name": "stdout",
     "output_type": "stream",
     "text": [
      "LinuxThings.ipynb\n",
      "TalapasTour.ipynb\n",
      "partitions.png\n",
      "test.ipynb\n",
      "hello\n"
     ]
    }
   ],
   "source": [
    "%%bash\n",
    "ls\n",
    "echo 'hello'"
   ]
  },
  {
   "cell_type": "code",
   "execution_count": 3,
   "metadata": {},
   "outputs": [
    {
     "name": "stdout",
     "output_type": "stream",
     "text": [
      "total 84\r\n",
      "-rw-r--r-- 1 jolinda jolinda 12390 Apr  7 14:22 LinuxThings.ipynb\r\n",
      "-rw-r--r-- 1 jolinda jolinda  2712 Apr  7 12:45 TalapasTour.ipynb\r\n",
      "-rw-r--r-- 1 jolinda jolinda 59940 Apr  7 12:17 partitions.png\r\n",
      "-rw-r--r-- 1 jolinda jolinda  1824 Apr  7 11:46 test.ipynb\r\n"
     ]
    }
   ],
   "source": [
    "!ls -l"
   ]
  },
  {
   "cell_type": "code",
   "execution_count": 4,
   "metadata": {},
   "outputs": [
    {
     "name": "stdout",
     "output_type": "stream",
     "text": [
      "/home/jolinda/talapas_class\r\n"
     ]
    }
   ],
   "source": [
    "# what's the current directory?\n",
    "!pwd"
   ]
  },
  {
   "cell_type": "code",
   "execution_count": 5,
   "metadata": {},
   "outputs": [
    {
     "name": "stdout",
     "output_type": "stream",
     "text": [
      "/home/jolinda/talapas_class\r\n"
     ]
    }
   ],
   "source": [
    "# there's also a special variable for it. Put a $ in front of variable names.\n",
    "!echo $PWD"
   ]
  },
  {
   "cell_type": "markdown",
   "metadata": {},
   "source": [
    "Example: assign current directory to a variable. Navigate away. Navigate back. cd = change directory"
   ]
  },
  {
   "cell_type": "code",
   "execution_count": 6,
   "metadata": {},
   "outputs": [
    {
     "name": "stdout",
     "output_type": "stream",
     "text": [
      "/home/jolinda\n",
      "/home/jolinda/talapas_class\n"
     ]
    }
   ],
   "source": [
    "%%bash\n",
    "mydir=$PWD # No space around the equal sign! No $ in front of your new variable name here\n",
    "cd ..\n",
    "pwd\n",
    "cd $mydir # you need the $ now\n",
    "pwd"
   ]
  },
  {
   "cell_type": "code",
   "execution_count": 7,
   "metadata": {},
   "outputs": [
    {
     "name": "stdout",
     "output_type": "stream",
     "text": [
      "\r\n"
     ]
    }
   ],
   "source": [
    "# each one of these cells is like a new shell, it won't remember variables\n",
    "!echo $mydir"
   ]
  },
  {
   "cell_type": "code",
   "execution_count": 8,
   "metadata": {},
   "outputs": [],
   "source": [
    "# you can assign linux output to a variable in the notebook like this\n",
    "mydir = !pwd"
   ]
  },
  {
   "cell_type": "code",
   "execution_count": 9,
   "metadata": {},
   "outputs": [
    {
     "data": {
      "text/plain": [
       "['/home/jolinda/talapas_class']"
      ]
     },
     "execution_count": 9,
     "metadata": {},
     "output_type": "execute_result"
    }
   ],
   "source": [
    "mydir"
   ]
  },
  {
   "cell_type": "code",
   "execution_count": 10,
   "metadata": {},
   "outputs": [],
   "source": [
    "# this is a list, here's a more complicated version\n",
    "mydir_contents = !ls -l"
   ]
  },
  {
   "cell_type": "code",
   "execution_count": 11,
   "metadata": {},
   "outputs": [
    {
     "data": {
      "text/plain": [
       "['total 84',\n",
       " '-rw-r--r-- 1 jolinda jolinda 12390 Apr  7 14:22 LinuxThings.ipynb',\n",
       " '-rw-r--r-- 1 jolinda jolinda  2712 Apr  7 12:45 TalapasTour.ipynb',\n",
       " '-rw-r--r-- 1 jolinda jolinda 59940 Apr  7 12:17 partitions.png',\n",
       " '-rw-r--r-- 1 jolinda jolinda  1824 Apr  7 11:46 test.ipynb']"
      ]
     },
     "execution_count": 11,
     "metadata": {},
     "output_type": "execute_result"
    }
   ],
   "source": [
    "mydir_contents"
   ]
  },
  {
   "cell_type": "markdown",
   "metadata": {},
   "source": [
    "You can pass a variable to bash using brackets"
   ]
  },
  {
   "cell_type": "code",
   "execution_count": 12,
   "metadata": {},
   "outputs": [
    {
     "name": "stdout",
     "output_type": "stream",
     "text": [
      "/home/jolinda/talapas_class\r\n"
     ]
    }
   ],
   "source": [
    "!echo {mydir[0]}"
   ]
  },
  {
   "cell_type": "markdown",
   "metadata": {},
   "source": [
    "When using the %%bash cell magic you can pass arguments using the -s command"
   ]
  },
  {
   "cell_type": "code",
   "execution_count": 13,
   "metadata": {},
   "outputs": [
    {
     "name": "stdout",
     "output_type": "stream",
     "text": [
      "/home/jolinda/talapas_class\n"
     ]
    }
   ],
   "source": [
    "%%bash -s \"{mydir[0]}\"\n",
    "echo $1"
   ]
  },
  {
   "cell_type": "markdown",
   "metadata": {},
   "source": [
    "Wildcards: '*' matches any number of characters. '?' matches a single character. There are more but these are the most usefule"
   ]
  },
  {
   "cell_type": "code",
   "execution_count": 14,
   "metadata": {},
   "outputs": [
    {
     "name": "stdout",
     "output_type": "stream",
     "text": [
      "LinuxThings.ipynb  TalapasTour.ipynb  test.ipynb\r\n"
     ]
    }
   ],
   "source": [
    "!ls *.ipynb"
   ]
  },
  {
   "cell_type": "code",
   "execution_count": 15,
   "metadata": {},
   "outputs": [
    {
     "name": "stdout",
     "output_type": "stream",
     "text": [
      "test.ipynb\n"
     ]
    }
   ],
   "source": [
    "%%bash\n",
    "ls ?est.ipyn?"
   ]
  },
  {
   "cell_type": "markdown",
   "metadata": {},
   "source": [
    "For loops. Separate commands with semicolons"
   ]
  },
  {
   "cell_type": "code",
   "execution_count": 16,
   "metadata": {},
   "outputs": [
    {
     "name": "stdout",
     "output_type": "stream",
     "text": [
      "LinuxThings.ipynb\n",
      "TalapasTour.ipynb\n",
      "test.ipynb\n"
     ]
    }
   ],
   "source": [
    "%%bash\n",
    "for x in *.ipynb; do echo $x; done"
   ]
  },
  {
   "cell_type": "markdown",
   "metadata": {},
   "source": [
    "You can parse bash variables using '#' and '%'. '#' throws away anything to the LEFT that matches. '%' throws away anything to the RIGHT that matches. I remember this by looking at the keyboard: # is to the left of %. Double ## and %% match the BIGGEST match, single # and % match the smallest."
   ]
  },
  {
   "cell_type": "code",
   "execution_count": 17,
   "metadata": {},
   "outputs": [
    {
     "name": "stdout",
     "output_type": "stream",
     "text": [
      "LinuxThings\n",
      "TalapasTour\n",
      "test\n",
      "\n",
      "Linux\n",
      "Talapas\n",
      "test.ipynb\n",
      "\n",
      "Linux\n",
      "\n",
      "test.ipynb\n",
      "\n",
      "ipynb\n",
      "ipynb\n",
      "ipynb\n",
      "\n",
      "hings.ipynb\n",
      "alapasTour.ipynb\n",
      "test.ipynb\n",
      "\n",
      "hings.ipynb\n",
      "our.ipynb\n",
      "test.ipynb\n"
     ]
    }
   ],
   "source": [
    "%%bash\n",
    "for x in *.ipynb; do echo ${x%.ipynb}; done\n",
    "echo ''\n",
    "for x in *.ipynb; do echo ${x%T*}; done\n",
    "echo ''\n",
    "for x in *.ipynb; do echo ${x%%T*}; done\n",
    "echo ''\n",
    "for x in *.ipynb; do echo ${x#*.}; done\n",
    "echo ''\n",
    "for x in *.ipynb; do echo ${x#*T}; done\n",
    "echo ''\n",
    "for x in *.ipynb; do echo ${x##*T}; done"
   ]
  },
  {
   "cell_type": "code",
   "execution_count": 18,
   "metadata": {},
   "outputs": [],
   "source": [
    "# write to a file with '>'\n",
    "!ls > newfile.txt"
   ]
  },
  {
   "cell_type": "code",
   "execution_count": 19,
   "metadata": {},
   "outputs": [
    {
     "name": "stdout",
     "output_type": "stream",
     "text": [
      "LinuxThings.ipynb\r\n",
      "TalapasTour.ipynb\r\n",
      "newfile.txt\r\n",
      "partitions.png\r\n",
      "test.ipynb\r\n"
     ]
    }
   ],
   "source": [
    "# see a file with cat\n",
    "!cat newfile.txt"
   ]
  },
  {
   "cell_type": "code",
   "execution_count": 20,
   "metadata": {},
   "outputs": [],
   "source": [
    "# append to a file with '>>'\n",
    "!echo 'hello' >> newfile.txt"
   ]
  },
  {
   "cell_type": "markdown",
   "metadata": {},
   "source": [
    "cat, ls, and some other bash commands work in a Jupyter notebook without the exclamation point but you can't have a comment first"
   ]
  },
  {
   "cell_type": "code",
   "execution_count": 21,
   "metadata": {},
   "outputs": [
    {
     "name": "stdout",
     "output_type": "stream",
     "text": [
      "LinuxThings.ipynb\r\n",
      "TalapasTour.ipynb\r\n",
      "newfile.txt\r\n",
      "partitions.png\r\n",
      "test.ipynb\r\n",
      "hello\r\n"
     ]
    }
   ],
   "source": [
    "cat newfile.txt"
   ]
  },
  {
   "cell_type": "markdown",
   "metadata": {},
   "source": [
    "grep is useful for searching through a file or the output of a command. It prints matching lines."
   ]
  },
  {
   "cell_type": "code",
   "execution_count": 22,
   "metadata": {},
   "outputs": [
    {
     "name": "stdout",
     "output_type": "stream",
     "text": [
      "LinuxThings.ipynb\r\n",
      "TalapasTour.ipynb\r\n",
      "test.ipynb\r\n"
     ]
    }
   ],
   "source": [
    "!grep 'ipy' newfile.txt"
   ]
  },
  {
   "cell_type": "markdown",
   "metadata": {},
   "source": [
    "string commands together using the 'pipe' operator: |"
   ]
  },
  {
   "cell_type": "code",
   "execution_count": 23,
   "metadata": {},
   "outputs": [
    {
     "name": "stdout",
     "output_type": "stream",
     "text": [
      "-rw-r--r-- 1 jolinda jolinda 59940 Apr  7 12:17 \u001b[0m\u001b[01;35mpartitions.png\u001b[0m\r\n"
     ]
    }
   ],
   "source": [
    "ls -l | grep .png"
   ]
  },
  {
   "cell_type": "markdown",
   "metadata": {},
   "source": [
    "sed lets you replace strings. Syntax is s:{match}:{replace}g"
   ]
  },
  {
   "cell_type": "code",
   "execution_count": 24,
   "metadata": {},
   "outputs": [
    {
     "name": "stdout",
     "output_type": "stream",
     "text": [
      "LinuxThings.donutynb\r\n",
      "TalapasTour.donutynb\r\n",
      "newfile.txt\r\n",
      "\u001b[0m\u001b[01;35mpartitions.png\u001b[0m\r\n",
      "test.donutynb\r\n"
     ]
    }
   ],
   "source": [
    "ls | sed 's:ip:donut:g'"
   ]
  },
  {
   "cell_type": "markdown",
   "metadata": {},
   "source": [
    "you can use any character for the separator, doesn't have to be a colon. To change the contents of a file add the '-i' inplace field."
   ]
  },
  {
   "cell_type": "code",
   "execution_count": 25,
   "metadata": {},
   "outputs": [],
   "source": [
    "%%bash\n",
    "sed -i 'saipadonutag' newfile.txt"
   ]
  },
  {
   "cell_type": "code",
   "execution_count": 26,
   "metadata": {},
   "outputs": [
    {
     "name": "stdout",
     "output_type": "stream",
     "text": [
      "LinuxThings.donutynb\r\n",
      "TalapasTour.donutynb\r\n",
      "newfile.txt\r\n",
      "partitions.png\r\n",
      "test.donutynb\r\n",
      "hello\r\n"
     ]
    }
   ],
   "source": [
    "cat newfile.txt"
   ]
  },
  {
   "cell_type": "markdown",
   "metadata": {},
   "source": [
    "Delete a file with rm {filename}. Delete a directory with rmdir {dirname} (must be empty), or rm -r {dirname}."
   ]
  },
  {
   "cell_type": "code",
   "execution_count": 27,
   "metadata": {},
   "outputs": [],
   "source": [
    "!rm newfile.txt"
   ]
  },
  {
   "cell_type": "code",
   "execution_count": null,
   "metadata": {},
   "outputs": [],
   "source": []
  }
 ],
 "metadata": {
  "kernelspec": {
   "display_name": "Python 3",
   "language": "python",
   "name": "python3"
  },
  "language_info": {
   "codemirror_mode": {
    "name": "ipython",
    "version": 3
   },
   "file_extension": ".py",
   "mimetype": "text/x-python",
   "name": "python",
   "nbconvert_exporter": "python",
   "pygments_lexer": "ipython3",
   "version": "3.6.5"
  }
 },
 "nbformat": 4,
 "nbformat_minor": 2
}
