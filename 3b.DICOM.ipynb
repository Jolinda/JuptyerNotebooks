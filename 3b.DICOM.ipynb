{
 "cells": [
  {
   "cell_type": "markdown",
   "metadata": {},
   "source": [
    "We're finally ready to start looking at some data! Most files off the scanner come out as DICOM format files. DICOM stands for Digital Imaging and Communications in Medicine. The DICOM standard defines not just the file format, but also storage, transmission, retrieval, printing, and display of medical images."
   ]
  },
  {
   "cell_type": "markdown",
   "metadata": {},
   "source": [
    "DICOM files store information in elements. Each element includes a tag (a pair of hexadecimal values) , a value representation, and a value. For example, element (0008, 1030) is the Study Description and the value representation is LO (long string). A \"study\" corresponds to a scanning session. On our scanner, the study description includes the  Region^Protocol^Exam information from Dot Cockpit. We've set up the protocols so that Region = pirg, Protocol = PI, and Exam = protocol. This information is then used by the dicom receiver on talapas to sort dicom files into their correct directories."
   ]
  },
  {
   "cell_type": "code",
   "execution_count": 1,
   "metadata": {},
   "outputs": [],
   "source": [
    "dcmdir = '/projects/lcni/dcm'"
   ]
  },
  {
   "cell_type": "code",
   "execution_count": 2,
   "metadata": {},
   "outputs": [
    {
     "data": {
      "text/plain": [
       "['hulacon',\n",
       " 'adapt_lab',\n",
       " 'kuhl_lab',\n",
       " 'giuliani_lab',\n",
       " 'mayrlab',\n",
       " 'csnl',\n",
       " 'lcni',\n",
       " 'temporary',\n",
       " 'snaplab',\n",
       " 'dsnlab',\n",
       " 'bamlab',\n",
       " 'storescu.cfg',\n",
       " 'TalapasClass',\n",
       " 'sanlab']"
      ]
     },
     "execution_count": 2,
     "metadata": {},
     "output_type": "execute_result"
    }
   ],
   "source": [
    "import os\n",
    "os.listdir(dcmdir)"
   ]
  },
  {
   "cell_type": "markdown",
   "metadata": {},
   "source": [
    "You won't be able to view files outside your own pirg."
   ]
  },
  {
   "cell_type": "code",
   "execution_count": 3,
   "metadata": {},
   "outputs": [
    {
     "data": {
      "text/plain": [
       "['Smith']"
      ]
     },
     "execution_count": 3,
     "metadata": {},
     "output_type": "execute_result"
    }
   ],
   "source": [
    "os.listdir(os.path.join(dcmdir, 'TalapasClass'))"
   ]
  },
  {
   "cell_type": "code",
   "execution_count": 4,
   "metadata": {},
   "outputs": [
    {
     "data": {
      "text/plain": [
       "'/projects/lcni/dcm/TalapasClass/Smith'"
      ]
     },
     "execution_count": 4,
     "metadata": {},
     "output_type": "execute_result"
    }
   ],
   "source": [
    "os.path.join(dcmdir, 'TalapasClass', 'Smith')"
   ]
  },
  {
   "cell_type": "code",
   "execution_count": 5,
   "metadata": {},
   "outputs": [],
   "source": [
    "classdir = os.path.join(dcmdir, 'TalapasClass', 'Smith', 'TC')"
   ]
  },
  {
   "cell_type": "code",
   "execution_count": 6,
   "metadata": {},
   "outputs": [
    {
     "data": {
      "text/plain": [
       "['TC002_20180916_090647', 'TC001_20180620_110428']"
      ]
     },
     "execution_count": 6,
     "metadata": {},
     "output_type": "execute_result"
    }
   ],
   "source": [
    "os.listdir(classdir)"
   ]
  },
  {
   "cell_type": "markdown",
   "metadata": {},
   "source": [
    "Each scan session will be in a directory with the name subjectname_studydate_studytime. Inside each folder will be another folder for each dicom series. Some sequences produce one series, some produce multiple series."
   ]
  },
  {
   "cell_type": "code",
   "execution_count": 7,
   "metadata": {},
   "outputs": [
    {
     "name": "stdout",
     "output_type": "stream",
     "text": [
      "/projects/lcni/dcm/TalapasClass/Smith/TC\n",
      "|-- TC001_20180620_110428\n",
      "|   |-- Series_10_bold_DIFTIM_1.7mm\n",
      "|   |-- Series_11_bold_DIFTIM_1.7mm\n",
      "|   |-- Series_1_AAHead_Scout_32ch-head-coil\n",
      "|   |-- Series_2_AAHead_Scout_32ch-head-coil_MPR_sag\n",
      "|   |-- Series_3_AAHead_Scout_32ch-head-coil_MPR_cor\n",
      "|   |-- Series_4_AAHead_Scout_32ch-head-coil_MPR_tra\n",
      "|   |-- Series_5_mprage_p2\n",
      "|   |-- Series_6_bold_DIFTIM_1.7mm\n",
      "|   |-- Series_7_bold_DIFTIM_1.7mm\n",
      "|   |-- Series_8_se_epi_1.7mm_ap\n",
      "|   `-- Series_9_se_epi_1.7mm_pa\n",
      "`-- TC002_20180916_090647\n",
      "    |-- Series_1_localizer\n",
      "    |-- Series_2_mprage_p2\n",
      "    `-- Series_3_SVC_1_bold_mb3_g2_2mm_te25\n",
      "\n",
      "16 directories\n"
     ]
    }
   ],
   "source": [
    "!tree {classdir} -d"
   ]
  },
  {
   "cell_type": "markdown",
   "metadata": {},
   "source": [
    "Yes, I stole these from other real studies, but don't worry, this is phantom data."
   ]
  },
  {
   "cell_type": "markdown",
   "metadata": {},
   "source": [
    "The dicom files can have any name really but ours are usually something like this"
   ]
  },
  {
   "cell_type": "code",
   "execution_count": 8,
   "metadata": {},
   "outputs": [
    {
     "name": "stdout",
     "output_type": "stream",
     "text": [
      "ls: cannot access /projects/lcni/dcm/TalapasClass/Smith/TC001_20180620_110428/Series_2_AAHead_Scout_32ch-head-coil_MPR_sag/: No such file or directory\n"
     ]
    }
   ],
   "source": [
    "ls /projects/lcni/dcm/TalapasClass/Smith/TC001_20180620_110428/Series_2_AAHead_Scout_32ch-head-coil_MPR_sag/"
   ]
  },
  {
   "cell_type": "markdown",
   "metadata": {},
   "source": [
    "You can see a modality and a date in there but I wouldn't waste time trying to parse that. Better to go into the dicom files and get the real info."
   ]
  },
  {
   "cell_type": "code",
   "execution_count": 9,
   "metadata": {},
   "outputs": [],
   "source": [
    "# We can grab a random dicom file with glob\n",
    "import glob\n",
    "filename = glob.glob(os.path.join(classdir, 'TC001*', 'Series_10*', '*'))[0]"
   ]
  },
  {
   "cell_type": "code",
   "execution_count": 10,
   "metadata": {},
   "outputs": [
    {
     "data": {
      "text/plain": [
       "'/projects/lcni/dcm/TalapasClass/Smith/TC/TC001_20180620_110428/Series_10_bold_DIFTIM_1.7mm/MR.1.3.12.2.1107.5.2.19.45348.2018062011400133617172731.dcm'"
      ]
     },
     "execution_count": 10,
     "metadata": {},
     "output_type": "execute_result"
    }
   ],
   "source": [
    "filename"
   ]
  },
  {
   "cell_type": "code",
   "execution_count": 11,
   "metadata": {},
   "outputs": [],
   "source": [
    "import pydicom"
   ]
  },
  {
   "cell_type": "code",
   "execution_count": 12,
   "metadata": {},
   "outputs": [],
   "source": [
    "dcmfile = pydicom.dcmread(filename)"
   ]
  },
  {
   "cell_type": "code",
   "execution_count": 25,
   "metadata": {},
   "outputs": [
    {
     "data": {
      "text/plain": [
       "(0008, 0005) Specific Character Set              CS: 'ISO_IR 100'\n",
       "(0008, 0008) Image Type                          CS: ['ORIGINAL', 'PRIMARY', 'M', 'MB', 'ND', 'NORM', 'MOSAIC']\n",
       "(0008, 0012) Instance Creation Date              DA: '20180620'\n",
       "(0008, 0013) Instance Creation Time              TM: '114020.906000'\n",
       "(0008, 0016) SOP Class UID                       UI: MR Image Storage\n",
       "(0008, 0018) SOP Instance UID                    UI: 1.3.12.2.1107.5.2.19.45348.2018062011400133617172731\n",
       "(0008, 0020) Study Date                          DA: '20180620'\n",
       "(0008, 0021) Series Date                         DA: '20180620'\n",
       "(0008, 0022) Acquisition Date                    DA: '20180620'\n",
       "(0008, 0023) Content Date                        DA: '20180620'\n",
       "(0008, 0030) Study Time                          TM: '110428.532000'\n",
       "(0008, 0031) Series Time                         TM: '113940.874000'\n",
       "(0008, 0032) Acquisition Time                    TM: '113958.195000'\n",
       "(0008, 0033) Content Time                        TM: '114020.906000'\n",
       "(0008, 0050) Accession Number                    SH: ''\n",
       "(0008, 0060) Modality                            CS: 'MR'\n",
       "(0008, 0070) Manufacturer                        LO: 'SIEMENS'\n",
       "(0008, 0080) Institution Name                    LO: 'Lewis Building'\n",
       "(0008, 0081) Institution Address                 ST: 'Franklin Blvd 1440,Eugene,District,US,97403'\n",
       "(0008, 0090) Referring Physician's Name          PN: ''\n",
       "(0008, 1010) Station Name                        SH: 'AWP45348'\n",
       "(0008, 1030) Study Description                   LO: 'TalapasClass^Smith^TC'\n",
       "(0008, 103e) Series Description                  LO: 'bold_DIFTIM_1.7mm'\n",
       "(0008, 1040) Institutional Department Name       LO: 'Department'\n",
       "(0008, 1050) Performing Physician's Name         PN: ''\n",
       "(0008, 1070) Operators' Name                     PN: 'Scott Watrous'\n",
       "(0008, 1090) Manufacturer's Model Name           LO: 'Skyra'\n",
       "(0008, 1140)  Referenced Image Sequence   3 item(s) ---- \n",
       "   (0008, 1150) Referenced SOP Class UID            UI: MR Image Storage\n",
       "   (0008, 1155) Referenced SOP Instance UID         UI: 1.3.12.2.1107.5.2.19.45348.201806201115543495728632\n",
       "   ---------\n",
       "   (0008, 1150) Referenced SOP Class UID            UI: MR Image Storage\n",
       "   (0008, 1155) Referenced SOP Instance UID         UI: 1.3.12.2.1107.5.2.19.45348.201806201115543524428633\n",
       "   ---------\n",
       "   (0008, 1150) Referenced SOP Class UID            UI: MR Image Storage\n",
       "   (0008, 1155) Referenced SOP Instance UID         UI: 1.3.12.2.1107.5.2.19.45348.201806201115543551028634\n",
       "   ---------\n",
       "(0008, 2112)  Source Image Sequence   72 item(s) ---- \n",
       "   (0008, 1150) Referenced SOP Class UID            UI: MR Image Storage\n",
       "   (0008, 1155) Referenced SOP Instance UID         UI: 1.3.12.2.1107.5.2.19.45348.2018062011395939138772520\n",
       "   ---------\n",
       "   (0008, 1150) Referenced SOP Class UID            UI: MR Image Storage\n",
       "   (0008, 1155) Referenced SOP Instance UID         UI: 1.3.12.2.1107.5.2.19.45348.2018062011395939232272522\n",
       "   ---------\n",
       "   (0008, 1150) Referenced SOP Class UID            UI: MR Image Storage\n",
       "   (0008, 1155) Referenced SOP Instance UID         UI: 1.3.12.2.1107.5.2.19.45348.2018062011395939190372521\n",
       "   ---------\n",
       "   (0008, 1150) Referenced SOP Class UID            UI: MR Image Storage\n",
       "   (0008, 1155) Referenced SOP Instance UID         UI: 1.3.12.2.1107.5.2.19.45348.2018062011395963885072540\n",
       "   ---------\n",
       "   (0008, 1150) Referenced SOP Class UID            UI: MR Image Storage\n",
       "   (0008, 1155) Referenced SOP Instance UID         UI: 1.3.12.2.1107.5.2.19.45348.2018062011395962977372536\n",
       "   ---------\n",
       "   (0008, 1150) Referenced SOP Class UID            UI: MR Image Storage\n",
       "   (0008, 1155) Referenced SOP Instance UID         UI: 1.3.12.2.1107.5.2.19.45348.2018062011395963636272539\n",
       "   ---------\n",
       "   (0008, 1150) Referenced SOP Class UID            UI: MR Image Storage\n",
       "   (0008, 1155) Referenced SOP Instance UID         UI: 1.3.12.2.1107.5.2.19.45348.2018062011395963446372537\n",
       "   ---------\n",
       "   (0008, 1150) Referenced SOP Class UID            UI: MR Image Storage\n",
       "   (0008, 1155) Referenced SOP Instance UID         UI: 1.3.12.2.1107.5.2.19.45348.2018062011395963471372538\n",
       "   ---------\n",
       "   (0008, 1150) Referenced SOP Class UID            UI: MR Image Storage\n",
       "   (0008, 1155) Referenced SOP Instance UID         UI: 1.3.12.2.1107.5.2.19.45348.2018062011395964800872541\n",
       "   ---------\n",
       "   (0008, 1150) Referenced SOP Class UID            UI: MR Image Storage\n",
       "   (0008, 1155) Referenced SOP Instance UID         UI: 1.3.12.2.1107.5.2.19.45348.2018062011395965150372542\n",
       "   ---------\n",
       "   (0008, 1150) Referenced SOP Class UID            UI: MR Image Storage\n",
       "   (0008, 1155) Referenced SOP Instance UID         UI: 1.3.12.2.1107.5.2.19.45348.2018062011395965648072544\n",
       "   ---------\n",
       "   (0008, 1150) Referenced SOP Class UID            UI: MR Image Storage\n",
       "   (0008, 1155) Referenced SOP Instance UID         UI: 1.3.12.2.1107.5.2.19.45348.2018062011395965530872543\n",
       "   ---------\n",
       "   (0008, 1150) Referenced SOP Class UID            UI: MR Image Storage\n",
       "   (0008, 1155) Referenced SOP Instance UID         UI: 1.3.12.2.1107.5.2.19.45348.2018062011395972797572557\n",
       "   ---------\n",
       "   (0008, 1150) Referenced SOP Class UID            UI: MR Image Storage\n",
       "   (0008, 1155) Referenced SOP Instance UID         UI: 1.3.12.2.1107.5.2.19.45348.2018062011395973340072559\n",
       "   ---------\n",
       "   (0008, 1150) Referenced SOP Class UID            UI: MR Image Storage\n",
       "   (0008, 1155) Referenced SOP Instance UID         UI: 1.3.12.2.1107.5.2.19.45348.2018062011395972941672558\n",
       "   ---------\n",
       "   (0008, 1150) Referenced SOP Class UID            UI: MR Image Storage\n",
       "   (0008, 1155) Referenced SOP Instance UID         UI: 1.3.12.2.1107.5.2.19.45348.2018062011395980625872566\n",
       "   ---------\n",
       "   (0008, 1150) Referenced SOP Class UID            UI: MR Image Storage\n",
       "   (0008, 1155) Referenced SOP Instance UID         UI: 1.3.12.2.1107.5.2.19.45348.2018062011395981089472568\n",
       "   ---------\n",
       "   (0008, 1150) Referenced SOP Class UID            UI: MR Image Storage\n",
       "   (0008, 1155) Referenced SOP Instance UID         UI: 1.3.12.2.1107.5.2.19.45348.2018062011395981060972567\n",
       "   ---------\n",
       "   (0008, 1150) Referenced SOP Class UID            UI: MR Image Storage\n",
       "   (0008, 1155) Referenced SOP Instance UID         UI: 1.3.12.2.1107.5.2.19.45348.2018062011395987672872569\n",
       "   ---------\n",
       "   (0008, 1150) Referenced SOP Class UID            UI: MR Image Storage\n",
       "   (0008, 1155) Referenced SOP Instance UID         UI: 1.3.12.2.1107.5.2.19.45348.2018062011395988010072570\n",
       "   ---------\n",
       "   (0008, 1150) Referenced SOP Class UID            UI: MR Image Storage\n",
       "   (0008, 1155) Referenced SOP Instance UID         UI: 1.3.12.2.1107.5.2.19.45348.2018062011395988219972571\n",
       "   ---------\n",
       "   (0008, 1150) Referenced SOP Class UID            UI: MR Image Storage\n",
       "   (0008, 1155) Referenced SOP Instance UID         UI: 1.3.12.2.1107.5.2.19.45348.2018062011395998725872584\n",
       "   ---------\n",
       "   (0008, 1150) Referenced SOP Class UID            UI: MR Image Storage\n",
       "   (0008, 1155) Referenced SOP Instance UID         UI: 1.3.12.2.1107.5.2.19.45348.2018062011395998994772585\n",
       "   ---------\n",
       "   (0008, 1150) Referenced SOP Class UID            UI: MR Image Storage\n",
       "   (0008, 1155) Referenced SOP Instance UID         UI: 1.3.12.2.1107.5.2.19.45348.2018062011395998996972586\n",
       "   ---------\n",
       "   (0008, 1150) Referenced SOP Class UID            UI: MR Image Storage\n",
       "   (0008, 1155) Referenced SOP Instance UID         UI: 1.3.12.2.1107.5.2.19.45348.201806201140007663272593\n",
       "   ---------\n",
       "   (0008, 1150) Referenced SOP Class UID            UI: MR Image Storage\n",
       "   (0008, 1155) Referenced SOP Instance UID         UI: 1.3.12.2.1107.5.2.19.45348.201806201140007897472595\n",
       "   ---------\n",
       "   (0008, 1150) Referenced SOP Class UID            UI: MR Image Storage\n",
       "   (0008, 1155) Referenced SOP Instance UID         UI: 1.3.12.2.1107.5.2.19.45348.201806201140007892372594\n",
       "   ---------\n",
       "   (0008, 1150) Referenced SOP Class UID            UI: MR Image Storage\n",
       "   (0008, 1155) Referenced SOP Instance UID         UI: 1.3.12.2.1107.5.2.19.45348.2018062011400020595072602\n",
       "   ---------\n",
       "   (0008, 1150) Referenced SOP Class UID            UI: MR Image Storage\n",
       "   (0008, 1155) Referenced SOP Instance UID         UI: 1.3.12.2.1107.5.2.19.45348.2018062011400020997772603\n",
       "   ---------\n",
       "   (0008, 1150) Referenced SOP Class UID            UI: MR Image Storage\n",
       "   (0008, 1155) Referenced SOP Instance UID         UI: 1.3.12.2.1107.5.2.19.45348.2018062011400021901472613\n",
       "   ---------\n",
       "   (0008, 1150) Referenced SOP Class UID            UI: MR Image Storage\n",
       "   (0008, 1155) Referenced SOP Instance UID         UI: 1.3.12.2.1107.5.2.19.45348.2018062011400021547872611\n",
       "   ---------\n",
       "   (0008, 1150) Referenced SOP Class UID            UI: MR Image Storage\n",
       "   (0008, 1155) Referenced SOP Instance UID         UI: 1.3.12.2.1107.5.2.19.45348.2018062011400021595772612\n",
       "   ---------\n",
       "   (0008, 1150) Referenced SOP Class UID            UI: MR Image Storage\n",
       "   (0008, 1155) Referenced SOP Instance UID         UI: 1.3.12.2.1107.5.2.19.45348.2018062011400021414172610\n",
       "   ---------\n",
       "   (0008, 1150) Referenced SOP Class UID            UI: MR Image Storage\n",
       "   (0008, 1155) Referenced SOP Instance UID         UI: 1.3.12.2.1107.5.2.19.45348.2018062011400029545972614\n",
       "   ---------\n",
       "   (0008, 1150) Referenced SOP Class UID            UI: MR Image Storage\n",
       "   (0008, 1155) Referenced SOP Instance UID         UI: 1.3.12.2.1107.5.2.19.45348.2018062011400030341072622\n",
       "   ---------\n",
       "   (0008, 1150) Referenced SOP Class UID            UI: MR Image Storage\n",
       "   (0008, 1155) Referenced SOP Instance UID         UI: 1.3.12.2.1107.5.2.19.45348.2018062011400030031472621\n",
       "   ---------\n",
       "   (0008, 1150) Referenced SOP Class UID            UI: MR Image Storage\n",
       "   (0008, 1155) Referenced SOP Instance UID         UI: 1.3.12.2.1107.5.2.19.45348.2018062011400051647172635\n",
       "   ---------\n",
       "   (0008, 1150) Referenced SOP Class UID            UI: MR Image Storage\n",
       "   (0008, 1155) Referenced SOP Instance UID         UI: 1.3.12.2.1107.5.2.19.45348.2018062011400051886472636\n",
       "   ---------\n",
       "   (0008, 1150) Referenced SOP Class UID            UI: MR Image Storage\n",
       "   (0008, 1155) Referenced SOP Instance UID         UI: 1.3.12.2.1107.5.2.19.45348.2018062011400051958872637\n",
       "   ---------\n",
       "   (0008, 1150) Referenced SOP Class UID            UI: MR Image Storage\n",
       "   (0008, 1155) Referenced SOP Instance UID         UI: 1.3.12.2.1107.5.2.19.45348.2018062011400052468372639\n",
       "   ---------\n",
       "   (0008, 1150) Referenced SOP Class UID            UI: MR Image Storage\n",
       "   (0008, 1155) Referenced SOP Instance UID         UI: 1.3.12.2.1107.5.2.19.45348.2018062011400053846572640\n",
       "   ---------\n",
       "   (0008, 1150) Referenced SOP Class UID            UI: MR Image Storage\n",
       "   (0008, 1155) Referenced SOP Instance UID         UI: 1.3.12.2.1107.5.2.19.45348.2018062011400051964872638\n",
       "   ---------\n",
       "   (0008, 1150) Referenced SOP Class UID            UI: MR Image Storage\n",
       "   (0008, 1155) Referenced SOP Instance UID         UI: 1.3.12.2.1107.5.2.19.45348.2018062011400054024572641\n",
       "   ---------\n",
       "   (0008, 1150) Referenced SOP Class UID            UI: MR Image Storage\n",
       "   (0008, 1155) Referenced SOP Instance UID         UI: 1.3.12.2.1107.5.2.19.45348.2018062011400055406372648\n",
       "   ---------\n",
       "   (0008, 1150) Referenced SOP Class UID            UI: MR Image Storage\n",
       "   (0008, 1155) Referenced SOP Instance UID         UI: 1.3.12.2.1107.5.2.19.45348.2018062011400055575972649\n",
       "   ---------\n",
       "   (0008, 1150) Referenced SOP Class UID            UI: MR Image Storage\n",
       "   (0008, 1155) Referenced SOP Instance UID         UI: 1.3.12.2.1107.5.2.19.45348.2018062011400062372572650\n",
       "   ---------\n",
       "   (0008, 1150) Referenced SOP Class UID            UI: MR Image Storage\n",
       "   (0008, 1155) Referenced SOP Instance UID         UI: 1.3.12.2.1107.5.2.19.45348.2018062011400062527072651\n",
       "   ---------\n",
       "   (0008, 1150) Referenced SOP Class UID            UI: MR Image Storage\n",
       "   (0008, 1155) Referenced SOP Instance UID         UI: 1.3.12.2.1107.5.2.19.45348.2018062011400062635172658\n",
       "   ---------\n",
       "   (0008, 1150) Referenced SOP Class UID            UI: MR Image Storage\n",
       "   (0008, 1155) Referenced SOP Instance UID         UI: 1.3.12.2.1107.5.2.19.45348.2018062011400071409472665\n",
       "   ---------\n",
       "   (0008, 1150) Referenced SOP Class UID            UI: MR Image Storage\n",
       "   (0008, 1155) Referenced SOP Instance UID         UI: 1.3.12.2.1107.5.2.19.45348.2018062011400071793972666\n",
       "   ---------\n",
       "   (0008, 1150) Referenced SOP Class UID            UI: MR Image Storage\n",
       "   (0008, 1155) Referenced SOP Instance UID         UI: 1.3.12.2.1107.5.2.19.45348.2018062011400071866672667\n",
       "   ---------\n",
       "   (0008, 1150) Referenced SOP Class UID            UI: MR Image Storage\n",
       "   (0008, 1155) Referenced SOP Instance UID         UI: 1.3.12.2.1107.5.2.19.45348.2018062011400080507672676\n",
       "   ---------\n",
       "   (0008, 1150) Referenced SOP Class UID            UI: MR Image Storage\n",
       "   (0008, 1155) Referenced SOP Instance UID         UI: 1.3.12.2.1107.5.2.19.45348.2018062011400080019372675\n",
       "   ---------\n",
       "   (0008, 1150) Referenced SOP Class UID            UI: MR Image Storage\n",
       "   (0008, 1155) Referenced SOP Instance UID         UI: 1.3.12.2.1107.5.2.19.45348.2018062011400079921972674\n",
       "   ---------\n",
       "   (0008, 1150) Referenced SOP Class UID            UI: MR Image Storage\n",
       "   (0008, 1155) Referenced SOP Instance UID         UI: 1.3.12.2.1107.5.2.19.45348.2018062011400088476272683\n",
       "   ---------\n",
       "   (0008, 1150) Referenced SOP Class UID            UI: MR Image Storage\n",
       "   (0008, 1155) Referenced SOP Instance UID         UI: 1.3.12.2.1107.5.2.19.45348.2018062011400090389272685\n",
       "   ---------\n",
       "   (0008, 1150) Referenced SOP Class UID            UI: MR Image Storage\n",
       "   (0008, 1155) Referenced SOP Instance UID         UI: 1.3.12.2.1107.5.2.19.45348.2018062011400088882372684\n",
       "   ---------\n",
       "   (0008, 1150) Referenced SOP Class UID            UI: MR Image Storage\n",
       "   (0008, 1155) Referenced SOP Instance UID         UI: 1.3.12.2.1107.5.2.19.45348.201806201140011778072692\n",
       "   ---------\n",
       "   (0008, 1150) Referenced SOP Class UID            UI: MR Image Storage\n",
       "   (0008, 1155) Referenced SOP Instance UID         UI: 1.3.12.2.1107.5.2.19.45348.201806201140012284872694\n",
       "   ---------\n",
       "   (0008, 1150) Referenced SOP Class UID            UI: MR Image Storage\n",
       "   (0008, 1155) Referenced SOP Instance UID         UI: 1.3.12.2.1107.5.2.19.45348.201806201140012130472693\n",
       "   ---------\n",
       "   (0008, 1150) Referenced SOP Class UID            UI: MR Image Storage\n",
       "   (0008, 1155) Referenced SOP Instance UID         UI: 1.3.12.2.1107.5.2.19.45348.201806201140014230072697\n",
       "   ---------\n",
       "   (0008, 1150) Referenced SOP Class UID            UI: MR Image Storage\n",
       "   (0008, 1155) Referenced SOP Instance UID         UI: 1.3.12.2.1107.5.2.19.45348.201806201140014092272695\n",
       "   ---------\n",
       "   (0008, 1150) Referenced SOP Class UID            UI: MR Image Storage\n",
       "   (0008, 1155) Referenced SOP Instance UID         UI: 1.3.12.2.1107.5.2.19.45348.201806201140014125072696\n",
       "   ---------\n",
       "   (0008, 1150) Referenced SOP Class UID            UI: MR Image Storage\n",
       "   (0008, 1155) Referenced SOP Instance UID         UI: 1.3.12.2.1107.5.2.19.45348.2018062011400125614272716\n",
       "   ---------\n",
       "   (0008, 1150) Referenced SOP Class UID            UI: MR Image Storage\n",
       "   (0008, 1155) Referenced SOP Instance UID         UI: 1.3.12.2.1107.5.2.19.45348.2018062011400125799772718\n",
       "   ---------\n",
       "   (0008, 1150) Referenced SOP Class UID            UI: MR Image Storage\n",
       "   (0008, 1155) Referenced SOP Instance UID         UI: 1.3.12.2.1107.5.2.19.45348.2018062011400125793572717\n",
       "   ---------\n",
       "   (0008, 1150) Referenced SOP Class UID            UI: MR Image Storage\n",
       "   (0008, 1155) Referenced SOP Instance UID         UI: 1.3.12.2.1107.5.2.19.45348.2018062011400126315372720\n",
       "   ---------\n",
       "   (0008, 1150) Referenced SOP Class UID            UI: MR Image Storage\n",
       "   (0008, 1155) Referenced SOP Instance UID         UI: 1.3.12.2.1107.5.2.19.45348.2018062011400127352272721\n",
       "   ---------\n",
       "   (0008, 1150) Referenced SOP Class UID            UI: MR Image Storage\n",
       "   (0008, 1155) Referenced SOP Instance UID         UI: 1.3.12.2.1107.5.2.19.45348.2018062011400125904372719\n",
       "   ---------\n",
       "   (0008, 1150) Referenced SOP Class UID            UI: MR Image Storage\n",
       "   (0008, 1155) Referenced SOP Instance UID         UI: 1.3.12.2.1107.5.2.19.45348.2018062011400132527672728\n",
       "   ---------\n",
       "   (0008, 1150) Referenced SOP Class UID            UI: MR Image Storage\n",
       "   (0008, 1155) Referenced SOP Instance UID         UI: 1.3.12.2.1107.5.2.19.45348.2018062011400132727872730\n",
       "   ---------\n",
       "   (0008, 1150) Referenced SOP Class UID            UI: MR Image Storage\n",
       "   (0008, 1155) Referenced SOP Instance UID         UI: 1.3.12.2.1107.5.2.19.45348.2018062011400132682572729\n",
       "   ---------\n",
       "(0010, 0010) Patient's Name                      PN: 'TC001'\n",
       "(0010, 0020) Patient ID                          LO: 'phantom'\n",
       "(0010, 0030) Patient's Birth Date                DA: '20060608'\n",
       "(0010, 0040) Patient's Sex                       CS: 'O'\n",
       "(0010, 1010) Patient's Age                       AS: '012Y'\n",
       "(0010, 1020) Patient's Size                      DS: \"1.65\"\n",
       "(0010, 1030) Patient's Weight                    DS: \"50.0\"\n",
       "(0018, 0015) Body Part Examined                  CS: 'BRAIN'\n",
       "(0018, 0020) Scanning Sequence                   CS: 'EP'\n",
       "(0018, 0021) Sequence Variant                    CS: ['SK', 'SS']\n",
       "(0018, 0022) Scan Options                        CS: 'FS'\n",
       "(0018, 0023) MR Acquisition Type                 CS: '2D'\n",
       "(0018, 0024) Sequence Name                       SH: 'epfid2d1_124'\n",
       "(0018, 0025) Angio Flag                          CS: 'N'\n",
       "(0018, 0050) Slice Thickness                     DS: \"1.7000000476837\"\n",
       "(0018, 0080) Repetition Time                     DS: \"2000.0\"\n",
       "(0018, 0081) Echo Time                           DS: \"36.0\"\n",
       "(0018, 0083) Number of Averages                  DS: \"1.0\"\n",
       "(0018, 0084) Imaging Frequency                   DS: \"123.220185\"\n",
       "(0018, 0085) Imaged Nucleus                      SH: '1H'\n",
       "(0018, 0086) Echo Number(s)                      IS: \"1\"\n",
       "(0018, 0087) Magnetic Field Strength             DS: \"3.0\"\n",
       "(0018, 0088) Spacing Between Slices              DS: \"1.7000000319621\"\n",
       "(0018, 0089) Number of Phase Encoding Steps      IS: \"123\"\n",
       "(0018, 0091) Echo Train Length                   IS: \"61\"\n",
       "(0018, 0093) Percent Sampling                    DS: \"100.0\"\n",
       "(0018, 0094) Percent Phase Field of View         DS: \"100.0\"\n",
       "(0018, 0095) Pixel Bandwidth                     DS: \"1550.0\"\n",
       "(0018, 1000) Device Serial Number                LO: '45348'\n",
       "(0018, 1020) Software Versions                   LO: 'syngo MR E11'\n",
       "(0018, 1030) Protocol Name                       LO: 'bold_DIFTIM_1.7mm'\n",
       "(0018, 1251) Transmit Coil Name                  SH: 'Body'\n",
       "(0018, 1310) Acquisition Matrix                  US: [124, 0, 0, 124]\n",
       "(0018, 1312) In-plane Phase Encoding Direction   CS: 'COL'\n",
       "(0018, 1314) Flip Angle                          DS: \"90.0\"\n",
       "(0018, 1315) Variable Flip Angle Flag            CS: 'N'\n",
       "(0018, 1316) SAR                                 DS: \"0.0912771535431\"\n",
       "(0018, 1318) dB/dt                               DS: \"0.0\"\n",
       "(0018, 5100) Patient Position                    CS: 'HFS'\n",
       "(0019, 0010) Private Creator                     LO: 'SIEMENS MR HEADER'\n",
       "(0019, 1008) [CSA Image Header Type]             CS: 'IMAGE NUM 4'\n",
       "(0019, 1009) [CSA Image Header Version ??]       LO: '1.0'\n",
       "(0019, 100a) [NumberOfImagesInMosaic]            US: 72\n",
       "(0019, 100b) [SliceMeasurementDuration]          DS: \"510000.0\"\n",
       "(0019, 100f) [GradientMode]                      SH: 'Fast*'\n",
       "(0019, 1011) [FlowCompensation]                  SH: 'No'\n",
       "(0019, 1012) [TablePositionOrigin]               SL: [0, 0, -1089]\n",
       "(0019, 1013) [ImaAbsTablePosition]               SL: [0, 0, -1089]\n",
       "(0019, 1014) [ImaRelTablePosition]               IS: [0, 0, 0]\n",
       "(0019, 1015) [SlicePosition_PCS]                 FD: [-946.9087057, -690.22973604, -611.77339765]\n",
       "(0019, 1016) [TimeAfterStart]                    DS: \"88.0\"\n",
       "(0019, 1017) [SliceResolution]                   DS: \"1.0\"\n",
       "(0019, 1018) [RealDwellTime]                     IS: \"2600\"\n",
       "(0019, 1028) [BandwidthPerPixelPhaseEncode]      FD: 21.222\n",
       "(0019, 1029) [MosaicRefAcqTimes]                 FD: Array of 72 elements\n",
       "(0020, 000d) Study Instance UID                  UI: 1.3.12.2.1107.5.2.19.45348.30000018061921300060300000004\n",
       "(0020, 000e) Series Instance UID                 UI: 1.3.12.2.1107.5.2.19.45348.2018062011381711763464489.0.0.0\n",
       "(0020, 0010) Study ID                            SH: '2'\n",
       "(0020, 0011) Series Number                       IS: \"10\"\n",
       "(0020, 0012) Acquisition Number                  IS: \"37\"\n",
       "(0020, 0013) Instance Number                     IS: \"37\"\n",
       "(0020, 0032) Image Position (Patient)            DS: [-946.90870569598, -690.22973604082, -611.77339764656]\n",
       "(0020, 0037) Image Orientation (Patient)         DS: [0.99958473397635, -0.0128987473827, 0.02576784658051, -0.0036636994984, 0.83007635130162, 0.55763772138888]\n",
       "(0020, 0052) Frame of Reference UID              UI: 1.3.12.2.1107.5.2.19.45348.1.20180620110428732.0.0.0\n",
       "(0020, 1040) Position Reference Indicator        LO: ''\n",
       "(0020, 1041) Slice Location                      DS: \"-95.710728501871\"\n",
       "(0020, 4000) Image Comments                      LT: 'Unaliased MB3/PE4'\n",
       "(0028, 0002) Samples per Pixel                   US: 1\n",
       "(0028, 0004) Photometric Interpretation          CS: 'MONOCHROME2'\n",
       "(0028, 0010) Rows                                US: 1116\n",
       "(0028, 0011) Columns                             US: 1116\n",
       "(0028, 0030) Pixel Spacing                       DS: [1.7016129493713, 1.7016129493713]\n",
       "(0028, 0100) Bits Allocated                      US: 16\n",
       "(0028, 0101) Bits Stored                         US: 16\n",
       "(0028, 0102) High Bit                            US: 15\n",
       "(0028, 0103) Pixel Representation                US: 0\n",
       "(0028, 0106) Smallest Image Pixel Value          US: 0\n",
       "(0028, 0107) Largest Image Pixel Value           US: 23986\n",
       "(0028, 1050) Window Center                       DS: \"12281.0\"\n",
       "(0028, 1051) Window Width                        DS: \"26377.0\"\n",
       "(0028, 1055) Window Center & Width Explanation   LO: 'Algo1'\n",
       "(0029, 0010) Private Creator                     LO: 'SIEMENS CSA HEADER'\n",
       "(0029, 0011) Private Creator                     LO: 'SIEMENS MEDCOM HEADER2'\n",
       "(0029, 1008) [CSA Image Header Type]             CS: 'IMAGE NUM 4'\n",
       "(0029, 1009) [CSA Image Header Version]          LO: '20180620'\n",
       "(0029, 1010) [CSA Image Header Info]             OB: Array of 13788 elements\n",
       "(0029, 1018) [CSA Series Header Type]            CS: 'MR'\n",
       "(0029, 1019) [CSA Series Header Version]         LO: '20180620'\n",
       "(0029, 1020) [CSA Series Header Info]            OB: Array of 157532 elements\n",
       "(0029, 1160) [Series Workflow Status]            LO: 'com'\n",
       "(0032, 1032) Requesting Physician                PN: 'Kuhl'\n",
       "(0040, 0244) Performed Procedure Step Start Date DA: '20180620'\n",
       "(0040, 0245) Performed Procedure Step Start Time TM: '110428.609000'\n",
       "(0040, 0253) Performed Procedure Step ID         SH: 'MR20180620110428'\n",
       "(0040, 0254) Performed Procedure Step Descriptio LO: 'kuhl_lab^Kuhl^DIFTIM'\n",
       "(0040, 0280) Comments on the Performed Procedure ST: ''\n",
       "(0051, 0010) Private Creator                     LO: 'SIEMENS MR HEADER'\n",
       "(0051, 1008) [CSA Image Header Type]             CS: 'IMAGE NUM 4'\n",
       "(0051, 1009) [CSA Image Header Version ??]       LO: '1.0'\n",
       "(0051, 100a) [Unknown]                           LO: 'TA 08:30'\n",
       "(0051, 100b) [AcquisitionMatrixText]             LO: '124*124'\n",
       "(0051, 100c) [Unknown]                           LO: 'FoV 1899*1899'\n",
       "(0051, 100e) [Unknown]                           LO: 'Tra>Cor(33.9)>Sag(1.6)'\n",
       "(0051, 100f) [CoilString]                        LO: 'HEA;HEP'\n",
       "(0051, 1011) [PATModeText]                       LO: 'p2'\n",
       "(0051, 1012) [Unknown]                           SH: 'TP 0'\n",
       "(0051, 1013) [PositivePCSDirections]             SH: '+LPH'\n",
       "(0051, 1015) [Unknown]                           SH: 'D'\n",
       "(0051, 1016) [Unknown]                           LO: 'p2 M/MB/ND/NORM/MOSAIC'\n",
       "(0051, 1017) [Unknown]                           SH: 'SL 1.7'\n",
       "(0051, 1019) [Unknown]                           LO: 'A1/FS'\n",
       "(7fe0, 0010) Pixel Data                          OW: Array of 2490912 elements"
      ]
     },
     "execution_count": 25,
     "metadata": {},
     "output_type": "execute_result"
    }
   ],
   "source": [
    "dcmfile"
   ]
  },
  {
   "cell_type": "markdown",
   "metadata": {},
   "source": [
    "Things to notice about dicome files! First look at the tags. The first value of the pair identifies standard elements vs private elements: even numbered elements are defined by the dicom standard, and odd ones are private and added by the vendor or other software."
   ]
  },
  {
   "cell_type": "code",
   "execution_count": 14,
   "metadata": {},
   "outputs": [
    {
     "data": {
      "text/plain": [
       "(0010, 0010) Patient's Name                      PN: 'TC001'"
      ]
     },
     "execution_count": 14,
     "metadata": {},
     "output_type": "execute_result"
    }
   ],
   "source": [
    "dcmfile['PatientName']"
   ]
  },
  {
   "cell_type": "code",
   "execution_count": 15,
   "metadata": {},
   "outputs": [
    {
     "data": {
      "text/plain": [
       "'TC001'"
      ]
     },
     "execution_count": 15,
     "metadata": {},
     "output_type": "execute_result"
    }
   ],
   "source": [
    "dcmfile.PatientName"
   ]
  },
  {
   "cell_type": "code",
   "execution_count": 16,
   "metadata": {},
   "outputs": [
    {
     "data": {
      "text/plain": [
       "'TalapasClass^Smith^TC'"
      ]
     },
     "execution_count": 16,
     "metadata": {},
     "output_type": "execute_result"
    }
   ],
   "source": [
    "dcmfile.StudyDescription"
   ]
  },
  {
   "cell_type": "code",
   "execution_count": 17,
   "metadata": {},
   "outputs": [
    {
     "data": {
      "text/plain": [
       "'012Y'"
      ]
     },
     "execution_count": 17,
     "metadata": {},
     "output_type": "execute_result"
    }
   ],
   "source": [
    "dcmfile.PatientAge"
   ]
  },
  {
   "cell_type": "code",
   "execution_count": 18,
   "metadata": {},
   "outputs": [
    {
     "data": {
      "text/plain": [
       "'bold_DIFTIM_1.7mm'"
      ]
     },
     "execution_count": 18,
     "metadata": {},
     "output_type": "execute_result"
    }
   ],
   "source": [
    "dcmfile.ProtocolName"
   ]
  },
  {
   "cell_type": "code",
   "execution_count": 19,
   "metadata": {},
   "outputs": [
    {
     "data": {
      "text/plain": [
       "bytes"
      ]
     },
     "execution_count": 19,
     "metadata": {},
     "output_type": "execute_result"
    }
   ],
   "source": [
    "type(dcmfile.PixelData)"
   ]
  },
  {
   "cell_type": "code",
   "execution_count": 20,
   "metadata": {},
   "outputs": [
    {
     "data": {
      "text/plain": [
       "numpy.ndarray"
      ]
     },
     "execution_count": 20,
     "metadata": {},
     "output_type": "execute_result"
    }
   ],
   "source": [
    "type(dcmfile.pixel_array)"
   ]
  },
  {
   "cell_type": "code",
   "execution_count": 21,
   "metadata": {},
   "outputs": [],
   "source": [
    "pixeldata = dcmfile.pixel_array"
   ]
  },
  {
   "cell_type": "code",
   "execution_count": 22,
   "metadata": {},
   "outputs": [],
   "source": [
    "import matplotlib.pyplot as plt"
   ]
  },
  {
   "cell_type": "code",
   "execution_count": 23,
   "metadata": {},
   "outputs": [
    {
     "data": {
      "text/plain": [
       "<matplotlib.image.AxesImage at 0x2aaad820bfd0>"
      ]
     },
     "execution_count": 23,
     "metadata": {},
     "output_type": "execute_result"
    },
    {
     "data": {
      "image/png": "[encoded data removed]",
      "text/plain": [
       "<Figure size 432x288 with 1 Axes>"
      ]
     },
     "metadata": {
      "needs_background": "light"
     },
     "output_type": "display_data"
    }
   ],
   "source": [
    "plt.imshow(pixeldata)"
   ]
  },
  {
   "cell_type": "code",
   "execution_count": 24,
   "metadata": {},
   "outputs": [
    {
     "data": {
      "text/plain": [
       "(-0.5, 1115.5, 1115.5, -0.5)"
      ]
     },
     "execution_count": 24,
     "metadata": {},
     "output_type": "execute_result"
    },
    {
     "data": {
      "image/png": "[encoded data removed]",
      "text/plain": [
       "<Figure size 432x288 with 1 Axes>"
      ]
     },
     "metadata": {
      "needs_background": "light"
     },
     "output_type": "display_data"
    }
   ],
   "source": [
    "plt.imshow(pixeldata, cmap = 'gray')\n",
    "plt.axis('off')"
   ]
  }
 ],
 "metadata": {
  "kernelspec": {
   "display_name": "Python 3",
   "language": "python",
   "name": "python3"
  },
  "language_info": {
   "codemirror_mode": {
    "name": "ipython",
    "version": 3
   },
   "file_extension": ".py",
   "mimetype": "text/x-python",
   "name": "python",
   "nbconvert_exporter": "python",
   "pygments_lexer": "ipython3",
   "version": "3.6.8"
  }
 },
 "nbformat": 4,
 "nbformat_minor": 2
}
