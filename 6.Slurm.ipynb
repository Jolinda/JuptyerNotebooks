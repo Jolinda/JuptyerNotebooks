{
 "cells": [
  {
   "cell_type": "markdown",
   "metadata": {},
   "source": [
    "# About Slurm\n",
    "Slurm Workload Manager is an open source job scheduler, formerly known as the Simple Linux Utility for Resource Management. When you submit a job to the talapas cluster, Slurm is the software that decides where and when to send it and keeps track of whether it completes successfully or not. "
   ]
  },
  {
   "cell_type": "code",
   "execution_count": 1,
   "metadata": {},
   "outputs": [
    {
     "name": "stdout",
     "output_type": "stream",
     "text": [
      "       JobID    JobName  Partition    Account  AllocCPUS      State ExitCode \n",
      "------------ ---------- ---------- ---------- ---------- ---------- -------- \n",
      "11617267     sys/dashb+      short       lcni          1    RUNNING      0:0 \n",
      "11617267.ba+      batch                  lcni          1    RUNNING      0:0 \n",
      "11617267.ex+     extern                  lcni          1    RUNNING      0:0 \n"
     ]
    }
   ],
   "source": [
    "!sacct"
   ]
  },
  {
   "cell_type": "markdown",
   "metadata": {},
   "source": [
    "'sacct' shows job information for the current user. Each job has a JobID and a name. Jobs may have separate steps (indicated by jobId.something), with their own names. The '+' signs mean the names are too long for the default column widths. We can use the format command to change that and specify what columns to include."
   ]
  },
  {
   "cell_type": "code",
   "execution_count": 15,
   "metadata": {},
   "outputs": [
    {
     "name": "stdout",
     "output_type": "stream",
     "text": [
      "          JobID                        JobName  Partition    Account      State \n",
      "--------------- ------------------------------ ---------- ---------- ---------- \n",
      "       11617267      sys/dashboard/sys/jupyter      short       lcni    RUNNING \n",
      " 11617267.batch                          batch                  lcni    RUNNING \n",
      "11617267.extern                         extern                  lcni    RUNNING \n"
     ]
    }
   ],
   "source": [
    "!sacct --format=\"JobID%15,JobName%30, Partition,Account,State\""
   ]
  },
  {
   "cell_type": "markdown",
   "metadata": {},
   "source": [
    "We see I have one job: the OnDemand jupyterlab instance I'm using to create this very notebook. You can use this command to look for specific jobs by number, or jobs by other users."
   ]
  },
  {
   "cell_type": "code",
   "execution_count": 10,
   "metadata": {},
   "outputs": [
    {
     "name": "stdout",
     "output_type": "stream",
     "text": [
      "       JobID    JobName  Partition    Account  AllocCPUS      State ExitCode \n",
      "------------ ---------- ---------- ---------- ---------- ---------- -------- \n",
      "9845296_294  utgovl_WW+       gc3f       gc3f          4    RUNNING      0:0 \n",
      "9845296_294+     extern                  gc3f          4    RUNNING      0:0 \n",
      "9845296_295  utgovl_WW+       gc3f       gc3f          4    RUNNING      0:0 \n",
      "9845296_295+     extern                  gc3f          4    RUNNING      0:0 \n",
      "9845296_298  utgovl_WW+       gc3f       gc3f          4    RUNNING      0:0 \n",
      "9845296_298+     extern                  gc3f          4    RUNNING      0:0 \n"
     ]
    }
   ],
   "source": [
    "!sacct -u dturnbul"
   ]
  },
  {
   "cell_type": "code",
   "execution_count": 12,
   "metadata": {},
   "outputs": [
    {
     "name": "stdout",
     "output_type": "stream",
     "text": [
      "       JobID    JobName  Partition    Account  AllocCPUS      State ExitCode \n",
      "------------ ---------- ---------- ---------- ---------- ---------- -------- \n",
      "11617266     snakejob.+      short    kernlab          1  COMPLETED      0:0 \n",
      "11617266.ba+      batch               kernlab          1  COMPLETED      0:0 \n",
      "11617266.ex+     extern               kernlab          1  COMPLETED      0:0 \n"
     ]
    }
   ],
   "source": [
    "!sacct -j 11617266"
   ]
  },
  {
   "cell_type": "markdown",
   "metadata": {},
   "source": [
    "Back to our format command. There are a ton of columns you can include, and there's a special command to list them all."
   ]
  },
  {
   "cell_type": "code",
   "execution_count": 14,
   "metadata": {},
   "outputs": [
    {
     "name": "stdout",
     "output_type": "stream",
     "text": [
      "Account             AdminComment        AllocCPUS           AllocGRES          \n",
      "AllocNodes          AllocTRES           AssocID             AveCPU             \n",
      "AveCPUFreq          AveDiskRead         AveDiskWrite        AvePages           \n",
      "AveRSS              AveVMSize           BlockID             Cluster            \n",
      "Comment             Constraints         ConsumedEnergy      ConsumedEnergyRaw  \n",
      "CPUTime             CPUTimeRAW          DerivedExitCode     Elapsed            \n",
      "ElapsedRaw          Eligible            End                 ExitCode           \n",
      "Flags               GID                 Group               JobID              \n",
      "JobIDRaw            JobName             Layout              MaxDiskRead        \n",
      "MaxDiskReadNode     MaxDiskReadTask     MaxDiskWrite        MaxDiskWriteNode   \n",
      "MaxDiskWriteTask    MaxPages            MaxPagesNode        MaxPagesTask       \n",
      "MaxRSS              MaxRSSNode          MaxRSSTask          MaxVMSize          \n",
      "MaxVMSizeNode       MaxVMSizeTask       McsLabel            MinCPU             \n",
      "MinCPUNode          MinCPUTask          NCPUS               NNodes             \n",
      "NodeList            NTasks              Priority            Partition          \n",
      "QOS                 QOSRAW              Reason              ReqCPUFreq         \n",
      "ReqCPUFreqMin       ReqCPUFreqMax       ReqCPUFreqGov       ReqCPUS            \n",
      "ReqGRES             ReqMem              ReqNodes            ReqTRES            \n",
      "Reservation         ReservationId       Reserved            ResvCPU            \n",
      "ResvCPURAW          Start               State               Submit             \n",
      "Suspended           SystemCPU           SystemComment       Timelimit          \n",
      "TimelimitRaw        TotalCPU            TRESUsageInAve      TRESUsageInMax     \n",
      "TRESUsageInMaxNode  TRESUsageInMaxTask  TRESUsageInMin      TRESUsageInMinNode \n",
      "TRESUsageInMinTask  TRESUsageInTot      TRESUsageOutAve     TRESUsageOutMax    \n",
      "TRESUsageOutMaxNode TRESUsageOutMaxTask TRESUsageOutMin     TRESUsageOutMinNode\n",
      "TRESUsageOutMinTask TRESUsageOutTot     UID                 User               \n",
      "UserCPU             WCKey               WCKeyID             WorkDir            \n"
     ]
    }
   ],
   "source": [
    "!sacct --helpformat"
   ]
  },
  {
   "cell_type": "markdown",
   "metadata": {},
   "source": [
    "For completed jobs, \"Elapsed\"and \"MaxRSS\" are particularly helpful. They tell us how long the job ran, and how much memory it used. This can be used for planning how much time & memory to request in the future."
   ]
  },
  {
   "cell_type": "code",
   "execution_count": 17,
   "metadata": {},
   "outputs": [
    {
     "name": "stdout",
     "output_type": "stream",
     "text": [
      "   Elapsed     MaxRSS     ReqMem \n",
      "---------- ---------- ---------- \n",
      "  00:11:44                 220Gc \n",
      "  00:11:44 107742656K      220Gc \n",
      "  00:11:44          0      220Gc \n"
     ]
    }
   ],
   "source": [
    "!sacct -j 11617266 --format=\"Elapsed, MaxRSS, ReqMem\""
   ]
  },
  {
   "cell_type": "markdown",
   "metadata": {},
   "source": [
    "# PIRGS again\n",
    "All jobs run on talapas must include information about which account (pirg) should be billed for the time. If you have set the environment variables SLURM_ACCOUNT and SBATCH_ACCOUNT, it will use one of those. Otherwise you will need to specify it, so let's set that variable now (please use your own pirg, not LCNI!)"
   ]
  },
  {
   "cell_type": "code",
   "execution_count": 1,
   "metadata": {},
   "outputs": [
    {
     "name": "stdout",
     "output_type": "stream",
     "text": [
      "talapas lcni\n"
     ]
    }
   ],
   "source": [
    "# what's my pirg again?\n",
    "!groups"
   ]
  },
  {
   "cell_type": "code",
   "execution_count": 1,
   "metadata": {},
   "outputs": [],
   "source": [
    "mypirg = 'lcni' # USE YOUR OWN PLEASE"
   ]
  },
  {
   "cell_type": "markdown",
   "metadata": {},
   "source": [
    "# Example data  \n",
    "Let's take a look at the example data we will use from here on out. This is from openneuro: https://openneuro.org/datasets/ds000114/versions/1.0.1"
   ]
  },
  {
   "cell_type": "code",
   "execution_count": 1,
   "metadata": {},
   "outputs": [],
   "source": [
    "bidsdir = '/projects/lcni/jolinda/shared/TalapasClass/ds000114/'"
   ]
  },
  {
   "cell_type": "code",
   "execution_count": 11,
   "metadata": {},
   "outputs": [
    {
     "name": "stdout",
     "output_type": "stream",
     "text": [
      "/projects/lcni/jolinda/shared/TalapasClass/ds000114/\n",
      "|-- CHANGES\n",
      "|-- dataset_description.json\n",
      "|-- dwi.bval\n",
      "|-- dwi.bvec\n",
      "|-- participants.tsv\n",
      "|-- sub-01\n",
      "|-- sub-02\n",
      "|-- sub-03\n",
      "|-- sub-04\n",
      "|-- sub-05\n",
      "|-- sub-06\n",
      "|-- sub-07\n",
      "|-- sub-08\n",
      "|-- sub-09\n",
      "|-- sub-10\n",
      "|-- task-covertverbgeneration_bold.json\n",
      "|-- task-covertverbgeneration_events.tsv\n",
      "|-- task-fingerfootlips_bold.json\n",
      "|-- task-fingerfootlips_events.tsv\n",
      "|-- task-linebisection_bold.json\n",
      "|-- task-overtverbgeneration_bold.json\n",
      "|-- task-overtverbgeneration_events.tsv\n",
      "|-- task-overtwordrepetition_bold.json\n",
      "`-- task-overtwordrepetition_events.tsv\n",
      "\n",
      "10 directories, 14 files\n"
     ]
    }
   ],
   "source": [
    "!tree {bidsdir} -L 1"
   ]
  },
  {
   "cell_type": "code",
   "execution_count": 15,
   "metadata": {},
   "outputs": [],
   "source": [
    "def pretty_print(jsonfile):\n",
    "    import json\n",
    "    with open(jsonfile) as f:\n",
    "        j = json.load(f)\n",
    "    print(json.dumps(j, indent = 4))"
   ]
  },
  {
   "cell_type": "code",
   "execution_count": 16,
   "metadata": {},
   "outputs": [
    {
     "name": "stdout",
     "output_type": "stream",
     "text": [
      "{\n",
      "    \"Name\": \"A test-retest fMRI dataset for motor, language and spatial attention functions. \",\n",
      "    \"License\": \"\",\n",
      "    \"Authors\": [\n",
      "        \"Gorgolewski KJ\",\n",
      "        \"Storkey A\",\n",
      "        \"Bastin ME\",\n",
      "        \"Whittle IR\",\n",
      "        \"Wardlaw JM\",\n",
      "        \"Pernet CR\"\n",
      "    ],\n",
      "    \"Acknowledgements\": \"\",\n",
      "    \"HowToAcknowledge\": \"Please cite http://www.ncbi.nlm.nih.gov/pmc/articles/PMC3641991/\",\n",
      "    \"Funding\": \"\",\n",
      "    \"ReferencesAndLinks\": [\n",
      "        \"A test-retest fMRI dataset for motor, language and spatial attention functions, http://www.ncbi.nlm.nih.gov/pmc/articles/PMC3641991/\"\n",
      "    ],\n",
      "    \"DatasetDOI\": \"10.18112/openneuro.ds000114.v1.0.1\",\n",
      "    \"BIDSVersion\": \"1.0.0rc2\"\n",
      "}\n"
     ]
    }
   ],
   "source": [
    "import os\n",
    "pretty_print(os.path.join(bidsdir, 'dataset_description.json'))"
   ]
  },
  {
   "cell_type": "code",
   "execution_count": 12,
   "metadata": {},
   "outputs": [
    {
     "name": "stdout",
     "output_type": "stream",
     "text": [
      "/projects/lcni/jolinda/shared/TalapasClass/ds000114//sub-01\n",
      "|-- ses-retest\n",
      "|   |-- anat\n",
      "|   |   `-- sub-01_ses-retest_T1w.nii.gz\n",
      "|   |-- dwi\n",
      "|   |   `-- sub-01_ses-retest_dwi.nii.gz\n",
      "|   `-- func\n",
      "|       |-- sub-01_ses-retest_task-covertverbgeneration_bold.nii.gz\n",
      "|       |-- sub-01_ses-retest_task-fingerfootlips_bold.nii.gz\n",
      "|       |-- sub-01_ses-retest_task-linebisection_bold.nii.gz\n",
      "|       |-- sub-01_ses-retest_task-linebisection_events.tsv\n",
      "|       |-- sub-01_ses-retest_task-overtverbgeneration_bold.nii.gz\n",
      "|       `-- sub-01_ses-retest_task-overtwordrepetition_bold.nii.gz\n",
      "`-- ses-test\n",
      "    |-- anat\n",
      "    |   `-- sub-01_ses-test_T1w.nii.gz\n",
      "    |-- dwi\n",
      "    |   `-- sub-01_ses-test_dwi.nii.gz\n",
      "    `-- func\n",
      "        |-- sub-01_ses-test_task-covertverbgeneration_bold.nii.gz\n",
      "        |-- sub-01_ses-test_task-fingerfootlips_bold.nii.gz\n",
      "        |-- sub-01_ses-test_task-linebisection_bold.nii.gz\n",
      "        |-- sub-01_ses-test_task-linebisection_events.tsv\n",
      "        |-- sub-01_ses-test_task-overtverbgeneration_bold.nii.gz\n",
      "        `-- sub-01_ses-test_task-overtwordrepetition_bold.nii.gz\n",
      "\n",
      "8 directories, 16 files\n"
     ]
    }
   ],
   "source": [
    "!tree {bidsdir}/sub-01"
   ]
  },
  {
   "cell_type": "markdown",
   "metadata": {},
   "source": [
    "# Running a job: sbatch\n",
    "You launch jobs from the command line with the sbatch command. Very simple jobs can be launched using the --wrap keyword. More complex jobs can be launched from a saved file."
   ]
  },
  {
   "cell_type": "code",
   "execution_count": 5,
   "metadata": {},
   "outputs": [
    {
     "name": "stdout",
     "output_type": "stream",
     "text": [
      "Submitted batch job 11630227\n"
     ]
    }
   ],
   "source": [
    "!sbatch --account={mypirg} --wrap \"echo hello\""
   ]
  },
  {
   "cell_type": "code",
   "execution_count": 6,
   "metadata": {},
   "outputs": [
    {
     "name": "stdout",
     "output_type": "stream",
     "text": [
      "hello\n"
     ]
    }
   ],
   "source": [
    "cat slurm-11630227.out"
   ]
  },
  {
   "cell_type": "code",
   "execution_count": 7,
   "metadata": {},
   "outputs": [
    {
     "name": "stdout",
     "output_type": "stream",
     "text": [
      "       JobID    JobName  Partition    Account  AllocCPUS      State ExitCode \n",
      "------------ ---------- ---------- ---------- ---------- ---------- -------- \n",
      "11630227           wrap      short       lcni          1  COMPLETED      0:0 \n",
      "11630227.ba+      batch                  lcni          1  COMPLETED      0:0 \n",
      "11630227.ex+     extern                  lcni          1  COMPLETED      0:0 \n"
     ]
    }
   ],
   "source": [
    "!sacct -j 11630227"
   ]
  },
  {
   "cell_type": "markdown",
   "metadata": {},
   "source": [
    "If we want a more descriptive name than \"wrap\", we can set that. There are lots of options you can set, here's a convenient list of them. https://slurm.schedmd.com/pdfs/summary.pdf"
   ]
  },
  {
   "cell_type": "code",
   "execution_count": 10,
   "metadata": {},
   "outputs": [
    {
     "name": "stdout",
     "output_type": "stream",
     "text": [
      "Submitted batch job 11630274\n"
     ]
    }
   ],
   "source": [
    "!sbatch --account={mypirg} --job-name='echo' --wrap \"echo hello\" "
   ]
  },
  {
   "cell_type": "code",
   "execution_count": 11,
   "metadata": {},
   "outputs": [
    {
     "name": "stdout",
     "output_type": "stream",
     "text": [
      "       JobID    JobName  Partition    Account  AllocCPUS      State ExitCode \n",
      "------------ ---------- ---------- ---------- ---------- ---------- -------- \n",
      "11630274           echo      short       lcni          1  COMPLETED      0:0 \n",
      "11630274.ba+      batch                  lcni          1  COMPLETED      0:0 \n",
      "11630274.ex+     extern                  lcni          1  COMPLETED      0:0 \n"
     ]
    }
   ],
   "source": [
    "!sacct -j 11630274"
   ]
  },
  {
   "cell_type": "markdown",
   "metadata": {},
   "source": [
    "In many cases it's easier to write a script file and submit that. Here's a simple one."
   ]
  },
  {
   "cell_type": "code",
   "execution_count": 17,
   "metadata": {},
   "outputs": [
    {
     "name": "stdout",
     "output_type": "stream",
     "text": [
      "#!/bin/bash\n",
      "#SBATCH --job-name=fslinfo\n",
      "#SBATCH --account=lcni\n",
      "\n",
      "module load fsl/6.0.1\n",
      "fslinfo /home/jolinda/lcni/shared/TalapasClass/ds000114/sub-01/ses-test/func/sub-01_ses-test_task-fingerfootlips_bold.nii.gz\n"
     ]
    }
   ],
   "source": [
    "cat fslinfo.srun"
   ]
  },
  {
   "cell_type": "markdown",
   "metadata": {},
   "source": [
    "# Parts of a slurm script  \n",
    "  \n",
    "First we define the interpreter. You'll probably usually want bash, but you can use other scripting languages such as python. Just make sure you have the right path  \n",
    "`#!/bin/bash`   \n",
    "  \n",
    "Next up are our SLURM options, one per line. Account is the only required one (and that's only if you don't have environment variables set)  \n",
    "`#SBATCH --job-name=fslinfo`   \n",
    "`#SBATCH --account=lcni` \n",
    "   \n",
    "Finally, we have our bash commands:  \n",
    "`module load fsl/6.0.1`  \n",
    "`fslinfo /home/jolinda/lcni/shared/TalapasClass/ds000114/sub-01/ses-test/func/sub-01_ses-test_task-fingerfootlips_bold.nii.gz`"
   ]
  },
  {
   "cell_type": "code",
   "execution_count": 18,
   "metadata": {},
   "outputs": [
    {
     "name": "stdout",
     "output_type": "stream",
     "text": [
      "Submitted batch job 11638080\n"
     ]
    }
   ],
   "source": [
    "# submit it with sbatch\n",
    "!sbatch fslinfo.srun"
   ]
  },
  {
   "cell_type": "code",
   "execution_count": 19,
   "metadata": {},
   "outputs": [
    {
     "name": "stdout",
     "output_type": "stream",
     "text": [
      "       JobID    JobName  Partition    Account  AllocCPUS      State ExitCode \n",
      "------------ ---------- ---------- ---------- ---------- ---------- -------- \n",
      "11638080        fslinfo      short       lcni          1  COMPLETED      0:0 \n",
      "11638080.ba+      batch                  lcni          1  COMPLETED      0:0 \n",
      "11638080.ex+     extern                  lcni          1  COMPLETED      0:0 \n"
     ]
    }
   ],
   "source": [
    "!sacct -j 11638080"
   ]
  },
  {
   "cell_type": "code",
   "execution_count": 20,
   "metadata": {},
   "outputs": [
    {
     "name": "stdout",
     "output_type": "stream",
     "text": [
      "data_type\tINT16\n",
      "dim1\t\t64\n",
      "dim2\t\t64\n",
      "dim3\t\t30\n",
      "dim4\t\t184\n",
      "datatype\t4\n",
      "pixdim1\t\t4.000000\n",
      "pixdim2\t\t4.000000\n",
      "pixdim3\t\t3.999975\n",
      "pixdim4\t\t2.500000\n",
      "cal_max\t\t0.000000\n",
      "cal_min\t\t0.000000\n",
      "file_type\tNIFTI-1+\n"
     ]
    }
   ],
   "source": [
    "cat slurm-11638080.out"
   ]
  },
  {
   "cell_type": "markdown",
   "metadata": {},
   "source": [
    "# Slurm parameters to know (with examples\n",
    "`--partition=long`  \n",
    "Partition you are submitting to. The default is short.  \n",
    "`--output=slurmjobname.out`  \n",
    "`--error=slurmjobname-%j.err`  \n",
    "Alternative to the slurm-{jobnumber}.out filename for standard out and standard error. %j will be replaced with the jobnumber  \n",
    "`--time=5`  \n",
    "`--time=5:30:0`  \n",
    "`--time=2-0`  \n",
    "Time limit for your job. First example is 5 minutes, second is 5 hours 30 minutes (h:m:s), third is 2 days (d-h). If unspecified it will be the limit for the partition (24 hours for short, 14 days for long, etc). Asking for less time means your job should launch more quickly. You'll want to set this if you are getting close to any planned talapas downtime, otherwise your job won't launch until after the cluster is back up.  \n",
    "`--mem=16G`  \n",
    "Memory requested for your job. The default amount varies, but it's about 4 GB for a standard node. This will not be enough for some jobs. You'll know you need more memory because your job will fail. Don't just ask for all the memory on the node (128 GB). It will take longer to launch your job and you will be taking resources away from other users. If you are doing something that requires more then 128 GB, use fat or longfat.  \n",
    "`--cpus-per-task=1`  \n",
    "Number of threads per task. If you are running something that can take advantage of multithreading, increase this number.  \n",
    "`--dependency=afterok:123456`  \n",
    "Run this job after job 123456 finishes with no errors  \n",
    "`--mail-user=email_address -mail-type=END `  \n",
    "Send an email when the job ends. I like to combine this with email-to-text from my carrier to get a text messsage notification.  \n",
    "`--comment=idx:index`  \n",
    "Write a comment. Use idx:index to indicate which project should be billed for your time."
   ]
  },
  {
   "cell_type": "markdown",
   "metadata": {},
   "source": [
    "# Array jobs  \n",
    "We often need to run the same command on a long list of subjects. This is when array jobs come in handy. Instead of writing 10 different scripts with different subject names, we write one script with an array of names. Just separate out the part of the command that changes and replace it with ${x}, set a bash array variable named x, and include the array parameter in your file."
   ]
  },
  {
   "cell_type": "code",
   "execution_count": 36,
   "metadata": {},
   "outputs": [
    {
     "name": "stdout",
     "output_type": "stream",
     "text": [
      "#!/bin/bash\n",
      "#SBATCH --job-name=fslinfo_array\n",
      "#SBATCH --account=lcni\n",
      "#SBATCH --array=0-9\n",
      "\n",
      "data=(01 02 03 04 05 06 07 08 09 10)\n",
      "\n",
      "x=${data[$SLURM_ARRAY_TASK_ID]}\n",
      "\n",
      "\n",
      "module load fsl/6.0.1\n",
      "echo ${x}\n",
      "fslinfo /home/jolinda/lcni/shared/TalapasClass/ds000114/sub-${x}/ses-test/anat/sub-${x}_ses-test_T1w.nii.gz\n"
     ]
    }
   ],
   "source": [
    "cat fslinfo_array.srun"
   ]
  },
  {
   "cell_type": "code",
   "execution_count": 37,
   "metadata": {},
   "outputs": [
    {
     "name": "stdout",
     "output_type": "stream",
     "text": [
      "Submitted batch job 11638382\n"
     ]
    }
   ],
   "source": [
    "!sbatch fslinfo_array.srun"
   ]
  },
  {
   "cell_type": "code",
   "execution_count": 38,
   "metadata": {},
   "outputs": [
    {
     "name": "stdout",
     "output_type": "stream",
     "text": [
      "       JobID    JobName  Partition    Account  AllocCPUS      State ExitCode \n",
      "------------ ---------- ---------- ---------- ---------- ---------- -------- \n",
      "11638382_0   fslinfo_a+      short       lcni          1  COMPLETED      0:0 \n",
      "11638382_0.+      batch                  lcni          1  COMPLETED      0:0 \n",
      "11638382_0.+     extern                  lcni          1  COMPLETED      0:0 \n",
      "11638382_1   fslinfo_a+      short       lcni          1  COMPLETED      0:0 \n",
      "11638382_1.+      batch                  lcni          1  COMPLETED      0:0 \n",
      "11638382_1.+     extern                  lcni          1  COMPLETED      0:0 \n",
      "11638382_2   fslinfo_a+      short       lcni          1  COMPLETED      0:0 \n",
      "11638382_2.+      batch                  lcni          1  COMPLETED      0:0 \n",
      "11638382_2.+     extern                  lcni          1  COMPLETED      0:0 \n",
      "11638382_3   fslinfo_a+      short       lcni          1  COMPLETED      0:0 \n",
      "11638382_3.+      batch                  lcni          1  COMPLETED      0:0 \n",
      "11638382_3.+     extern                  lcni          1  COMPLETED      0:0 \n",
      "11638382_4   fslinfo_a+      short       lcni          1  COMPLETED      0:0 \n",
      "11638382_4.+      batch                  lcni          1  COMPLETED      0:0 \n",
      "11638382_4.+     extern                  lcni          1  COMPLETED      0:0 \n",
      "11638382_5   fslinfo_a+      short       lcni          1  COMPLETED      0:0 \n",
      "11638382_5.+      batch                  lcni          1  COMPLETED      0:0 \n",
      "11638382_5.+     extern                  lcni          1  COMPLETED      0:0 \n",
      "11638382_6   fslinfo_a+      short       lcni          1  COMPLETED      0:0 \n",
      "11638382_6.+      batch                  lcni          1  COMPLETED      0:0 \n",
      "11638382_6.+     extern                  lcni          1  COMPLETED      0:0 \n",
      "11638382_7   fslinfo_a+      short       lcni          1  COMPLETED      0:0 \n",
      "11638382_7.+      batch                  lcni          1  COMPLETED      0:0 \n",
      "11638382_7.+     extern                  lcni          1  COMPLETED      0:0 \n",
      "11638382_8   fslinfo_a+      short       lcni          1  COMPLETED      0:0 \n",
      "11638382_8.+      batch                  lcni          1  COMPLETED      0:0 \n",
      "11638382_8.+     extern                  lcni          1  COMPLETED      0:0 \n",
      "11638382_9   fslinfo_a+      short       lcni          1  COMPLETED      0:0 \n",
      "11638382_9.+      batch                  lcni          1  COMPLETED      0:0 \n",
      "11638382_9.+     extern                  lcni          1  COMPLETED      0:0 \n"
     ]
    }
   ],
   "source": [
    "!sacct -j 11638382"
   ]
  },
  {
   "cell_type": "markdown",
   "metadata": {},
   "source": [
    "There's a slurm output file for each value of x."
   ]
  },
  {
   "cell_type": "code",
   "execution_count": 40,
   "metadata": {},
   "outputs": [
    {
     "name": "stdout",
     "output_type": "stream",
     "text": [
      "slurm-11638382_0.out  slurm-11638382_4.out  slurm-11638382_8.out\n",
      "slurm-11638382_1.out  slurm-11638382_5.out  slurm-11638382_9.out\n",
      "slurm-11638382_2.out  slurm-11638382_6.out\n",
      "slurm-11638382_3.out  slurm-11638382_7.out\n"
     ]
    }
   ],
   "source": [
    "ls slurm-11638382*"
   ]
  },
  {
   "cell_type": "code",
   "execution_count": 39,
   "metadata": {},
   "outputs": [
    {
     "name": "stdout",
     "output_type": "stream",
     "text": [
      "01\n",
      "data_type\tFLOAT32\n",
      "dim1\t\t256\n",
      "dim2\t\t156\n",
      "dim3\t\t256\n",
      "dim4\t\t1\n",
      "datatype\t16\n",
      "pixdim1\t\t1.000000\n",
      "pixdim2\t\t1.299376\n",
      "pixdim3\t\t1.000000\n",
      "pixdim4\t\t0.009668\n",
      "cal_max\t\t0.000000\n",
      "cal_min\t\t0.000000\n",
      "file_type\tNIFTI-1+\n"
     ]
    }
   ],
   "source": [
    "cat slurm-11638382_0.out"
   ]
  },
  {
   "cell_type": "markdown",
   "metadata": {},
   "source": [
    "# Slurmpy\n",
    "Writing similar scripts over and over got pretty old, so I wrote a slurm-script generator module named slurmpy. Using slurmpy you can create, submit, and see the results of slurm jobs. Here's how I could have generated today's examples."
   ]
  },
  {
   "cell_type": "code",
   "execution_count": 2,
   "metadata": {},
   "outputs": [],
   "source": [
    "import slurmpy"
   ]
  },
  {
   "cell_type": "code",
   "execution_count": 3,
   "metadata": {},
   "outputs": [
    {
     "name": "stdout",
     "output_type": "stream",
     "text": [
      "sbatch --account=lcni --wrap \"echo hello\"\n",
      "Submitted batch job 11649111\n",
      "\n"
     ]
    },
    {
     "data": {
      "text/plain": [
       "'11649111'"
      ]
     },
     "execution_count": 3,
     "metadata": {},
     "output_type": "execute_result"
    }
   ],
   "source": [
    "slurmpy.WrapSlurmCommand('echo hello', account = 'lcni')"
   ]
  },
  {
   "cell_type": "code",
   "execution_count": 120,
   "metadata": {},
   "outputs": [],
   "source": [
    "job = slurmpy.slurmjob(account = 'lcni', jobname = 'fslinfo')"
   ]
  },
  {
   "cell_type": "code",
   "execution_count": 121,
   "metadata": {},
   "outputs": [],
   "source": [
    "import os\n",
    "example_file = os.path.join(bidsdir, 'sub-01', 'ses-test', 'func', \n",
    "                            'sub-01_ses-test_task-fingerfootlips_bold.nii.gz')"
   ]
  },
  {
   "cell_type": "code",
   "execution_count": 122,
   "metadata": {},
   "outputs": [],
   "source": [
    "job.AppendCommand('module load fsl/6.0.1')\n",
    "job.AppendCommand('fslinfo ' + example_file)"
   ]
  },
  {
   "cell_type": "code",
   "execution_count": 123,
   "metadata": {},
   "outputs": [
    {
     "data": {
      "text/plain": [
       "'fslinfo.srun'"
      ]
     },
     "execution_count": 123,
     "metadata": {},
     "output_type": "execute_result"
    }
   ],
   "source": [
    "job.WriteSlurmFile()"
   ]
  },
  {
   "cell_type": "code",
   "execution_count": 124,
   "metadata": {},
   "outputs": [
    {
     "name": "stdout",
     "output_type": "stream",
     "text": [
      "#!/bin/bash\n",
      "#SBATCH --job-name=fslinfo\n",
      "#SBATCH --account=lcni\n",
      "\n",
      "module load fsl/6.0.1\n",
      "fslinfo /projects/lcni/jolinda/shared/TalapasClass/ds000114/sub-01/ses-test/func/sub-01_ses-test_task-fingerfootlips_bold.nii.gz\n"
     ]
    }
   ],
   "source": [
    "job.PrintSlurmFile()"
   ]
  },
  {
   "cell_type": "code",
   "execution_count": 125,
   "metadata": {},
   "outputs": [
    {
     "name": "stdout",
     "output_type": "stream",
     "text": [
      "Submitted batch job 11649759\n",
      "\n"
     ]
    },
    {
     "data": {
      "text/plain": [
       "'11649759'"
      ]
     },
     "execution_count": 125,
     "metadata": {},
     "output_type": "execute_result"
    }
   ],
   "source": [
    "job.SubmitSlurmFile()"
   ]
  },
  {
   "cell_type": "code",
   "execution_count": 126,
   "metadata": {},
   "outputs": [
    {
     "name": "stdout",
     "output_type": "stream",
     "text": [
      "COMPLETED 1\n"
     ]
    }
   ],
   "source": [
    "job.ShowStatus()"
   ]
  },
  {
   "cell_type": "code",
   "execution_count": 127,
   "metadata": {},
   "outputs": [
    {
     "name": "stdout",
     "output_type": "stream",
     "text": [
      "slurm-11649759.out\n",
      "data_type\tINT16\n",
      "dim1\t\t64\n",
      "dim2\t\t64\n",
      "dim3\t\t30\n",
      "dim4\t\t184\n",
      "datatype\t4\n",
      "pixdim1\t\t4.000000\n",
      "pixdim2\t\t4.000000\n",
      "pixdim3\t\t3.999975\n",
      "pixdim4\t\t2.500000\n",
      "cal_max\t\t0.000000\n",
      "cal_min\t\t0.000000\n",
      "file_type\tNIFTI-1+\n",
      "\n"
     ]
    }
   ],
   "source": [
    "job.ShowOutput()"
   ]
  },
  {
   "cell_type": "code",
   "execution_count": 128,
   "metadata": {},
   "outputs": [],
   "source": [
    "job.NewCommand()"
   ]
  },
  {
   "cell_type": "code",
   "execution_count": 129,
   "metadata": {},
   "outputs": [],
   "source": [
    "subjects = ['01', '02', '03', '04', '05', '06', '07', '08', '09', '10']"
   ]
  },
  {
   "cell_type": "code",
   "execution_count": 130,
   "metadata": {},
   "outputs": [],
   "source": [
    "job.ArrayJob(subjects)"
   ]
  },
  {
   "cell_type": "code",
   "execution_count": 131,
   "metadata": {},
   "outputs": [],
   "source": [
    "job.AppendCommand('module load fsl/6.0.1')\n",
    "job.AppendCommand('echo ${x}')\n",
    "job.AppendCommand('fslinfo ' + bidsdir + '/sub-${x}/ses-test/anat/sub-${x}_ses-test_T1w.nii.gz')"
   ]
  },
  {
   "cell_type": "code",
   "execution_count": 136,
   "metadata": {},
   "outputs": [],
   "source": [
    "job.AddSlurmParameters(time = 5)"
   ]
  },
  {
   "cell_type": "code",
   "execution_count": 137,
   "metadata": {},
   "outputs": [
    {
     "data": {
      "text/plain": [
       "'fslinfo_array.srun'"
      ]
     },
     "execution_count": 137,
     "metadata": {},
     "output_type": "execute_result"
    }
   ],
   "source": [
    "job.WriteSlurmFile('fslinfo_array')"
   ]
  },
  {
   "cell_type": "code",
   "execution_count": 138,
   "metadata": {},
   "outputs": [
    {
     "name": "stdout",
     "output_type": "stream",
     "text": [
      "#!/bin/bash\n",
      "#SBATCH --job-name=fslinfo_array\n",
      "#SBATCH --account=lcni\n",
      "#SBATCH --time=5\n",
      "#SBATCH --array=0-9\n",
      "\n",
      "data=(01 02 03 04 05 06 07 08 09 10)\n",
      "\n",
      "x=${data[$SLURM_ARRAY_TASK_ID]}\n",
      "\n",
      "\n",
      "module load fsl/6.0.1\n",
      "echo ${x}\n",
      "fslinfo /projects/lcni/jolinda/shared/TalapasClass/ds000114//sub-${x}/ses-test/anat/sub-${x}_ses-test_T1w.nii.gz\n"
     ]
    }
   ],
   "source": [
    "job.PrintSlurmFile()"
   ]
  },
  {
   "cell_type": "code",
   "execution_count": 139,
   "metadata": {},
   "outputs": [
    {
     "name": "stdout",
     "output_type": "stream",
     "text": [
      "Submitted batch job 11649765\n",
      "\n"
     ]
    },
    {
     "data": {
      "text/plain": [
       "'11649765'"
      ]
     },
     "execution_count": 139,
     "metadata": {},
     "output_type": "execute_result"
    }
   ],
   "source": [
    "fslinfo_job.SubmitSlurmFile()"
   ]
  },
  {
   "cell_type": "code",
   "execution_count": 140,
   "metadata": {},
   "outputs": [
    {
     "name": "stdout",
     "output_type": "stream",
     "text": [
      "COMPLETED 10\n"
     ]
    }
   ],
   "source": [
    "fslinfo_job.ShowStatus()"
   ]
  },
  {
   "cell_type": "code",
   "execution_count": 142,
   "metadata": {},
   "outputs": [
    {
     "name": "stdout",
     "output_type": "stream",
     "text": [
      "slurm-11649765_5.out\n",
      "06\n",
      "data_type\tFLOAT32\n",
      "dim1\t\t256\n",
      "dim2\t\t156\n",
      "dim3\t\t256\n",
      "dim4\t\t1\n",
      "datatype\t16\n",
      "pixdim1\t\t1.000000\n",
      "pixdim2\t\t1.300038\n",
      "pixdim3\t\t1.000000\n",
      "pixdim4\t\t0.009676\n",
      "cal_max\t\t0.000000\n",
      "cal_min\t\t0.000000\n",
      "file_type\tNIFTI-1+\n",
      "\n"
     ]
    }
   ],
   "source": [
    "fslinfo_job.ShowOutput(5)"
   ]
  },
  {
   "cell_type": "markdown",
   "metadata": {},
   "source": [
    "# Job arrays in real life \n",
    "Today I typed out ['01', '02'] etc just to keep things straightforward, but of course we aren't really going to do all that work in real life, are we? Here are some alternatives."
   ]
  },
  {
   "cell_type": "code",
   "execution_count": 149,
   "metadata": {},
   "outputs": [
    {
     "data": {
      "text/plain": [
       "['01', '02', '03', '04', '05', '06', '07', '08', '09', '10']"
      ]
     },
     "execution_count": 149,
     "metadata": {},
     "output_type": "execute_result"
    }
   ],
   "source": [
    "# method one: generate a list of strings, zero padded, from 01 to 10:\n",
    "['{:02d}'.format(x) for x in range(1,11)]"
   ]
  },
  {
   "cell_type": "code",
   "execution_count": 150,
   "metadata": {},
   "outputs": [
    {
     "data": {
      "text/plain": [
       "['sub-03',\n",
       " 'sub-08',\n",
       " 'sub-02',\n",
       " 'sub-07',\n",
       " 'sub-01',\n",
       " 'sub-06',\n",
       " 'sub-05',\n",
       " 'sub-04',\n",
       " 'sub-09',\n",
       " 'sub-10']"
      ]
     },
     "execution_count": 150,
     "metadata": {},
     "output_type": "execute_result"
    }
   ],
   "source": [
    "# method two: get all my subject names from the directory\n",
    "import os\n",
    "[x for x in os.listdir(bidsdir) if 'sub' in x]"
   ]
  },
  {
   "cell_type": "code",
   "execution_count": 151,
   "metadata": {},
   "outputs": [
    {
     "data": {
      "text/plain": [
       "['sub-01',\n",
       " 'sub-02',\n",
       " 'sub-03',\n",
       " 'sub-04',\n",
       " 'sub-05',\n",
       " 'sub-06',\n",
       " 'sub-07',\n",
       " 'sub-08',\n",
       " 'sub-09',\n",
       " 'sub-10']"
      ]
     },
     "execution_count": 151,
     "metadata": {},
     "output_type": "execute_result"
    }
   ],
   "source": [
    "# if I want them in order\n",
    "sorted([x for x in os.listdir(bidsdir) if 'sub' in x])"
   ]
  },
  {
   "cell_type": "code",
   "execution_count": 152,
   "metadata": {},
   "outputs": [
    {
     "data": {
      "text/plain": [
       "['/projects/lcni/jolinda/shared/TalapasClass/ds000114/sub-03/ses-test/anat/sub-03_ses-test_T1w.nii.gz',\n",
       " '/projects/lcni/jolinda/shared/TalapasClass/ds000114/sub-08/ses-test/anat/sub-08_ses-test_T1w.nii.gz',\n",
       " '/projects/lcni/jolinda/shared/TalapasClass/ds000114/sub-02/ses-test/anat/sub-02_ses-test_T1w.nii.gz',\n",
       " '/projects/lcni/jolinda/shared/TalapasClass/ds000114/sub-07/ses-test/anat/sub-07_ses-test_T1w.nii.gz',\n",
       " '/projects/lcni/jolinda/shared/TalapasClass/ds000114/sub-01/ses-test/anat/sub-01_ses-test_T1w.nii.gz',\n",
       " '/projects/lcni/jolinda/shared/TalapasClass/ds000114/sub-06/ses-test/anat/sub-06_ses-test_T1w.nii.gz',\n",
       " '/projects/lcni/jolinda/shared/TalapasClass/ds000114/sub-05/ses-test/anat/sub-05_ses-test_T1w.nii.gz',\n",
       " '/projects/lcni/jolinda/shared/TalapasClass/ds000114/sub-04/ses-test/anat/sub-04_ses-test_T1w.nii.gz',\n",
       " '/projects/lcni/jolinda/shared/TalapasClass/ds000114/sub-09/ses-test/anat/sub-09_ses-test_T1w.nii.gz',\n",
       " '/projects/lcni/jolinda/shared/TalapasClass/ds000114/sub-10/ses-test/anat/sub-10_ses-test_T1w.nii.gz']"
      ]
     },
     "execution_count": 152,
     "metadata": {},
     "output_type": "execute_result"
    }
   ],
   "source": [
    "# method 3: get all the filenames I want to run the command on, using glob\n",
    "import glob\n",
    "glob.glob(os.path.join(bidsdir, 'sub*', 'ses-test', 'anat', '*T1w.nii.gz'))"
   ]
  },
  {
   "cell_type": "code",
   "execution_count": 153,
   "metadata": {},
   "outputs": [],
   "source": [
    "# what our slurm file might look like with method 3\n",
    "job.ArrayJob(glob.glob(os.path.join(bidsdir, 'sub*', 'ses-test', 'anat', '*T1w.nii.gz')))\n",
    "job.NewCommand()\n",
    "job.AppendCommand('module load fsl/6.0.1')\n",
    "job.AppendCommand('echo ${x}')\n",
    "job.AppendCommand('fslinfo ${x}')"
   ]
  },
  {
   "cell_type": "code",
   "execution_count": 154,
   "metadata": {},
   "outputs": [
    {
     "data": {
      "text/plain": [
       "'fslinfo_array.srun'"
      ]
     },
     "execution_count": 154,
     "metadata": {},
     "output_type": "execute_result"
    }
   ],
   "source": [
    "job.WriteSlurmFile()"
   ]
  },
  {
   "cell_type": "code",
   "execution_count": 155,
   "metadata": {},
   "outputs": [
    {
     "name": "stdout",
     "output_type": "stream",
     "text": [
      "#!/bin/bash\n",
      "#SBATCH --job-name=fslinfo_array\n",
      "#SBATCH --account=lcni\n",
      "#SBATCH --time=5\n",
      "#SBATCH --array=0-9\n",
      "\n",
      "data=(/projects/lcni/jolinda/shared/TalapasClass/ds000114/sub-03/ses-test/anat/sub-03_ses-test_T1w.nii.gz /projects/lcni/jolinda/shared/TalapasClass/ds000114/sub-08/ses-test/anat/sub-08_ses-test_T1w.nii.gz /projects/lcni/jolinda/shared/TalapasClass/ds000114/sub-02/ses-test/anat/sub-02_ses-test_T1w.nii.gz /projects/lcni/jolinda/shared/TalapasClass/ds000114/sub-07/ses-test/anat/sub-07_ses-test_T1w.nii.gz /projects/lcni/jolinda/shared/TalapasClass/ds000114/sub-01/ses-test/anat/sub-01_ses-test_T1w.nii.gz /projects/lcni/jolinda/shared/TalapasClass/ds000114/sub-06/ses-test/anat/sub-06_ses-test_T1w.nii.gz /projects/lcni/jolinda/shared/TalapasClass/ds000114/sub-05/ses-test/anat/sub-05_ses-test_T1w.nii.gz /projects/lcni/jolinda/shared/TalapasClass/ds000114/sub-04/ses-test/anat/sub-04_ses-test_T1w.nii.gz /projects/lcni/jolinda/shared/TalapasClass/ds000114/sub-09/ses-test/anat/sub-09_ses-test_T1w.nii.gz /projects/lcni/jolinda/shared/TalapasClass/ds000114/sub-10/ses-test/anat/sub-10_ses-test_T1w.nii.gz)\n",
      "\n",
      "x=${data[$SLURM_ARRAY_TASK_ID]}\n",
      "\n",
      "\n",
      "module load fsl/6.0.1\n",
      "echo ${x}\n",
      "fslinfo ${x}\n"
     ]
    }
   ],
   "source": [
    "job.PrintSlurmFile()"
   ]
  },
  {
   "cell_type": "code",
   "execution_count": 156,
   "metadata": {},
   "outputs": [
    {
     "name": "stdout",
     "output_type": "stream",
     "text": [
      "Submitted batch job 11653464\n",
      "\n"
     ]
    },
    {
     "data": {
      "text/plain": [
       "'11653464'"
      ]
     },
     "execution_count": 156,
     "metadata": {},
     "output_type": "execute_result"
    }
   ],
   "source": [
    "job.SubmitSlurmFile()"
   ]
  },
  {
   "cell_type": "code",
   "execution_count": 160,
   "metadata": {},
   "outputs": [
    {
     "name": "stdout",
     "output_type": "stream",
     "text": [
      "COMPLETED 10\n"
     ]
    }
   ],
   "source": [
    "job.ShowStatus()"
   ]
  },
  {
   "cell_type": "code",
   "execution_count": 161,
   "metadata": {},
   "outputs": [
    {
     "name": "stdout",
     "output_type": "stream",
     "text": [
      "       JobID    JobName  Partition      State    Elapsed     MaxRSS \n",
      "------------ ---------- ---------- ---------- ---------- ---------- \n",
      "11653464_0   fslinfo_a+      short  COMPLETED   00:00:02            \n",
      "11653464_0.+      batch             COMPLETED   00:00:02          0 \n",
      "11653464_0.+     extern             COMPLETED   00:00:02          0 \n",
      "11653464_1   fslinfo_a+      short  COMPLETED   00:00:02            \n",
      "11653464_1.+      batch             COMPLETED   00:00:02          0 \n",
      "11653464_1.+     extern             COMPLETED   00:00:03          0 \n",
      "11653464_2   fslinfo_a+      short  COMPLETED   00:00:02            \n",
      "11653464_2.+      batch             COMPLETED   00:00:02          0 \n",
      "11653464_2.+     extern             COMPLETED   00:00:03          0 \n",
      "11653464_3   fslinfo_a+      short  COMPLETED   00:00:02            \n",
      "11653464_3.+      batch             COMPLETED   00:00:02          0 \n",
      "11653464_3.+     extern             COMPLETED   00:00:03          0 \n",
      "11653464_4   fslinfo_a+      short  COMPLETED   00:00:02            \n",
      "11653464_4.+      batch             COMPLETED   00:00:02          0 \n",
      "11653464_4.+     extern             COMPLETED   00:00:03          0 \n",
      "11653464_5   fslinfo_a+      short  COMPLETED   00:00:02            \n",
      "11653464_5.+      batch             COMPLETED   00:00:02          0 \n",
      "11653464_5.+     extern             COMPLETED   00:00:03          0 \n",
      "11653464_6   fslinfo_a+      short  COMPLETED   00:00:03            \n",
      "11653464_6.+      batch             COMPLETED   00:00:03          0 \n",
      "11653464_6.+     extern             COMPLETED   00:00:03          0 \n",
      "11653464_7   fslinfo_a+      short  COMPLETED   00:00:02            \n",
      "11653464_7.+      batch             COMPLETED   00:00:02          0 \n",
      "11653464_7.+     extern             COMPLETED   00:00:03          0 \n",
      "11653464_8   fslinfo_a+      short  COMPLETED   00:00:02            \n",
      "11653464_8.+      batch             COMPLETED   00:00:02          0 \n",
      "11653464_8.+     extern             COMPLETED   00:00:03          0 \n",
      "11653464_9   fslinfo_a+      short  COMPLETED   00:00:02            \n",
      "11653464_9.+      batch             COMPLETED   00:00:02          0 \n",
      "11653464_9.+     extern             COMPLETED   00:00:03          0 \n",
      "\n"
     ]
    }
   ],
   "source": [
    "# can also see job info this way\n",
    "print(job.JobInfo())"
   ]
  },
  {
   "cell_type": "code",
   "execution_count": 162,
   "metadata": {},
   "outputs": [
    {
     "name": "stdout",
     "output_type": "stream",
     "text": [
      "slurm-11653464_0.out\n",
      "/projects/lcni/jolinda/shared/TalapasClass/ds000114/sub-03/ses-test/anat/sub-03_ses-test_T1w.nii.gz\n",
      "data_type\tFLOAT32\n",
      "dim1\t\t256\n",
      "dim2\t\t156\n",
      "dim3\t\t256\n",
      "dim4\t\t1\n",
      "datatype\t16\n",
      "pixdim1\t\t1.000000\n",
      "pixdim2\t\t1.299594\n",
      "pixdim3\t\t1.000000\n",
      "pixdim4\t\t0.009672\n",
      "cal_max\t\t0.000000\n",
      "cal_min\t\t0.000000\n",
      "file_type\tNIFTI-1+\n",
      "\n"
     ]
    }
   ],
   "source": [
    "job.ShowOutput()"
   ]
  },
  {
   "cell_type": "code",
   "execution_count": null,
   "metadata": {},
   "outputs": [],
   "source": []
  }
 ],
 "metadata": {
  "kernelspec": {
   "display_name": "Python 3",
   "language": "python",
   "name": "python3"
  },
  "language_info": {
   "codemirror_mode": {
    "name": "ipython",
    "version": 3
   },
   "file_extension": ".py",
   "mimetype": "text/x-python",
   "name": "python",
   "nbconvert_exporter": "python",
   "pygments_lexer": "ipython3",
   "version": "3.6.8"
  }
 },
 "nbformat": 4,
 "nbformat_minor": 2
}
