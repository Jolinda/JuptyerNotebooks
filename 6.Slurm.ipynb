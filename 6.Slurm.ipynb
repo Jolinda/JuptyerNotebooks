{
 "cells": [
  {
   "cell_type": "markdown",
   "metadata": {},
   "source": [
    "# First things first\n",
    "If you are running this notebook yourself or copying the commands into a new notebook, make sure you have these variables set."
   ]
  },
  {
   "cell_type": "code",
   "execution_count": 1,
   "metadata": {},
   "outputs": [],
   "source": [
    "mypirg = 'lcni' # set this to your own pirg please"
   ]
  },
  {
   "cell_type": "markdown",
   "metadata": {},
   "source": [
    "Point \"bidsdir\" to a directory of example data. This one is some shared data from OpenNeuro."
   ]
  },
  {
   "cell_type": "code",
   "execution_count": 2,
   "metadata": {},
   "outputs": [],
   "source": [
    "bidsdir = '/projects/lcni/jolinda/shared/TalapasClass/ds000114/'"
   ]
  },
  {
   "cell_type": "markdown",
   "metadata": {},
   "source": [
    "Make sure the lcnimodules are in your path (for slurmpy later)"
   ]
  },
  {
   "cell_type": "code",
   "execution_count": 3,
   "metadata": {},
   "outputs": [],
   "source": [
    "import sys\n",
    "if '/projects/lcni/jolinda/shared/site-packages' not in sys.path:\n",
    "    sys.path.append('/projects/lcni/jolinda/shared/site-packages')"
   ]
  },
  {
   "cell_type": "markdown",
   "metadata": {},
   "source": [
    "# Example data  \n",
    "Let's take a look at the example data we will use from here on out. This is from openneuro: https://openneuro.org/datasets/ds000114/versions/1.0.1"
   ]
  },
  {
   "cell_type": "code",
   "execution_count": 11,
   "metadata": {},
   "outputs": [],
   "source": [
    "bidsdir = '/projects/lcni/jolinda/shared/TalapasClass/ds000114/'"
   ]
  },
  {
   "cell_type": "code",
   "execution_count": 12,
   "metadata": {},
   "outputs": [
    {
     "name": "stdout",
     "output_type": "stream",
     "text": [
      "/projects/lcni/jolinda/shared/TalapasClass/ds000114/\n",
      "|-- CHANGES\n",
      "|-- dataset_description.json\n",
      "|-- dwi.bval\n",
      "|-- dwi.bvec\n",
      "|-- participants.tsv\n",
      "|-- sub-01\n",
      "|-- sub-02\n",
      "|-- sub-03\n",
      "|-- sub-04\n",
      "|-- sub-05\n",
      "|-- sub-06\n",
      "|-- sub-07\n",
      "|-- sub-08\n",
      "|-- sub-09\n",
      "|-- sub-10\n",
      "|-- task-covertverbgeneration_bold.json\n",
      "|-- task-covertverbgeneration_events.tsv\n",
      "|-- task-fingerfootlips_bold.json\n",
      "|-- task-fingerfootlips_events.tsv\n",
      "|-- task-linebisection_bold.json\n",
      "|-- task-overtverbgeneration_bold.json\n",
      "|-- task-overtverbgeneration_events.tsv\n",
      "|-- task-overtwordrepetition_bold.json\n",
      "`-- task-overtwordrepetition_events.tsv\n",
      "\n",
      "10 directories, 14 files\n"
     ]
    }
   ],
   "source": [
    "!tree {bidsdir} -L 1"
   ]
  },
  {
   "cell_type": "code",
   "execution_count": 13,
   "metadata": {},
   "outputs": [
    {
     "name": "stdout",
     "output_type": "stream",
     "text": [
      "/projects/lcni/jolinda/shared/TalapasClass/ds000114//sub-01\n",
      "|-- ses-retest\n",
      "|   |-- anat\n",
      "|   |   `-- sub-01_ses-retest_T1w.nii.gz\n",
      "|   |-- dwi\n",
      "|   |   `-- sub-01_ses-retest_dwi.nii.gz\n",
      "|   `-- func\n",
      "|       |-- sub-01_ses-retest_task-covertverbgeneration_bold.nii.gz\n",
      "|       |-- sub-01_ses-retest_task-fingerfootlips_bold.nii.gz\n",
      "|       |-- sub-01_ses-retest_task-linebisection_bold.nii.gz\n",
      "|       |-- sub-01_ses-retest_task-linebisection_events.tsv\n",
      "|       |-- sub-01_ses-retest_task-overtverbgeneration_bold.nii.gz\n",
      "|       `-- sub-01_ses-retest_task-overtwordrepetition_bold.nii.gz\n",
      "`-- ses-test\n",
      "    |-- anat\n",
      "    |   `-- sub-01_ses-test_T1w.nii.gz\n",
      "    |-- dwi\n",
      "    |   `-- sub-01_ses-test_dwi.nii.gz\n",
      "    `-- func\n",
      "        |-- sub-01_ses-test_task-covertverbgeneration_bold.nii.gz\n",
      "        |-- sub-01_ses-test_task-fingerfootlips_bold.nii.gz\n",
      "        |-- sub-01_ses-test_task-linebisection_bold.nii.gz\n",
      "        |-- sub-01_ses-test_task-linebisection_events.tsv\n",
      "        |-- sub-01_ses-test_task-overtverbgeneration_bold.nii.gz\n",
      "        `-- sub-01_ses-test_task-overtwordrepetition_bold.nii.gz\n",
      "\n",
      "8 directories, 16 files\n"
     ]
    }
   ],
   "source": [
    "!tree {bidsdir}/sub-01"
   ]
  },
  {
   "cell_type": "markdown",
   "metadata": {},
   "source": [
    "# About Slurm\n",
    "Slurm Workload Manager is an open source job scheduler, formerly known as the Simple Linux Utility for Resource Management. When you submit a job to the talapas cluster, Slurm is the software that decides where and when to send it and keeps track of whether it completes successfully or not. "
   ]
  },
  {
   "cell_type": "code",
   "execution_count": 4,
   "metadata": {},
   "outputs": [
    {
     "name": "stdout",
     "output_type": "stream",
     "text": [
      "       JobID    JobName  Partition    Account  AllocCPUS      State ExitCode \n",
      "------------ ---------- ---------- ---------- ---------- ---------- -------- \n",
      "11691589     sys/dashb+      short       lcni          1    TIMEOUT      0:0 \n",
      "11691589.ba+      batch                  lcni          1  CANCELLED     0:15 \n",
      "11691589.ex+     extern                  lcni          1  COMPLETED      0:0 \n",
      "11745141     sys/dashb+      short       lcni          1    RUNNING      0:0 \n",
      "11745141.ba+      batch                  lcni          1    RUNNING      0:0 \n",
      "11745141.ex+     extern                  lcni          1    RUNNING      0:0 \n",
      "11745178     sys/dashb+      short       lcni          1    RUNNING      0:0 \n",
      "11745178.ba+      batch                  lcni          1    RUNNING      0:0 \n",
      "11745178.ex+     extern                  lcni          1    RUNNING      0:0 \n",
      "11745191        convert      short       lcni          1  COMPLETED      0:0 \n",
      "11745191.ba+      batch                  lcni          1  COMPLETED      0:0 \n",
      "11745191.ex+     extern                  lcni          1  COMPLETED      0:0 \n",
      "11745192        convert      short       lcni          1  COMPLETED      0:0 \n",
      "11745192.ba+      batch                  lcni          1  COMPLETED      0:0 \n",
      "11745192.ex+     extern                  lcni          1  COMPLETED      0:0 \n"
     ]
    }
   ],
   "source": [
    "!sacct"
   ]
  },
  {
   "cell_type": "markdown",
   "metadata": {},
   "source": [
    "'sacct' shows recent job information for the current user. Each job has a JobID and a name. Jobs may have separate steps (indicated by jobId.something), with their own names. The '+' signs mean the names are too long for the default column widths. We can use the -j parameter to show the result of a specific jobid (it can be another user's job)."
   ]
  },
  {
   "cell_type": "code",
   "execution_count": 5,
   "metadata": {},
   "outputs": [
    {
     "name": "stdout",
     "output_type": "stream",
     "text": [
      "       JobID    JobName  Partition    Account  AllocCPUS      State ExitCode \n",
      "------------ ---------- ---------- ---------- ---------- ---------- -------- \n",
      "11617266     snakejob.+      short    kernlab          1  COMPLETED      0:0 \n",
      "11617266.ba+      batch               kernlab          1  COMPLETED      0:0 \n",
      "11617266.ex+     extern               kernlab          1  COMPLETED      0:0 \n"
     ]
    }
   ],
   "source": [
    "!sacct -j 11617266 "
   ]
  },
  {
   "cell_type": "markdown",
   "metadata": {},
   "source": [
    "You can use the format command to change which columns are shown. There are a ton of columns you can include in the format command, and there's a special command to list them all."
   ]
  },
  {
   "cell_type": "code",
   "execution_count": 6,
   "metadata": {},
   "outputs": [
    {
     "name": "stdout",
     "output_type": "stream",
     "text": [
      "Account             AdminComment        AllocCPUS           AllocGRES          \n",
      "AllocNodes          AllocTRES           AssocID             AveCPU             \n",
      "AveCPUFreq          AveDiskRead         AveDiskWrite        AvePages           \n",
      "AveRSS              AveVMSize           BlockID             Cluster            \n",
      "Comment             Constraints         ConsumedEnergy      ConsumedEnergyRaw  \n",
      "CPUTime             CPUTimeRAW          DerivedExitCode     Elapsed            \n",
      "ElapsedRaw          Eligible            End                 ExitCode           \n",
      "Flags               GID                 Group               JobID              \n",
      "JobIDRaw            JobName             Layout              MaxDiskRead        \n",
      "MaxDiskReadNode     MaxDiskReadTask     MaxDiskWrite        MaxDiskWriteNode   \n",
      "MaxDiskWriteTask    MaxPages            MaxPagesNode        MaxPagesTask       \n",
      "MaxRSS              MaxRSSNode          MaxRSSTask          MaxVMSize          \n",
      "MaxVMSizeNode       MaxVMSizeTask       McsLabel            MinCPU             \n",
      "MinCPUNode          MinCPUTask          NCPUS               NNodes             \n",
      "NodeList            NTasks              Priority            Partition          \n",
      "QOS                 QOSRAW              Reason              ReqCPUFreq         \n",
      "ReqCPUFreqMin       ReqCPUFreqMax       ReqCPUFreqGov       ReqCPUS            \n",
      "ReqGRES             ReqMem              ReqNodes            ReqTRES            \n",
      "Reservation         ReservationId       Reserved            ResvCPU            \n",
      "ResvCPURAW          Start               State               Submit             \n",
      "Suspended           SystemCPU           SystemComment       Timelimit          \n",
      "TimelimitRaw        TotalCPU            TRESUsageInAve      TRESUsageInMax     \n",
      "TRESUsageInMaxNode  TRESUsageInMaxTask  TRESUsageInMin      TRESUsageInMinNode \n",
      "TRESUsageInMinTask  TRESUsageInTot      TRESUsageOutAve     TRESUsageOutMax    \n",
      "TRESUsageOutMaxNode TRESUsageOutMaxTask TRESUsageOutMin     TRESUsageOutMinNode\n",
      "TRESUsageOutMinTask TRESUsageOutTot     UID                 User               \n",
      "UserCPU             WCKey               WCKeyID             WorkDir            \n"
     ]
    }
   ],
   "source": [
    "!sacct --helpformat"
   ]
  },
  {
   "cell_type": "markdown",
   "metadata": {},
   "source": [
    "For completed jobs, \"Elapsed\"and \"MaxRSS\" are particularly helpful. They tell us how long the job ran, and how much memory it used. This can be used for planning how much time & memory to request in the future."
   ]
  },
  {
   "cell_type": "code",
   "execution_count": 7,
   "metadata": {},
   "outputs": [
    {
     "name": "stdout",
     "output_type": "stream",
     "text": [
      "   Elapsed     MaxRSS     ReqMem      User    Account  Partition \n",
      "---------- ---------- ---------- --------- ---------- ---------- \n",
      "  00:11:44                 220Gc   jadrion    kernlab      short \n",
      "  00:11:44 107742656K      220Gc              kernlab            \n",
      "  00:11:44          0      220Gc              kernlab            \n"
     ]
    }
   ],
   "source": [
    "!sacct -j 11617266 --format=\"Elapsed, MaxRSS, ReqMem, user, account, partition\""
   ]
  },
  {
   "cell_type": "markdown",
   "metadata": {},
   "source": [
    "This job used 107G of ram, and requested 220G, and took 11 minutes 44 seconds to run."
   ]
  },
  {
   "cell_type": "markdown",
   "metadata": {},
   "source": [
    "# PIRGS and jobs\n",
    "All jobs run on talapas must include information about which account (pirg) should be billed for the time. If you have set the environment variables SLURM_ACCOUNT and SBATCH_ACCOUNT, it will use one of those. Otherwise you will need to specify it."
   ]
  },
  {
   "cell_type": "markdown",
   "metadata": {},
   "source": [
    "# Running a job: sbatch\n",
    "You launch jobs from the command line with the sbatch command. Very simple jobs can be launched using the --wrap keyword. More complex jobs can be launched from a saved file."
   ]
  },
  {
   "cell_type": "code",
   "execution_count": 14,
   "metadata": {},
   "outputs": [
    {
     "name": "stdout",
     "output_type": "stream",
     "text": [
      "Submitted batch job 11749761\n"
     ]
    }
   ],
   "source": [
    "!sbatch --account={mypirg} --wrap \"echo hello\""
   ]
  },
  {
   "cell_type": "code",
   "execution_count": 16,
   "metadata": {},
   "outputs": [
    {
     "name": "stdout",
     "output_type": "stream",
     "text": [
      "       JobID    JobName  Partition    Account  AllocCPUS      State ExitCode \n",
      "------------ ---------- ---------- ---------- ---------- ---------- -------- \n",
      "11749761           wrap      short       lcni          1  COMPLETED      0:0 \n",
      "11749761.ba+      batch                  lcni          1  COMPLETED      0:0 \n",
      "11749761.ex+     extern                  lcni          1  COMPLETED      0:0 \n"
     ]
    }
   ],
   "source": [
    "!sacct -j 11749761"
   ]
  },
  {
   "cell_type": "code",
   "execution_count": 17,
   "metadata": {},
   "outputs": [
    {
     "name": "stdout",
     "output_type": "stream",
     "text": [
      "hello\n"
     ]
    }
   ],
   "source": [
    "cat slurm-11749761.out"
   ]
  },
  {
   "cell_type": "markdown",
   "metadata": {},
   "source": [
    "If we want a more descriptive name than \"wrap\", we can set that. There are lots of options you can set, here's a convenient list of them. https://slurm.schedmd.com/pdfs/summary.pdf"
   ]
  },
  {
   "cell_type": "code",
   "execution_count": 18,
   "metadata": {},
   "outputs": [
    {
     "name": "stdout",
     "output_type": "stream",
     "text": [
      "Submitted batch job 11749773\n"
     ]
    }
   ],
   "source": [
    "!sbatch --account={mypirg} --job-name='echo' --wrap \"echo hello\" "
   ]
  },
  {
   "cell_type": "code",
   "execution_count": 19,
   "metadata": {},
   "outputs": [
    {
     "name": "stdout",
     "output_type": "stream",
     "text": [
      "       JobID    JobName  Partition    Account  AllocCPUS      State ExitCode \n",
      "------------ ---------- ---------- ---------- ---------- ---------- -------- \n",
      "11749773           echo      short       lcni          1  COMPLETED      0:0 \n",
      "11749773.ba+      batch                  lcni          1  COMPLETED      0:0 \n",
      "11749773.ex+     extern                  lcni          1  COMPLETED      0:0 \n"
     ]
    }
   ],
   "source": [
    "!sacct -j 11749773"
   ]
  },
  {
   "cell_type": "markdown",
   "metadata": {},
   "source": [
    "In many cases it's easier to write a script file and submit that. Here's a simple one."
   ]
  },
  {
   "cell_type": "code",
   "execution_count": 20,
   "metadata": {},
   "outputs": [
    {
     "name": "stdout",
     "output_type": "stream",
     "text": [
      "#!/bin/bash\n",
      "#SBATCH --job-name=fslinfo\n",
      "#SBATCH --account=lcni\n",
      "\n",
      "module load fsl/6.0.1\n",
      "fslinfo /projects/lcni/jolinda/shared/TalapasClass/ds000114/sub-01/ses-test/func/sub-01_ses-test_task-fingerfootlips_bold.nii.gz"
     ]
    }
   ],
   "source": [
    "cat fslinfo.srun"
   ]
  },
  {
   "cell_type": "markdown",
   "metadata": {},
   "source": [
    "# Parts of a slurm script  \n",
    "  \n",
    "Let's take apart that script line by line. First we define the interpreter. You'll probably usually want bash, but you can use other scripting languages such as python. Just make sure you have the right path  \n",
    "`#!/bin/bash`   \n",
    "  \n",
    "Next up are our SLURM options, one per line. Account is the only required one (and that's only if you don't have environment variables set)  \n",
    "`#SBATCH --job-name=fslinfo`   \n",
    "`#SBATCH --account=lcni` \n",
    "   \n",
    "Finally, we have our bash commands:  \n",
    "`module load fsl/6.0.1`  \n",
    "`fslinfo /home/jolinda/lcni/shared/TalapasClass/ds000114/sub-01/ses-test/func/sub-01_ses-test_task-fingerfootlips_bold.nii.gz`"
   ]
  },
  {
   "cell_type": "code",
   "execution_count": 21,
   "metadata": {},
   "outputs": [
    {
     "name": "stdout",
     "output_type": "stream",
     "text": [
      "Submitted batch job 11749811\n"
     ]
    }
   ],
   "source": [
    "# submit it with sbatch\n",
    "!sbatch fslinfo.srun"
   ]
  },
  {
   "cell_type": "code",
   "execution_count": 22,
   "metadata": {},
   "outputs": [
    {
     "name": "stdout",
     "output_type": "stream",
     "text": [
      "       JobID    JobName  Partition    Account  AllocCPUS      State ExitCode \n",
      "------------ ---------- ---------- ---------- ---------- ---------- -------- \n",
      "11749811        fslinfo      short       lcni          1  COMPLETED      0:0 \n",
      "11749811.ba+      batch                  lcni          1  COMPLETED      0:0 \n",
      "11749811.ex+     extern                  lcni          1  COMPLETED      0:0 \n"
     ]
    }
   ],
   "source": [
    "!sacct -j 11749811"
   ]
  },
  {
   "cell_type": "code",
   "execution_count": 23,
   "metadata": {},
   "outputs": [
    {
     "name": "stdout",
     "output_type": "stream",
     "text": [
      "data_type\tINT16\n",
      "dim1\t\t64\n",
      "dim2\t\t64\n",
      "dim3\t\t30\n",
      "dim4\t\t184\n",
      "datatype\t4\n",
      "pixdim1\t\t4.000000\n",
      "pixdim2\t\t4.000000\n",
      "pixdim3\t\t3.999975\n",
      "pixdim4\t\t2.500000\n",
      "cal_max\t\t0.000000\n",
      "cal_min\t\t0.000000\n",
      "file_type\tNIFTI-1+\n"
     ]
    }
   ],
   "source": [
    "cat slurm-11749811.out"
   ]
  },
  {
   "cell_type": "markdown",
   "metadata": {},
   "source": [
    "# Slurm parameters to know (with examples\n",
    "`--partition=long`  \n",
    "Partition you are submitting to. The default is short.  \n",
    "`--output=slurmjobname.out`  \n",
    "`--error=slurmjobname-%j.err`  \n",
    "Alternative to the slurm-{jobnumber}.out filename for standard out and standard error. %j will be replaced with the jobnumber  \n",
    "`--time=5`  \n",
    "`--time=5:30:0`  \n",
    "`--time=2-0`  \n",
    "Time limit for your job. First example is 5 minutes, second is 5 hours 30 minutes (h:m:s), third is 2 days (d-h). If unspecified it will be the limit for the partition (24 hours for short, 14 days for long, etc). Asking for less time means your job should launch more quickly. You'll want to set this if you are getting close to any planned talapas downtime, otherwise your job won't launch until after the cluster is back up.  \n",
    "`--mem=16G`  \n",
    "Memory requested for your job. The default amount varies, but it's about 4 GB for a standard node. This will not be enough for some jobs. You'll know you need more memory because your job will fail. Don't just ask for all the memory on the node (128 GB). It will take longer to launch your job and you will be taking resources away from other users. If you are doing something that requires more then 128 GB, use fat or longfat.  \n",
    "`--cpus-per-task=1`  \n",
    "Number of threads per task. If you are running something that can take advantage of multithreading, increase this number.  \n",
    "`--dependency=afterok:123456`  \n",
    "Run this job after job 123456 finishes with no errors  \n",
    "`--mail-user=email_address -mail-type=END `  \n",
    "Send an email when the job ends. I like to combine this with email-to-text from my carrier to get a text messsage notification.  \n",
    "`--comment=idx:index`  \n",
    "Write a comment. Use idx:index to indicate which project should be billed for your time."
   ]
  },
  {
   "cell_type": "markdown",
   "metadata": {},
   "source": [
    "# Array jobs  \n",
    "We often need to run the same command on a long list of subjects. This is when array jobs come in handy. Instead of writing 10 different scripts with different subject names, we write one script with an array of names. Just separate out the part of the command that changes and replace it with ${x}, set a bash array variable named x, and include the array parameter in your file."
   ]
  },
  {
   "cell_type": "code",
   "execution_count": 24,
   "metadata": {},
   "outputs": [
    {
     "name": "stdout",
     "output_type": "stream",
     "text": [
      "#!/bin/bash\n",
      "#SBATCH --job-name=fslinfo_array\n",
      "#SBATCH --account=lcni\n",
      "#SBATCH --array=0-9\n",
      "\n",
      "data=(01 02 03 04 05 06 07 08 09 10)\n",
      "\n",
      "x=${data[$SLURM_ARRAY_TASK_ID]}\n",
      "\n",
      "\n",
      "module load fsl/6.0.1\n",
      "echo ${x}\n",
      "fslinfo /home/jolinda/lcni/shared/TalapasClass/ds000114/sub-${x}/ses-test/anat/sub-${x}_ses-test_T1w.nii.gz"
     ]
    }
   ],
   "source": [
    "cat fslinfo_array.srun"
   ]
  },
  {
   "cell_type": "code",
   "execution_count": 25,
   "metadata": {},
   "outputs": [
    {
     "name": "stdout",
     "output_type": "stream",
     "text": [
      "Submitted batch job 11749822\n"
     ]
    }
   ],
   "source": [
    "!sbatch fslinfo_array.srun"
   ]
  },
  {
   "cell_type": "code",
   "execution_count": 26,
   "metadata": {},
   "outputs": [
    {
     "name": "stdout",
     "output_type": "stream",
     "text": [
      "       JobID    JobName  Partition    Account  AllocCPUS      State ExitCode \n",
      "------------ ---------- ---------- ---------- ---------- ---------- -------- \n",
      "11749822_0   fslinfo_a+      short       lcni          1  COMPLETED      0:0 \n",
      "11749822_0.+      batch                  lcni          1  COMPLETED      0:0 \n",
      "11749822_0.+     extern                  lcni          1  COMPLETED      0:0 \n",
      "11749822_1   fslinfo_a+      short       lcni          1  COMPLETED      0:0 \n",
      "11749822_1.+      batch                  lcni          1  COMPLETED      0:0 \n",
      "11749822_1.+     extern                  lcni          1  COMPLETED      0:0 \n",
      "11749822_2   fslinfo_a+      short       lcni          1  COMPLETED      0:0 \n",
      "11749822_2.+      batch                  lcni          1  COMPLETED      0:0 \n",
      "11749822_2.+     extern                  lcni          1  COMPLETED      0:0 \n",
      "11749822_3   fslinfo_a+      short       lcni          1  COMPLETED      0:0 \n",
      "11749822_3.+      batch                  lcni          1  COMPLETED      0:0 \n",
      "11749822_3.+     extern                  lcni          1  COMPLETED      0:0 \n",
      "11749822_4   fslinfo_a+      short       lcni          1  COMPLETED      0:0 \n",
      "11749822_4.+      batch                  lcni          1  COMPLETED      0:0 \n",
      "11749822_4.+     extern                  lcni          1  COMPLETED      0:0 \n",
      "11749822_5   fslinfo_a+      short       lcni          1  COMPLETED      0:0 \n",
      "11749822_5.+      batch                  lcni          1  COMPLETED      0:0 \n",
      "11749822_5.+     extern                  lcni          1  COMPLETED      0:0 \n",
      "11749822_6   fslinfo_a+      short       lcni          1  COMPLETED      0:0 \n",
      "11749822_6.+      batch                  lcni          1  COMPLETED      0:0 \n",
      "11749822_6.+     extern                  lcni          1  COMPLETED      0:0 \n",
      "11749822_7   fslinfo_a+      short       lcni          1  COMPLETED      0:0 \n",
      "11749822_7.+      batch                  lcni          1  COMPLETED      0:0 \n",
      "11749822_7.+     extern                  lcni          1  COMPLETED      0:0 \n",
      "11749822_8   fslinfo_a+      short       lcni          1  COMPLETED      0:0 \n",
      "11749822_8.+      batch                  lcni          1  COMPLETED      0:0 \n",
      "11749822_8.+     extern                  lcni          1  COMPLETED      0:0 \n",
      "11749822_9   fslinfo_a+      short       lcni          1  COMPLETED      0:0 \n",
      "11749822_9.+      batch                  lcni          1  COMPLETED      0:0 \n",
      "11749822_9.+     extern                  lcni          1  COMPLETED      0:0 \n"
     ]
    }
   ],
   "source": [
    "!sacct -j 11749822"
   ]
  },
  {
   "cell_type": "markdown",
   "metadata": {},
   "source": [
    "There's a slurm output file for each value of x."
   ]
  },
  {
   "cell_type": "code",
   "execution_count": 27,
   "metadata": {},
   "outputs": [
    {
     "name": "stdout",
     "output_type": "stream",
     "text": [
      "slurm-11749822_0.out  slurm-11749822_4.out  slurm-11749822_8.out\n",
      "slurm-11749822_1.out  slurm-11749822_5.out  slurm-11749822_9.out\n",
      "slurm-11749822_2.out  slurm-11749822_6.out\n",
      "slurm-11749822_3.out  slurm-11749822_7.out\n"
     ]
    }
   ],
   "source": [
    "ls slurm-11749822*"
   ]
  },
  {
   "cell_type": "code",
   "execution_count": 28,
   "metadata": {},
   "outputs": [
    {
     "name": "stdout",
     "output_type": "stream",
     "text": [
      "01\n",
      "data_type\tFLOAT32\n",
      "dim1\t\t256\n",
      "dim2\t\t156\n",
      "dim3\t\t256\n",
      "dim4\t\t1\n",
      "datatype\t16\n",
      "pixdim1\t\t1.000000\n",
      "pixdim2\t\t1.299376\n",
      "pixdim3\t\t1.000000\n",
      "pixdim4\t\t0.009668\n",
      "cal_max\t\t0.000000\n",
      "cal_min\t\t0.000000\n",
      "file_type\tNIFTI-1+\n"
     ]
    }
   ],
   "source": [
    "cat slurm-11749822_0.out"
   ]
  },
  {
   "cell_type": "markdown",
   "metadata": {},
   "source": [
    "# Slurmpy\n",
    "Writing similar scripts over and over got pretty old, so I wrote a slurm-script generator module named slurmpy. Using slurmpy you can create, submit, and see the results of slurm jobs. Here's how I could have generated today's examples."
   ]
  },
  {
   "cell_type": "code",
   "execution_count": 29,
   "metadata": {},
   "outputs": [],
   "source": [
    "import slurmpy"
   ]
  },
  {
   "cell_type": "code",
   "execution_count": 48,
   "metadata": {},
   "outputs": [
    {
     "name": "stdout",
     "output_type": "stream",
     "text": [
      "sbatch --account=lcni --wrap \"echo hello\"\n",
      "Submitted batch job 11750065\n",
      "\n"
     ]
    }
   ],
   "source": [
    "jobid = slurmpy.WrapSlurmCommand(command = 'echo hello', account = 'lcni')"
   ]
  },
  {
   "cell_type": "code",
   "execution_count": 49,
   "metadata": {},
   "outputs": [
    {
     "data": {
      "text/plain": [
       "'11750065'"
      ]
     },
     "execution_count": 49,
     "metadata": {},
     "output_type": "execute_result"
    }
   ],
   "source": [
    "jobid"
   ]
  },
  {
   "cell_type": "code",
   "execution_count": 50,
   "metadata": {},
   "outputs": [
    {
     "name": "stdout",
     "output_type": "stream",
     "text": [
      "hello\n"
     ]
    }
   ],
   "source": [
    "cat slurm-{jobid}.out"
   ]
  },
  {
   "cell_type": "markdown",
   "metadata": {},
   "source": [
    "Slurmpy has a SlurmJob class that can make this even easier."
   ]
  },
  {
   "cell_type": "code",
   "execution_count": 51,
   "metadata": {},
   "outputs": [],
   "source": [
    "job = slurmpy.SlurmJob(account = 'lcni', jobname = 'echo', command = 'echo hello')"
   ]
  },
  {
   "cell_type": "markdown",
   "metadata": {},
   "source": [
    "Note that it's jobname, not job-name, because a dash is a minus operator in python and we can't have one in the middle of a variable name. "
   ]
  },
  {
   "cell_type": "code",
   "execution_count": 52,
   "metadata": {},
   "outputs": [
    {
     "name": "stdout",
     "output_type": "stream",
     "text": [
      "sbatch --account=lcni --wrap \"echo hello\"\n",
      "Submitted batch job 11750213\n",
      "\n"
     ]
    },
    {
     "data": {
      "text/plain": [
       "'11750213'"
      ]
     },
     "execution_count": 52,
     "metadata": {},
     "output_type": "execute_result"
    }
   ],
   "source": [
    "job.WrapSlurmCommand()"
   ]
  },
  {
   "cell_type": "code",
   "execution_count": 53,
   "metadata": {},
   "outputs": [
    {
     "name": "stdout",
     "output_type": "stream",
     "text": [
      "          JobID                        JobName  Partition      State    Elapsed     MaxRSS \n",
      "--------------- ------------------------------ ---------- ---------- ---------- ---------- \n",
      "       11750213                           wrap      short  COMPLETED   00:00:01            \n",
      " 11750213.batch                          batch             COMPLETED   00:00:01          0 \n",
      "11750213.extern                         extern             COMPLETED   00:00:01          0 \n",
      "\n"
     ]
    }
   ],
   "source": [
    "print(job.JobInfo())"
   ]
  },
  {
   "cell_type": "code",
   "execution_count": 54,
   "metadata": {},
   "outputs": [
    {
     "name": "stdout",
     "output_type": "stream",
     "text": [
      "slurm-11750213.out\n",
      "hello\n",
      "\n"
     ]
    }
   ],
   "source": [
    "job.ShowOutput()"
   ]
  },
  {
   "cell_type": "markdown",
   "metadata": {},
   "source": [
    "Slurmpy can write slurm script files too."
   ]
  },
  {
   "cell_type": "code",
   "execution_count": 55,
   "metadata": {},
   "outputs": [
    {
     "data": {
      "text/plain": [
       "'example.srun'"
      ]
     },
     "execution_count": 55,
     "metadata": {},
     "output_type": "execute_result"
    }
   ],
   "source": [
    "job.WriteSlurmFile('example.srun')"
   ]
  },
  {
   "cell_type": "code",
   "execution_count": 56,
   "metadata": {},
   "outputs": [
    {
     "name": "stdout",
     "output_type": "stream",
     "text": [
      "#!/bin/bash\n",
      "#SBATCH --job-name=echo\n",
      "#SBATCH --account=lcni\n",
      "\n",
      "echo hello\n"
     ]
    }
   ],
   "source": [
    "job.PrintSlurmFile()"
   ]
  },
  {
   "cell_type": "markdown",
   "metadata": {},
   "source": [
    "Multiline commands can either be strings with '\\n' between lines, or a list of strings."
   ]
  },
  {
   "cell_type": "code",
   "execution_count": 58,
   "metadata": {},
   "outputs": [],
   "source": [
    "command = list()\n",
    "command.append('module load fsl/6.0.1')\n",
    "command.append('fslinfo /projects/lcni/jolinda/shared/TalapasClass/ds000114/sub-01/ses-test/anat/sub-01_ses-test_T1w.nii.gz')"
   ]
  },
  {
   "cell_type": "code",
   "execution_count": 59,
   "metadata": {},
   "outputs": [],
   "source": [
    "job = slurmpy.SlurmJob(account = 'lcni', jobname = 'fslinfo', command = command)"
   ]
  },
  {
   "cell_type": "code",
   "execution_count": 60,
   "metadata": {},
   "outputs": [
    {
     "data": {
      "text/plain": [
       "'example2.srun'"
      ]
     },
     "execution_count": 60,
     "metadata": {},
     "output_type": "execute_result"
    }
   ],
   "source": [
    "job.WriteSlurmFile('example2.srun')"
   ]
  },
  {
   "cell_type": "code",
   "execution_count": 61,
   "metadata": {},
   "outputs": [
    {
     "name": "stdout",
     "output_type": "stream",
     "text": [
      "#!/bin/bash\n",
      "#SBATCH --job-name=fslinfo\n",
      "#SBATCH --account=lcni\n",
      "\n",
      "module load fsl/6.0.1\n",
      "fslinfo /projects/lcni/jolinda/shared/TalapasClass/ds000114/sub-01/ses-test/anat/sub-01_ses-test_T1w.nii.gz\n"
     ]
    }
   ],
   "source": [
    "job.PrintSlurmFile()"
   ]
  },
  {
   "cell_type": "markdown",
   "metadata": {},
   "source": [
    "There are many ways to build up an array job! I usually use glob to get the list of files I want to work with."
   ]
  },
  {
   "cell_type": "code",
   "execution_count": 62,
   "metadata": {},
   "outputs": [],
   "source": [
    "import os\n",
    "import glob\n",
    "files = sorted(glob.glob(os.path.join(bidsdir, 'sub*', 'ses-test', 'anat', '*T1w.nii.gz')))"
   ]
  },
  {
   "cell_type": "code",
   "execution_count": 63,
   "metadata": {},
   "outputs": [
    {
     "data": {
      "text/plain": [
       "['/projects/lcni/jolinda/shared/TalapasClass/ds000114/sub-01/ses-test/anat/sub-01_ses-test_T1w.nii.gz',\n",
       " '/projects/lcni/jolinda/shared/TalapasClass/ds000114/sub-02/ses-test/anat/sub-02_ses-test_T1w.nii.gz',\n",
       " '/projects/lcni/jolinda/shared/TalapasClass/ds000114/sub-03/ses-test/anat/sub-03_ses-test_T1w.nii.gz',\n",
       " '/projects/lcni/jolinda/shared/TalapasClass/ds000114/sub-04/ses-test/anat/sub-04_ses-test_T1w.nii.gz',\n",
       " '/projects/lcni/jolinda/shared/TalapasClass/ds000114/sub-05/ses-test/anat/sub-05_ses-test_T1w.nii.gz',\n",
       " '/projects/lcni/jolinda/shared/TalapasClass/ds000114/sub-06/ses-test/anat/sub-06_ses-test_T1w.nii.gz',\n",
       " '/projects/lcni/jolinda/shared/TalapasClass/ds000114/sub-07/ses-test/anat/sub-07_ses-test_T1w.nii.gz',\n",
       " '/projects/lcni/jolinda/shared/TalapasClass/ds000114/sub-08/ses-test/anat/sub-08_ses-test_T1w.nii.gz',\n",
       " '/projects/lcni/jolinda/shared/TalapasClass/ds000114/sub-09/ses-test/anat/sub-09_ses-test_T1w.nii.gz',\n",
       " '/projects/lcni/jolinda/shared/TalapasClass/ds000114/sub-10/ses-test/anat/sub-10_ses-test_T1w.nii.gz']"
      ]
     },
     "execution_count": 63,
     "metadata": {},
     "output_type": "execute_result"
    }
   ],
   "source": [
    "files"
   ]
  },
  {
   "cell_type": "code",
   "execution_count": 68,
   "metadata": {},
   "outputs": [],
   "source": [
    "command = list()\n",
    "command.append('module load fsl/6.0.1')\n",
    "command.append('echo ${x}')\n",
    "command.append('fslinfo ${x}')"
   ]
  },
  {
   "cell_type": "code",
   "execution_count": 69,
   "metadata": {},
   "outputs": [],
   "source": [
    "job = slurmpy.SlurmJob(account = 'lcni', jobname = 'fslinfo_array', command = command, array = files)"
   ]
  },
  {
   "cell_type": "code",
   "execution_count": 70,
   "metadata": {},
   "outputs": [
    {
     "data": {
      "text/plain": [
       "'example3.srun'"
      ]
     },
     "execution_count": 70,
     "metadata": {},
     "output_type": "execute_result"
    }
   ],
   "source": [
    "job.WriteSlurmFile('example3.srun')"
   ]
  },
  {
   "cell_type": "code",
   "execution_count": 71,
   "metadata": {},
   "outputs": [
    {
     "name": "stdout",
     "output_type": "stream",
     "text": [
      "#!/bin/bash\n",
      "#SBATCH --job-name=fslinfo_array\n",
      "#SBATCH --account=lcni\n",
      "#SBATCH --array=0-9\n",
      "\n",
      "data=(/projects/lcni/jolinda/shared/TalapasClass/ds000114/sub-01/ses-test/anat/sub-01_ses-test_T1w.nii.gz /projects/lcni/jolinda/shared/TalapasClass/ds000114/sub-02/ses-test/anat/sub-02_ses-test_T1w.nii.gz /projects/lcni/jolinda/shared/TalapasClass/ds000114/sub-03/ses-test/anat/sub-03_ses-test_T1w.nii.gz /projects/lcni/jolinda/shared/TalapasClass/ds000114/sub-04/ses-test/anat/sub-04_ses-test_T1w.nii.gz /projects/lcni/jolinda/shared/TalapasClass/ds000114/sub-05/ses-test/anat/sub-05_ses-test_T1w.nii.gz /projects/lcni/jolinda/shared/TalapasClass/ds000114/sub-06/ses-test/anat/sub-06_ses-test_T1w.nii.gz /projects/lcni/jolinda/shared/TalapasClass/ds000114/sub-07/ses-test/anat/sub-07_ses-test_T1w.nii.gz /projects/lcni/jolinda/shared/TalapasClass/ds000114/sub-08/ses-test/anat/sub-08_ses-test_T1w.nii.gz /projects/lcni/jolinda/shared/TalapasClass/ds000114/sub-09/ses-test/anat/sub-09_ses-test_T1w.nii.gz /projects/lcni/jolinda/shared/TalapasClass/ds000114/sub-10/ses-test/anat/sub-10_ses-test_T1w.nii.gz)\n",
      "\n",
      "x=${data[$SLURM_ARRAY_TASK_ID]}\n",
      "\n",
      "\n",
      "module load fsl/6.0.1\n",
      "echo ${x}\n",
      "fslinfo ${x}\n"
     ]
    }
   ],
   "source": [
    "job.PrintSlurmFile()"
   ]
  },
  {
   "cell_type": "markdown",
   "metadata": {},
   "source": [
    "The effect will be the same as the original fslinfo_array.srun file. Whichever way you do it is a matter of preference and ease. If you are working with the output of dicom2bids, you'll have the run numbers in the file names to deal with, so simply substituting in the subject names may not work. Add in output files and keeping it all sorted out can be a little tricky. We'll dig into that more next week."
   ]
  },
  {
   "cell_type": "code",
   "execution_count": 72,
   "metadata": {},
   "outputs": [
    {
     "name": "stdout",
     "output_type": "stream",
     "text": [
      "Submitted batch job 11751898\n",
      "\n"
     ]
    },
    {
     "data": {
      "text/plain": [
       "'11751898'"
      ]
     },
     "execution_count": 72,
     "metadata": {},
     "output_type": "execute_result"
    }
   ],
   "source": [
    "job.SubmitSlurmFile()"
   ]
  },
  {
   "cell_type": "code",
   "execution_count": 73,
   "metadata": {},
   "outputs": [
    {
     "name": "stdout",
     "output_type": "stream",
     "text": [
      "COMPLETED 10\n"
     ]
    }
   ],
   "source": [
    "job.ShowStatus()"
   ]
  },
  {
   "cell_type": "code",
   "execution_count": 74,
   "metadata": {},
   "outputs": [
    {
     "name": "stdout",
     "output_type": "stream",
     "text": [
      "          JobID                        JobName  Partition      State    Elapsed     MaxRSS \n",
      "--------------- ------------------------------ ---------- ---------- ---------- ---------- \n",
      "     11751898_0                  fslinfo_array      short  COMPLETED   00:00:02            \n",
      "11751898_0.bat+                          batch             COMPLETED   00:00:02          0 \n",
      "11751898_0.ext+                         extern             COMPLETED   00:00:03          0 \n",
      "     11751898_1                  fslinfo_array      short  COMPLETED   00:00:03            \n",
      "11751898_1.bat+                          batch             COMPLETED   00:00:03          0 \n",
      "11751898_1.ext+                         extern             COMPLETED   00:00:03          0 \n",
      "     11751898_2                  fslinfo_array      short  COMPLETED   00:00:02            \n",
      "11751898_2.bat+                          batch             COMPLETED   00:00:02          0 \n",
      "11751898_2.ext+                         extern             COMPLETED   00:00:03          0 \n",
      "     11751898_3                  fslinfo_array      short  COMPLETED   00:00:03            \n",
      "11751898_3.bat+                          batch             COMPLETED   00:00:03          0 \n",
      "11751898_3.ext+                         extern             COMPLETED   00:00:03          0 \n",
      "     11751898_4                  fslinfo_array      short  COMPLETED   00:00:03            \n",
      "11751898_4.bat+                          batch             COMPLETED   00:00:03          0 \n",
      "11751898_4.ext+                         extern             COMPLETED   00:00:03          0 \n",
      "     11751898_5                  fslinfo_array      short  COMPLETED   00:00:04            \n",
      "11751898_5.bat+                          batch             COMPLETED   00:00:04          0 \n",
      "11751898_5.ext+                         extern             COMPLETED   00:00:04          0 \n",
      "     11751898_6                  fslinfo_array      short  COMPLETED   00:00:03            \n",
      "11751898_6.bat+                          batch             COMPLETED   00:00:03          0 \n",
      "11751898_6.ext+                         extern             COMPLETED   00:00:03          0 \n",
      "     11751898_7                  fslinfo_array      short  COMPLETED   00:00:04            \n",
      "11751898_7.bat+                          batch             COMPLETED   00:00:04          0 \n",
      "11751898_7.ext+                         extern             COMPLETED   00:00:04          0 \n",
      "     11751898_8                  fslinfo_array      short  COMPLETED   00:00:03            \n",
      "11751898_8.bat+                          batch             COMPLETED   00:00:03          0 \n",
      "11751898_8.ext+                         extern             COMPLETED   00:00:04          0 \n",
      "     11751898_9                  fslinfo_array      short  COMPLETED   00:00:03            \n",
      "11751898_9.bat+                          batch             COMPLETED   00:00:03          0 \n",
      "11751898_9.ext+                         extern             COMPLETED   00:00:04          0 \n",
      "\n"
     ]
    }
   ],
   "source": [
    "print(job.JobInfo())"
   ]
  },
  {
   "cell_type": "code",
   "execution_count": 77,
   "metadata": {},
   "outputs": [
    {
     "name": "stdout",
     "output_type": "stream",
     "text": [
      "               JobID \n",
      "-------------------- \n",
      "          11751898_0 \n",
      "    11751898_0.batch \n",
      "   11751898_0.extern \n",
      "          11751898_1 \n",
      "    11751898_1.batch \n",
      "   11751898_1.extern \n",
      "          11751898_2 \n",
      "    11751898_2.batch \n",
      "   11751898_2.extern \n",
      "          11751898_3 \n",
      "    11751898_3.batch \n",
      "   11751898_3.extern \n",
      "          11751898_4 \n",
      "    11751898_4.batch \n",
      "   11751898_4.extern \n",
      "          11751898_5 \n",
      "    11751898_5.batch \n",
      "   11751898_5.extern \n",
      "          11751898_6 \n",
      "    11751898_6.batch \n",
      "   11751898_6.extern \n",
      "          11751898_7 \n",
      "    11751898_7.batch \n",
      "   11751898_7.extern \n",
      "          11751898_8 \n",
      "    11751898_8.batch \n",
      "   11751898_8.extern \n",
      "          11751898_9 \n",
      "    11751898_9.batch \n",
      "   11751898_9.extern \n",
      "\n"
     ]
    }
   ],
   "source": [
    "print(job.JobInfo(['jobid%20']))"
   ]
  },
  {
   "cell_type": "code",
   "execution_count": null,
   "metadata": {},
   "outputs": [],
   "source": []
  }
 ],
 "metadata": {
  "kernelspec": {
   "display_name": "Python 3",
   "language": "python",
   "name": "python3"
  },
  "language_info": {
   "codemirror_mode": {
    "name": "ipython",
    "version": 3
   },
   "file_extension": ".py",
   "mimetype": "text/x-python",
   "name": "python",
   "nbconvert_exporter": "python",
   "pygments_lexer": "ipython3",
   "version": "3.6.8"
  }
 },
 "nbformat": 4,
 "nbformat_minor": 2
}
