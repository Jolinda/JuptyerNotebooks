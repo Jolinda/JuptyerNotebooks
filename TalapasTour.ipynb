{
 "cells": [
  {
   "cell_type": "markdown",
   "metadata": {},
   "source": [
    "# Talapas knowledge base  \n",
    "https://hpcrcf.atlassian.net/wiki/spaces/TCP/overview?homepageId=6761503  \n",
    "Service Desk  \n",
    "https://hpcrcf.atlassian.net/servicedesk/customer/portal/1"
   ]
  },
  {
   "cell_type": "markdown",
   "metadata": {},
   "source": [
    "# Logging in\n",
    "You log into talapas on a login node, but you shouldn't do any work there! Real work should be done on a partition. There are two login nodes, ln1 and ln2. You can ssh into talapas with either:  \n",
    "ssh username@talapas-ln1.uoregon.edu  \n",
    "ssh username@talapas-ln2.uoregon.edu  \n",
    "ssh username@talapas-login.uoregon.edu"
   ]
  },
  {
   "cell_type": "markdown",
   "metadata": {},
   "source": [
    "# OnDemand\n",
    "Assuming you already have a talapas account, the easiest way to log in is to use OnDemand. No VPN required.    \n",
    "Open a private browser window and go to:  \n",
    "https://talapas-ln1.uoregon.edu/  \n",
    "https://talapas-ln2.uoregon.edu/  \n",
    "Log in using your Duck ID  \n",
    "Can browse files under \"files\"  \n",
    "Can see command prompt under \"clusters/shell access\""
   ]
  },
  {
   "cell_type": "markdown",
   "metadata": {},
   "source": [
    "# Directories on talapas\n",
    "your home directory -- very little space for files here! (10 GB) Keep your notebooks here and data elsewhere  \n",
    "/projects/PIRG/USERNAME  \n",
    "/projects/PIRG/shared  \n",
    "/tmp  Will be deleted at the end of the job, should be faster than using another temporary directory"
   ]
  },
  {
   "cell_type": "markdown",
   "metadata": {},
   "source": [
    "# Partitions\n",
    "![caption](files/partitions.png)"
   ]
  },
  {
   "cell_type": "markdown",
   "metadata": {},
   "source": [
    "# Interactive Apps \n",
    "Currently two: Talapas Desktop and Jupyter Notebook  \n",
    "You'll need the following information: your PIRG, the partition you are requesting, and how long you want your job to run. You should also include 'idx: [project/index]' in the comment field to help with billing."
   ]
  },
  {
   "cell_type": "code",
   "execution_count": null,
   "metadata": {},
   "outputs": [],
   "source": []
  }
 ],
 "metadata": {
  "kernelspec": {
   "display_name": "Python 3",
   "language": "python",
   "name": "python3"
  },
  "language_info": {
   "codemirror_mode": {
    "name": "ipython",
    "version": 3
   },
   "file_extension": ".py",
   "mimetype": "text/x-python",
   "name": "python",
   "nbconvert_exporter": "python",
   "pygments_lexer": "ipython3",
   "version": "3.6.5"
  }
 },
 "nbformat": 4,
 "nbformat_minor": 2
}
