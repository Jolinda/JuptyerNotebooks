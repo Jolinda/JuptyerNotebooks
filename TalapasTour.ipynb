{
 "cells": [
  {
   "cell_type": "markdown",
   "metadata": {},
   "source": [
    "# Talapas knowledge base  \n",
    "https://hpcrcf.atlassian.net/wiki/spaces/TCP/overview?homepageId=6761503  \n",
    "Service Desk  \n",
    "https://hpcrcf.atlassian.net/servicedesk/customer/portal/1"
   ]
  },
  {
   "cell_type": "markdown",
   "metadata": {},
   "source": [
    "# Logging in\n",
    "You log into talapas on a login node, but you shouldn't do any work there! Real work should be done on a partition. There are two login nodes, ln1 and ln2. You can ssh into talapas with either:  \n",
    "  \n",
    "ssh username@talapas-ln1.uoregon.edu  \n",
    "ssh username@talapas-ln2.uoregon.edu  \n",
    "ssh username@talapas-login.uoregon.edu  \n",
    "  \n",
    "You will need to be connected to the on campus network (directly or with VPN) for that to work. If you want to run matlab, fsleyes, or some other graphical interface, detailed instructions are here:  \n",
    "  \n",
    "https://hpcrcf.atlassian.net/wiki/spaces/TCP/pages/7312376/Quick+Start+Guide#QuickStartGuide-RunningGraphicalInteractiveJobs  \n",
    "  \n",
    "The easiest way to do this is to use OnDemand. In my experience, it also has the best performance when logging in from home."
   ]
  },
  {
   "cell_type": "markdown",
   "metadata": {},
   "source": [
    "# OnDemand\n",
    "Assuming you already have a talapas account, the easiest way to log in is to use OnDemand. No VPN required.    \n",
    "Open a private browser window and go to:  \n",
    "https://talapas-ln1.uoregon.edu/  \n",
    "https://talapas-ln2.uoregon.edu/  \n",
    "Log in using your Duck ID  \n",
    "Can browse files under \"files\"  \n",
    "Can see command prompt under \"clusters/shell access\"  \n",
    "Start jupyter notebook or talapas desktop under \"Interactive Apps\"\n",
    "![caption](files/ondemand.png)"
   ]
  },
  {
   "cell_type": "markdown",
   "metadata": {},
   "source": [
    "# Directories on talapas\n",
    "your home directory -- very little space for files here! (10 GB) Keep your notebooks here and data elsewhere  \n",
    "/projects/PIRG/USERNAME  \n",
    "/projects/PIRG/shared  \n",
    "/tmp  Will be deleted at the end of the job, should be faster than using another temporary directory"
   ]
  },
  {
   "cell_type": "markdown",
   "metadata": {},
   "source": [
    "# Partitions\n",
    "![caption](files/partitions.png)"
   ]
  },
  {
   "cell_type": "markdown",
   "metadata": {},
   "source": [
    "# Interactive Apps \n",
    "Currently two: Talapas Desktop and Jupyter Notebook  \n",
    "You'll need the following information: your PIRG, the partition you are requesting, and how long you want your job to run. You should also include 'idx: [project/index]' in the comment field to help with billing. Talapas desktop gives you a nice desktop environment where you can run your guis. Some applications including matlab and rstudio can be launched from the menu. For others you'll need to load a module. \n",
    "![caption](files/desktop.png)"
   ]
  },
  {
   "cell_type": "markdown",
   "metadata": {},
   "source": [
    "# Modules  \n",
    "Most software on Talapas is installed as LMOD modules. A nice guide on how to use them is here:  \n",
    "  \n",
    "https://hpcrcf.atlassian.net/wiki/spaces/TCP/pages/7198035/How-to+Use+LMOD  \n",
    "\n",
    "To see all available modules, use module avail, or module avail [name]. For example, to see all available modules starting with fsl:\n",
    "```\n",
    "[jolinda@talapas-ln1 ~]$ module avail fsl\n",
    "\n",
    "----------------------------------- /packages/modulefiles/Core ----------------------------------\n",
    "   fsl/5.0.9    fsl/5.0.10 (D)    fsl/6.0.1    fsleyes/0.23.0\n",
    "\n",
    "  Where:\n",
    "   D:  Default Module\n",
    "\n",
    "Use \"module spider\" to find all possible modules.\n",
    "Use \"module keyword key1 key2 ...\" to search for all possible modules matching any of the \"keys\".\n",
    "```\n",
    "We see that there are four packages matching \"fsl\", and the default module is version 5.0.10. That's the version that will load if you simply type \"module load fsl\". To control which version of fsl you load, type the whole name, eg \"module load fsl/6.0.1\". Once the module is loaded you'll be able to run any of the usual commands from the command line.  \n",
    "  \n",
    "'module spider' returns similar information to 'module avail', except that it doesn't indicate the default module and will also show modules that can't be loaded with 'module load'."
   ]
  },
  {
   "cell_type": "code",
   "execution_count": null,
   "metadata": {},
   "outputs": [],
   "source": []
  }
 ],
 "metadata": {
  "kernelspec": {
   "display_name": "Python 3",
   "language": "python",
   "name": "python3"
  },
  "language_info": {
   "codemirror_mode": {
    "name": "ipython",
    "version": 3
   },
   "file_extension": ".py",
   "mimetype": "text/x-python",
   "name": "python",
   "nbconvert_exporter": "python",
   "pygments_lexer": "ipython3",
   "version": "3.6.5"
  }
 },
 "nbformat": 4,
 "nbformat_minor": 2
}
