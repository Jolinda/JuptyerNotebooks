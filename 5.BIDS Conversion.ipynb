{
 "cells": [
  {
   "cell_type": "markdown",
   "metadata": {},
   "source": [
    "THIS NOTEBOOK IS OUT OF DATE. Please see about_dicom2bids in the lcnimodules repo for correct usage of that module. If you read the original 4.BIDS notebook, it ended with conversion. We didn't get to that last week, so I've moved it here. Some things have changed (lucky you, taking a class using modules still in development!), so make sure you use the stuff in THIS notebook."
   ]
  },
  {
   "cell_type": "markdown",
   "metadata": {},
   "source": [
    "# An interlude: python's pathlib module\n",
    "Just when I get used to one way of doing things (os.path functions), I find out there's a new way. Pythod versions 3.5 and higher introduce the pathlib module, which has significant overlap with os.path. It also is going answer some questions I've gotten about opening files in JupyterLab that aren't under your home directory"
   ]
  },
  {
   "cell_type": "code",
   "execution_count": 1,
   "metadata": {},
   "outputs": [],
   "source": [
    "import pathlib"
   ]
  },
  {
   "cell_type": "markdown",
   "metadata": {},
   "source": [
    "If you define this variable and the others in this section, it will be easier to follow along."
   ]
  },
  {
   "cell_type": "code",
   "execution_count": 2,
   "metadata": {},
   "outputs": [],
   "source": [
    "myhomedir = pathlib.Path.home()"
   ]
  },
  {
   "cell_type": "code",
   "execution_count": 3,
   "metadata": {},
   "outputs": [
    {
     "data": {
      "text/plain": [
       "PosixPath('/home/jolinda')"
      ]
     },
     "execution_count": 3,
     "metadata": {},
     "output_type": "execute_result"
    }
   ],
   "source": [
    "myhomedir"
   ]
  },
  {
   "cell_type": "markdown",
   "metadata": {},
   "source": [
    "There are ways of seeing your groups/getting your pirg in python, but the easiest is to just use the groups command in bash."
   ]
  },
  {
   "cell_type": "code",
   "execution_count": 4,
   "metadata": {},
   "outputs": [
    {
     "name": "stdout",
     "output_type": "stream",
     "text": [
      "talapas lcni\n"
     ]
    }
   ],
   "source": [
    "!groups"
   ]
  },
  {
   "cell_type": "markdown",
   "metadata": {},
   "source": [
    "Your pirg should be listed there."
   ]
  },
  {
   "cell_type": "code",
   "execution_count": 5,
   "metadata": {},
   "outputs": [],
   "source": [
    "# set this variable to your own pirg\n",
    "mypirg = 'lcni'"
   ]
  },
  {
   "cell_type": "markdown",
   "metadata": {},
   "source": [
    "You should have a directory with the same name as your pirg in your home directory. We can check that like this."
   ]
  },
  {
   "cell_type": "code",
   "execution_count": 6,
   "metadata": {},
   "outputs": [],
   "source": [
    "my_pirgdir = myhomedir.joinpath(mypirg)"
   ]
  },
  {
   "cell_type": "code",
   "execution_count": 7,
   "metadata": {},
   "outputs": [
    {
     "data": {
      "text/plain": [
       "PosixPath('/home/jolinda/lcni')"
      ]
     },
     "execution_count": 7,
     "metadata": {},
     "output_type": "execute_result"
    }
   ],
   "source": [
    "my_pirgdir"
   ]
  },
  {
   "cell_type": "code",
   "execution_count": 8,
   "metadata": {},
   "outputs": [
    {
     "data": {
      "text/plain": [
       "True"
      ]
     },
     "execution_count": 8,
     "metadata": {},
     "output_type": "execute_result"
    }
   ],
   "source": [
    "my_pirgdir.exists()"
   ]
  },
  {
   "cell_type": "code",
   "execution_count": 9,
   "metadata": {},
   "outputs": [
    {
     "data": {
      "text/plain": [
       "True"
      ]
     },
     "execution_count": 9,
     "metadata": {},
     "output_type": "execute_result"
    }
   ],
   "source": [
    "my_pirgdir.is_symlink()"
   ]
  },
  {
   "cell_type": "code",
   "execution_count": 10,
   "metadata": {},
   "outputs": [
    {
     "data": {
      "text/plain": [
       "PosixPath('/gpfs/projects/lcni/jolinda')"
      ]
     },
     "execution_count": 10,
     "metadata": {},
     "output_type": "execute_result"
    }
   ],
   "source": [
    "# see the full path\n",
    "my_pirgdir.resolve()"
   ]
  },
  {
   "cell_type": "markdown",
   "metadata": {},
   "source": [
    "my_pirgdir is a symbolic link -- the real path is under projects/pirg, but because there is a link under my home directory I can access it from the left panel in Jupyter lab. Let's create a directory under it for our output today."
   ]
  },
  {
   "cell_type": "code",
   "execution_count": 11,
   "metadata": {},
   "outputs": [],
   "source": [
    "class5_output = my_pirgdir.joinpath('class5out')"
   ]
  },
  {
   "cell_type": "code",
   "execution_count": 12,
   "metadata": {},
   "outputs": [
    {
     "data": {
      "text/plain": [
       "False"
      ]
     },
     "execution_count": 12,
     "metadata": {},
     "output_type": "execute_result"
    }
   ],
   "source": [
    "# it doesn't actually exist yet\n",
    "class5_output.exists()"
   ]
  },
  {
   "cell_type": "code",
   "execution_count": 13,
   "metadata": {},
   "outputs": [],
   "source": [
    "# so let's make it\n",
    "class5_output.mkdir()"
   ]
  },
  {
   "cell_type": "code",
   "execution_count": 14,
   "metadata": {},
   "outputs": [
    {
     "data": {
      "text/plain": [
       "True"
      ]
     },
     "execution_count": 14,
     "metadata": {},
     "output_type": "execute_result"
    }
   ],
   "source": [
    "class5_output.exists()"
   ]
  },
  {
   "cell_type": "markdown",
   "metadata": {},
   "source": [
    "We can use pathlib to create symbolic links -- for example, to my shared TalapasClass folder. You might find this useful."
   ]
  },
  {
   "cell_type": "code",
   "execution_count": 22,
   "metadata": {},
   "outputs": [],
   "source": [
    "pathlib.Path('TalapasClass').symlink_to('/projects/lcni/jolinda/shared/TalapasClass')"
   ]
  },
  {
   "cell_type": "markdown",
   "metadata": {},
   "source": [
    "Finally, a reminder about the system path (where python looks for modules). It's in the sys.path variable:"
   ]
  },
  {
   "cell_type": "code",
   "execution_count": 15,
   "metadata": {},
   "outputs": [
    {
     "data": {
      "text/plain": [
       "['/gpfs/projects/lcni/jolinda/shared/TalapasClass',\n",
       " '',\n",
       " '/projects/lcni/shared/python3/site-packages',\n",
       " '/projects/lcni/jolinda/shared/site-packages',\n",
       " '/packages/miniconda/20190102/envs/anaconda-tensorflow-cpu/lib/python36.zip',\n",
       " '/packages/miniconda/20190102/envs/anaconda-tensorflow-cpu/lib/python3.6',\n",
       " '/packages/miniconda/20190102/envs/anaconda-tensorflow-cpu/lib/python3.6/lib-dynload',\n",
       " '/home/jolinda/.local/lib/python3.6/site-packages',\n",
       " '/home/jolinda/.local/lib/python3.6/site-packages/pyperclip-1.6.0-py3.6.egg',\n",
       " '/packages/miniconda/20190102/envs/anaconda-tensorflow-cpu/lib/python3.6/site-packages',\n",
       " '/packages/miniconda/20190102/envs/anaconda-tensorflow-cpu/lib/python3.6/site-packages/IPython/extensions',\n",
       " '/gpfs/home/jolinda/.ipython']"
      ]
     },
     "execution_count": 15,
     "metadata": {},
     "output_type": "execute_result"
    }
   ],
   "source": [
    "import sys\n",
    "sys.path"
   ]
  },
  {
   "cell_type": "markdown",
   "metadata": {},
   "source": [
    "To follow along today you'll need /projects/lcni/jolinda/shared/site-packages in your path (or another path to the lcnimodules if you've gotten them from github). If you haven't added the directory containing those modules to your path you'll need to do so now:"
   ]
  },
  {
   "cell_type": "code",
   "execution_count": 16,
   "metadata": {},
   "outputs": [],
   "source": [
    "if '/projects/lcni/jolinda/shared/site-packages' not in sys.path:\n",
    "    sys.path.append('/projects/lcni/jolinda/shared/site-packages')"
   ]
  },
  {
   "cell_type": "markdown",
   "metadata": {},
   "source": [
    "To avoid doing this all the time, set the path in your .bashrc and .bashrc_ondemand files in your home directory. I have a sample file in my shared directory with this and some other useful environment variables."
   ]
  },
  {
   "cell_type": "code",
   "execution_count": 17,
   "metadata": {},
   "outputs": [
    {
     "name": "stdout",
     "output_type": "stream",
     "text": [
      "# .bashrc and .bashrc-ondemand\n",
      "\n",
      "export PYTHONPATH=$PYTHONPATH:/projects/lcni/jolinda/shared/site-packages\n",
      "export SLURM_ACCOUNT=<YOUR PIRG HERE>\n",
      "export SBATCH_ACCOUNT=<YOUR PIRG HERE>\n"
     ]
    }
   ],
   "source": [
    "!cat /projects/lcni/jolinda/shared/sample.bashrc"
   ]
  },
  {
   "cell_type": "markdown",
   "metadata": {},
   "source": [
    "# Review: BIDS directory structure"
   ]
  },
  {
   "cell_type": "code",
   "execution_count": 18,
   "metadata": {},
   "outputs": [
    {
     "name": "stdout",
     "output_type": "stream",
     "text": [
      "/projects/lcni/jolinda/shared/bids_example\n",
      "|-- dataset_description.json\n",
      "|-- participants.json\n",
      "|-- participants.tsv\n",
      "|-- sub-TC001\n",
      "`-- sub-TC002\n",
      "\n",
      "2 directories, 3 files\n"
     ]
    }
   ],
   "source": [
    "!tree /projects/lcni/jolinda/shared/bids_example -L 1 # top level only"
   ]
  },
  {
   "cell_type": "markdown",
   "metadata": {},
   "source": [
    "One thing that I've added since last week: the participants.json file. What's that about? First, look at the participants.tsv file."
   ]
  },
  {
   "cell_type": "code",
   "execution_count": 19,
   "metadata": {},
   "outputs": [
    {
     "name": "stdout",
     "output_type": "stream",
     "text": [
      "participant_id\tage\tsex\n",
      "sub-TC002\t18\tO\n",
      "sub-TC001\t12\tO\n",
      "\n"
     ]
    }
   ],
   "source": [
    "with open ('/projects/lcni/jolinda/shared/bids_example/participants.tsv') as f:\n",
    "    print(f.read())"
   ]
  },
  {
   "cell_type": "markdown",
   "metadata": {},
   "source": [
    "You can have as many columns as you like, but first column must be participant_id. Anything beyond age, sex, or group must be defined in the participants.json file. We don't need one with this data set, but I made one anyway to show you what it should look like."
   ]
  },
  {
   "cell_type": "code",
   "execution_count": 20,
   "metadata": {},
   "outputs": [
    {
     "name": "stdout",
     "output_type": "stream",
     "text": [
      "{\n",
      "    \"age\": {\n",
      "        \"Description\": \"age of participant\",\n",
      "        \"Units\": \"years\"\n",
      "    },\n",
      "    \"sex\": {\n",
      "        \"Description\": \"sex of participant\",\n",
      "        \"Levels\": {\n",
      "            \"M\": \"male\",\n",
      "            \"F\": \"female\",\n",
      "            \"O\": \"other\"\n",
      "        }\n",
      "    }\n",
      "}\n"
     ]
    }
   ],
   "source": [
    "# this is how to \"pretty print\" a json file in python\n",
    "# Load the file (json.load), dump it to a string (json.dumps), print the string\n",
    "import json\n",
    "with open ('/projects/lcni/jolinda/shared/bids_example/participants.json') as f:\n",
    "    j = json.load(f)\n",
    "print(json.dumps(j, indent = 4))"
   ]
  },
  {
   "cell_type": "code",
   "execution_count": 21,
   "metadata": {},
   "outputs": [
    {
     "name": "stdout",
     "output_type": "stream",
     "text": [
      "{\n",
      "    \"Name\": \"TC\",\n",
      "    \"BIDSVersion\": \"1.3.0\",\n",
      "    \"Authors\": [\n",
      "        \"Jolinda Smith\"\n",
      "    ],\n",
      "    \"Acknowledgements\": \"BIDS conversion was performed using dcm2niix. Thanks to Jolinda Smith at LCNI at the University of Oregon for additional scripting of BIDS conversion.\",\n",
      "    \"ReferencesAndLinks\": [\n",
      "        \"Li X, Morgan PS, Ashburner J, Smith J, Rorden C (2016) The first step for neuroimaging data analysis: DICOM to NIfTI conversion. J Neurosci Methods. 264:47-56. doi: 10.1016/j.jneumeth.2016.03.001.\"\n",
      "    ]\n",
      "}\n"
     ]
    }
   ],
   "source": [
    "with open ('/projects/lcni/jolinda/shared/bids_example/dataset_description.json') as f:\n",
    "    j = json.load(f)\n",
    "print(json.dumps(j, indent = 4))"
   ]
  },
  {
   "cell_type": "markdown",
   "metadata": {},
   "source": [
    "There's more you can put in the dataset description. The only things required are Name and BIDSVersion."
   ]
  },
  {
   "cell_type": "markdown",
   "metadata": {},
   "source": [
    "Below the subject level is the optional session level. Below that, is the 'file type' level, with a directory for each of the standard file types (anat, func, dwi, etc). The lowest level contains nifti files and matching json \"sidecar\" files. "
   ]
  },
  {
   "cell_type": "code",
   "execution_count": 22,
   "metadata": {},
   "outputs": [
    {
     "name": "stdout",
     "output_type": "stream",
     "text": [
      "/projects/lcni/jolinda/shared/bids_example/sub-TC002/\n",
      "`-- ses-pre\n",
      "    |-- anat\n",
      "    |   |-- sub-TC002_ses-pre_acq-mprage_run-2_T1w.json\n",
      "    |   `-- sub-TC002_ses-pre_acq-mprage_run-2_T1w.nii.gz\n",
      "    `-- func\n",
      "        |-- sub-TC002_ses-pre_task-SVC_run-3_bold.json\n",
      "        `-- sub-TC002_ses-pre_task-SVC_run-3_bold.nii.gz\n",
      "\n",
      "3 directories, 4 files\n"
     ]
    }
   ],
   "source": [
    "!tree /projects/lcni/jolinda/shared/bids_example/sub-TC002/"
   ]
  },
  {
   "cell_type": "markdown",
   "metadata": {},
   "source": [
    "The file names all have the format: `key-{value}_key-{value}_key-{value}_suffix.extension`. The key-{value} pairs are \"entities\" in bids-speak. Some are required, some are not (see https://bids-specification.readthedocs.io/en/stable/99-appendices/04-entity-table.html). "
   ]
  },
  {
   "cell_type": "markdown",
   "metadata": {},
   "source": [
    "# Conversion\n",
    "First, let's store the path to a directory of files we want to convert in a variable. Feel free to use a folder of files you have access to."
   ]
  },
  {
   "cell_type": "code",
   "execution_count": 23,
   "metadata": {},
   "outputs": [],
   "source": [
    "dcmdir = '/projects/lcni/dcm/TalapasClass/'"
   ]
  },
  {
   "cell_type": "markdown",
   "metadata": {},
   "source": [
    "Remember our lcni standard structure? pirg -- PI -- project -- subject -- series -- files"
   ]
  },
  {
   "cell_type": "code",
   "execution_count": 24,
   "metadata": {},
   "outputs": [
    {
     "name": "stdout",
     "output_type": "stream",
     "text": [
      "/projects/lcni/dcm/TalapasClass/\n",
      "`-- Smith\n",
      "    `-- TC\n",
      "        |-- TC001_20180620_110428\n",
      "        |   |-- Series_10_bold_DIFTIM_1.7mm\n",
      "        |   |-- Series_11_bold_DIFTIM_1.7mm\n",
      "        |   |-- Series_1_AAHead_Scout_32ch-head-coil\n",
      "        |   |-- Series_2_AAHead_Scout_32ch-head-coil_MPR_sag\n",
      "        |   |-- Series_3_AAHead_Scout_32ch-head-coil_MPR_cor\n",
      "        |   |-- Series_4_AAHead_Scout_32ch-head-coil_MPR_tra\n",
      "        |   |-- Series_5_mprage_p2\n",
      "        |   |-- Series_6_bold_DIFTIM_1.7mm\n",
      "        |   |-- Series_7_bold_DIFTIM_1.7mm\n",
      "        |   |-- Series_8_se_epi_1.7mm_ap\n",
      "        |   `-- Series_9_se_epi_1.7mm_pa\n",
      "        `-- TC002_20180916_090647\n",
      "            |-- Series_1_localizer\n",
      "            |-- Series_2_mprage_p2\n",
      "            `-- Series_3_SVC_1_bold_mb3_g2_2mm_te25\n",
      "\n",
      "18 directories\n"
     ]
    }
   ],
   "source": [
    "!tree {dcmdir} -d"
   ]
  },
  {
   "cell_type": "markdown",
   "metadata": {},
   "source": [
    "Our first job: to create a mapping of series folder names to bids-compliant output file names.  \n",
    "It's helpful to collect all the series names from our dicom directory. dicom2bids has a function to do just that."
   ]
  },
  {
   "cell_type": "code",
   "execution_count": 25,
   "metadata": {},
   "outputs": [],
   "source": [
    "import dicom2bids"
   ]
  },
  {
   "cell_type": "code",
   "execution_count": 26,
   "metadata": {},
   "outputs": [
    {
     "data": {
      "text/plain": [
       "{'AAHead_Scout_32ch-head-coil',\n",
       " 'AAHead_Scout_32ch-head-coil_MPR_cor',\n",
       " 'AAHead_Scout_32ch-head-coil_MPR_sag',\n",
       " 'AAHead_Scout_32ch-head-coil_MPR_tra',\n",
       " 'SVC_1_bold_mb3_g2_2mm_te25',\n",
       " 'bold_DIFTIM_1.7mm',\n",
       " 'localizer',\n",
       " 'mprage_p2',\n",
       " 'se_epi_1.7mm_ap',\n",
       " 'se_epi_1.7mm_pa'}"
      ]
     },
     "execution_count": 26,
     "metadata": {},
     "output_type": "execute_result"
    }
   ],
   "source": [
    "dicom2bids.GetSeriesNames(dcmdir)"
   ]
  },
  {
   "cell_type": "markdown",
   "metadata": {},
   "source": [
    "For each of these series, we need to: \n",
    "1. Decide whether to convert it\n",
    "2. Figure out the file type (anat, func, dwi, fmap)\n",
    "3. Define the 'entity-chain' for the output file names  "
   ]
  },
  {
   "cell_type": "markdown",
   "metadata": {},
   "source": [
    "If you cannot do this much, take some time to learn what the different series in your experiment ACTUALLY ARE.  \n",
    "The scouts and localizers are usually not converted. That leaves two bold series, two field map series, and an anatomical. Let's start with the anatomical. The only required entity is subject, but we can't define that yet. The suffix is always required, and for file type anat can be:"
   ]
  },
  {
   "cell_type": "code",
   "execution_count": 27,
   "metadata": {},
   "outputs": [
    {
     "data": {
      "text/plain": [
       "['T1w',\n",
       " 'T2w',\n",
       " 'FLAIR',\n",
       " 'T1rho',\n",
       " 'T1map',\n",
       " 'T2map',\n",
       " 'T2star',\n",
       " 'FLASH',\n",
       " 'PD',\n",
       " 'PDmap',\n",
       " 'PDT2',\n",
       " 'inplaneT1',\n",
       " 'inplaneT2',\n",
       " 'angio',\n",
       " 'defacemask']"
      ]
     },
     "execution_count": 27,
     "metadata": {},
     "output_type": "execute_result"
    }
   ],
   "source": [
    "dicom2bids.suffixes['anat']"
   ]
  },
  {
   "cell_type": "markdown",
   "metadata": {},
   "source": [
    "We all remember that mprages collected with our functional scans are usually T1 weighted (right?), so we choose 'T1w'. Our 'mapping' then looks like this:"
   ]
  },
  {
   "cell_type": "code",
   "execution_count": 28,
   "metadata": {},
   "outputs": [],
   "source": [
    "bd = dicom2bids.bids_dict() # create a bids dictionary"
   ]
  },
  {
   "cell_type": "code",
   "execution_count": 29,
   "metadata": {},
   "outputs": [],
   "source": [
    "bd.add('mprage_p2', datatype = 'anat', suffix = 'T1w') "
   ]
  },
  {
   "cell_type": "code",
   "execution_count": 30,
   "metadata": {},
   "outputs": [
    {
     "name": "stdout",
     "output_type": "stream",
     "text": [
      "mprage_p2: sub-{}_T1w\n",
      "\n"
     ]
    }
   ],
   "source": [
    "print(bd)"
   ]
  },
  {
   "cell_type": "markdown",
   "metadata": {},
   "source": [
    "If we decide we want to include the optional 'acq' entity, we can do that by defining our entity chain"
   ]
  },
  {
   "cell_type": "code",
   "execution_count": 31,
   "metadata": {},
   "outputs": [],
   "source": [
    "bd.add('mprage_p2', datatype = 'anat', suffix = 'T1w', chain = {'acq': 'mprage'}) "
   ]
  },
  {
   "cell_type": "markdown",
   "metadata": {},
   "source": [
    "NEW: since I first made this notebook I updated dicom2bids. You can now write:\n",
    "```\n",
    "bd.add('mprage_p2', datatype = 'anat', suffix = 'T1w', acq = 'mprage') \n",
    "```\n",
    "However, you'll still need to use the 'chain' language for any bids entities that are also python keywords (such as dir)"
   ]
  },
  {
   "cell_type": "code",
   "execution_count": 32,
   "metadata": {},
   "outputs": [
    {
     "name": "stdout",
     "output_type": "stream",
     "text": [
      "mprage_p2: sub-{}_acq-mprage_T1w\n",
      "\n"
     ]
    }
   ],
   "source": [
    "print(bd)"
   ]
  },
  {
   "cell_type": "markdown",
   "metadata": {},
   "source": [
    "dicom2bids keeps track of what order the entities need to be in and (to some extent) whether they are valid. For example, if we try an uppercase W:"
   ]
  },
  {
   "cell_type": "code",
   "execution_count": 33,
   "metadata": {},
   "outputs": [
    {
     "ename": "ValueError",
     "evalue": "Unknown suffix T1W for data type anat\nAllowed suffixes are ['T1w', 'T2w', 'FLAIR', 'T1rho', 'T1map', 'T2map', 'T2star', 'FLASH', 'PD', 'PDmap', 'PDT2', 'inplaneT1', 'inplaneT2', 'angio', 'defacemask']",
     "output_type": "error",
     "traceback": [
      "\u001b[0;31m---------------------------------------------------------------------------\u001b[0m",
      "\u001b[0;31mValueError\u001b[0m                                Traceback (most recent call last)",
      "\u001b[0;32m<ipython-input-33-6ddbf16cfba1>\u001b[0m in \u001b[0;36m<module>\u001b[0;34m\u001b[0m\n\u001b[0;32m----> 1\u001b[0;31m \u001b[0mbd\u001b[0m\u001b[0;34m.\u001b[0m\u001b[0madd\u001b[0m\u001b[0;34m(\u001b[0m\u001b[0;34m'mprage_p2'\u001b[0m\u001b[0;34m,\u001b[0m \u001b[0mdatatype\u001b[0m \u001b[0;34m=\u001b[0m \u001b[0;34m'anat'\u001b[0m\u001b[0;34m,\u001b[0m \u001b[0msuffix\u001b[0m \u001b[0;34m=\u001b[0m \u001b[0;34m'T1W'\u001b[0m\u001b[0;34m,\u001b[0m \u001b[0mchain\u001b[0m \u001b[0;34m=\u001b[0m \u001b[0;34m{\u001b[0m\u001b[0;34m'acq'\u001b[0m\u001b[0;34m:\u001b[0m \u001b[0;34m'mprage'\u001b[0m\u001b[0;34m}\u001b[0m\u001b[0;34m)\u001b[0m\u001b[0;34m\u001b[0m\u001b[0;34m\u001b[0m\u001b[0m\n\u001b[0m",
      "\u001b[0;32m/projects/lcni/jolinda/shared/site-packages/dicom2bids.py\u001b[0m in \u001b[0;36madd\u001b[0;34m(self, series_descripton, datatype, suffix, chain, nonstandard)\u001b[0m\n\u001b[1;32m     75\u001b[0m         \u001b[0;32mdef\u001b[0m \u001b[0madd\u001b[0m\u001b[0;34m(\u001b[0m\u001b[0mself\u001b[0m\u001b[0;34m,\u001b[0m \u001b[0mseries_descripton\u001b[0m\u001b[0;34m,\u001b[0m \u001b[0mdatatype\u001b[0m\u001b[0;34m,\u001b[0m \u001b[0msuffix\u001b[0m\u001b[0;34m,\u001b[0m \u001b[0mchain\u001b[0m \u001b[0;34m=\u001b[0m \u001b[0;32mNone\u001b[0m\u001b[0;34m,\u001b[0m \u001b[0mnonstandard\u001b[0m \u001b[0;34m=\u001b[0m \u001b[0;32mFalse\u001b[0m\u001b[0;34m)\u001b[0m\u001b[0;34m:\u001b[0m\u001b[0;34m\u001b[0m\u001b[0;34m\u001b[0m\u001b[0m\n\u001b[1;32m     76\u001b[0m \u001b[0;34m\u001b[0m\u001b[0m\n\u001b[0;32m---> 77\u001b[0;31m                 \u001b[0mself\u001b[0m\u001b[0;34m.\u001b[0m\u001b[0mdictionary\u001b[0m\u001b[0;34m[\u001b[0m\u001b[0mseries_descripton\u001b[0m\u001b[0;34m]\u001b[0m \u001b[0;34m=\u001b[0m \u001b[0mentity_chain\u001b[0m\u001b[0;34m(\u001b[0m\u001b[0mdatatype\u001b[0m \u001b[0;34m=\u001b[0m \u001b[0mdatatype\u001b[0m\u001b[0;34m,\u001b[0m \u001b[0msuffix\u001b[0m \u001b[0;34m=\u001b[0m \u001b[0msuffix\u001b[0m\u001b[0;34m,\u001b[0m \u001b[0mchain\u001b[0m \u001b[0;34m=\u001b[0m \u001b[0mchain\u001b[0m\u001b[0;34m,\u001b[0m \u001b[0mnonstandard\u001b[0m \u001b[0;34m=\u001b[0m \u001b[0mnonstandard\u001b[0m\u001b[0;34m)\u001b[0m\u001b[0;34m\u001b[0m\u001b[0;34m\u001b[0m\u001b[0m\n\u001b[0m\u001b[1;32m     78\u001b[0m \u001b[0;34m\u001b[0m\u001b[0m\n\u001b[1;32m     79\u001b[0m         \u001b[0;32mdef\u001b[0m \u001b[0m__str__\u001b[0m\u001b[0;34m(\u001b[0m\u001b[0mself\u001b[0m\u001b[0;34m)\u001b[0m\u001b[0;34m:\u001b[0m\u001b[0;34m\u001b[0m\u001b[0;34m\u001b[0m\u001b[0m\n",
      "\u001b[0;32m/projects/lcni/jolinda/shared/site-packages/dicom2bids.py\u001b[0m in \u001b[0;36m__init__\u001b[0;34m(self, datatype, suffix, chain, nonstandard)\u001b[0m\n\u001b[1;32m     42\u001b[0m                                 \u001b[0merror_string\u001b[0m \u001b[0;34m=\u001b[0m \u001b[0;34m'Unknown suffix {} for data type {}\\n'\u001b[0m\u001b[0;34m.\u001b[0m\u001b[0mformat\u001b[0m\u001b[0;34m(\u001b[0m\u001b[0msuffix\u001b[0m\u001b[0;34m,\u001b[0m \u001b[0mdatatype\u001b[0m\u001b[0;34m)\u001b[0m\u001b[0;34m\u001b[0m\u001b[0;34m\u001b[0m\u001b[0m\n\u001b[1;32m     43\u001b[0m                                 \u001b[0merror_string\u001b[0m \u001b[0;34m+=\u001b[0m \u001b[0;34m'Allowed suffixes are {}'\u001b[0m\u001b[0;34m.\u001b[0m\u001b[0mformat\u001b[0m\u001b[0;34m(\u001b[0m\u001b[0msuffixes\u001b[0m\u001b[0;34m[\u001b[0m\u001b[0mdatatype\u001b[0m\u001b[0;34m]\u001b[0m\u001b[0;34m)\u001b[0m\u001b[0;34m\u001b[0m\u001b[0;34m\u001b[0m\u001b[0m\n\u001b[0;32m---> 44\u001b[0;31m                                 \u001b[0;32mraise\u001b[0m \u001b[0mValueError\u001b[0m\u001b[0;34m(\u001b[0m\u001b[0merror_string\u001b[0m\u001b[0;34m)\u001b[0m\u001b[0;34m\u001b[0m\u001b[0;34m\u001b[0m\u001b[0m\n\u001b[0m\u001b[1;32m     45\u001b[0m \u001b[0;34m\u001b[0m\u001b[0m\n\u001b[1;32m     46\u001b[0m                 \u001b[0mself\u001b[0m\u001b[0;34m.\u001b[0m\u001b[0mdatatype\u001b[0m \u001b[0;34m=\u001b[0m \u001b[0mdatatype\u001b[0m\u001b[0;34m\u001b[0m\u001b[0;34m\u001b[0m\u001b[0m\n",
      "\u001b[0;31mValueError\u001b[0m: Unknown suffix T1W for data type anat\nAllowed suffixes are ['T1w', 'T2w', 'FLAIR', 'T1rho', 'T1map', 'T2map', 'T2star', 'FLASH', 'PD', 'PDmap', 'PDT2', 'inplaneT1', 'inplaneT2', 'angio', 'defacemask']"
     ]
    }
   ],
   "source": [
    "bd.add('mprage_p2', datatype = 'anat', suffix = 'T1W', chain = {'acq': 'mprage'}) "
   ]
  },
  {
   "cell_type": "markdown",
   "metadata": {},
   "source": [
    "It IS possible to use a non-standard suffix. To do that we just need to use the nonstandard = True flag, and the dictionary will still accept it."
   ]
  },
  {
   "cell_type": "code",
   "execution_count": 34,
   "metadata": {},
   "outputs": [],
   "source": [
    "bd.add('t3_weighted_sequence', datatype = 'anat', suffix = 'T3w', nonstandard = True) "
   ]
  },
  {
   "cell_type": "code",
   "execution_count": 35,
   "metadata": {},
   "outputs": [
    {
     "name": "stdout",
     "output_type": "stream",
     "text": [
      "mprage_p2: sub-{}_acq-mprage_T1w\n",
      "t3_weighted_sequence: sub-{}_T3w\n",
      "\n"
     ]
    }
   ],
   "source": [
    "print(bd)"
   ]
  },
  {
   "cell_type": "markdown",
   "metadata": {},
   "source": [
    "What about sessions? Suppose these scans are all from the \"pre\" session. Then we just need to add the 'ses' label to our chains. dicom2bids doesn't check for this (yet), but if one scan has the ses label then they all should have it."
   ]
  },
  {
   "cell_type": "code",
   "execution_count": 36,
   "metadata": {},
   "outputs": [],
   "source": [
    "bd.add('mprage_p2', datatype = 'anat', suffix = 'T1w', chain = {'acq': 'mprage', 'ses':'pre'}) \n",
    "bd.add('t3_weighted_sequence', datatype = 'anat', suffix = 'T3w', nonstandard = True, chain = {'ses':'pre'}) "
   ]
  },
  {
   "cell_type": "markdown",
   "metadata": {},
   "source": [
    "Next up: the bold sequences. According to the entity table, the 'task' entity is required."
   ]
  },
  {
   "cell_type": "code",
   "execution_count": 37,
   "metadata": {},
   "outputs": [],
   "source": [
    "bd.add('SVC_1_bold_mb3_g2_2mm_te25', datatype = 'func', suffix = 'bold', chain = {'task':'SVC', 'ses':'pre'}) \n",
    "bd.add('bold_DIFTIM_1.7mm', datatype = 'func', suffix = 'bold',  chain = {'task':'DIFTIM', 'ses':'pre'})"
   ]
  },
  {
   "cell_type": "markdown",
   "metadata": {},
   "source": [
    "Finally, the field maps. "
   ]
  },
  {
   "cell_type": "code",
   "execution_count": 38,
   "metadata": {},
   "outputs": [],
   "source": [
    "bd.add('se_epi_1.7mm_ap', datatype = 'fmap', suffix = 'epi', chain = {'dir':'ap', 'ses':'pre'}) \n",
    "bd.add('se_epi_1.7mm_pa', datatype = 'fmap', suffix = 'epi', chain = {'dir':'pa', 'ses':'pre'}) "
   ]
  },
  {
   "cell_type": "code",
   "execution_count": 39,
   "metadata": {},
   "outputs": [
    {
     "name": "stdout",
     "output_type": "stream",
     "text": [
      "mprage_p2: sub-{}_ses-pre_acq-mprage_T1w\n",
      "t3_weighted_sequence: sub-{}_ses-pre_T3w\n",
      "SVC_1_bold_mb3_g2_2mm_te25: sub-{}_ses-pre_task-SVC_bold\n",
      "bold_DIFTIM_1.7mm: sub-{}_ses-pre_task-DIFTIM_bold\n",
      "se_epi_1.7mm_ap: sub-{}_ses-pre_dir-ap_epi\n",
      "se_epi_1.7mm_pa: sub-{}_ses-pre_dir-pa_epi\n",
      "\n"
     ]
    }
   ],
   "source": [
    "print(bd)"
   ]
  },
  {
   "cell_type": "markdown",
   "metadata": {},
   "source": [
    "You may have noticed that there's a place for the subject name, but not for \"run\". Don't worry, it'll get filled in later. (If you define it in your chain now, it'll get overwritten later, so don't do that.)"
   ]
  },
  {
   "cell_type": "markdown",
   "metadata": {},
   "source": [
    "So we have our input directory and our bids dictionary, we just need our output directory. Don't use the one I'm about to use -- you don't have rights to write to it. Pick something in your own pirg's directory. This does not have to be a directory that exists, but you must be able to create it."
   ]
  },
  {
   "cell_type": "code",
   "execution_count": 40,
   "metadata": {},
   "outputs": [],
   "source": [
    "bidsdir = class5_output.joinpath('bids')"
   ]
  },
  {
   "cell_type": "markdown",
   "metadata": {},
   "source": [
    "Everything is in place, we just need to call the convert function:"
   ]
  },
  {
   "cell_type": "code",
   "execution_count": 44,
   "metadata": {},
   "outputs": [
    {
     "name": "stdout",
     "output_type": "stream",
     "text": [
      "Submitted batch job 11618708\n",
      "\n",
      "Submitted batch job 11618709\n",
      "\n"
     ]
    }
   ],
   "source": [
    "dicom2bids.Convert(dcmdir, bidsdir, bids_dict=bd, account = mypirg)"
   ]
  },
  {
   "cell_type": "markdown",
   "metadata": {},
   "source": [
    "dicom2bids automatically submits one job per subject to the cluster. We'll talk more about that next week. The way to check a running job is to use sacct:"
   ]
  },
  {
   "cell_type": "code",
   "execution_count": 46,
   "metadata": {},
   "outputs": [
    {
     "name": "stdout",
     "output_type": "stream",
     "text": [
      "       JobID    JobName  Partition    Account  AllocCPUS      State ExitCode \n",
      "------------ ---------- ---------- ---------- ---------- ---------- -------- \n",
      "11618708        convert      short       lcni          1    RUNNING      0:0 \n",
      "11618708.ba+      batch                  lcni          1    RUNNING      0:0 \n",
      "11618708.ex+     extern                  lcni          1    RUNNING      0:0 \n"
     ]
    }
   ],
   "source": [
    "!sacct -j 11618708"
   ]
  },
  {
   "cell_type": "code",
   "execution_count": 47,
   "metadata": {},
   "outputs": [
    {
     "name": "stdout",
     "output_type": "stream",
     "text": [
      "       JobID    JobName  Partition    Account  AllocCPUS      State ExitCode \n",
      "------------ ---------- ---------- ---------- ---------- ---------- -------- \n",
      "11618709        convert      short       lcni          1  COMPLETED      0:0 \n",
      "11618709.ba+      batch                  lcni          1  COMPLETED      0:0 \n",
      "11618709.ex+     extern                  lcni          1  COMPLETED      0:0 \n"
     ]
    }
   ],
   "source": [
    "!sacct -j 11618709"
   ]
  },
  {
   "cell_type": "markdown",
   "metadata": {},
   "source": [
    "Each job will creat a slurm-{jobnumber}.out file."
   ]
  },
  {
   "cell_type": "code",
   "execution_count": 48,
   "metadata": {},
   "outputs": [
    {
     "name": "stdout",
     "output_type": "stream",
     "text": [
      "Chris Rorden's dcm2niiX version v1.0.20200331  (JP2:OpenJPEG) (JP-LS:CharLS) GCC5.5.0 (64-bit Linux)\n",
      "Found 176 DICOM file(s)\n",
      "Convert 176 DICOM as /home/jolinda/lcni/class5out/bids/sub-TC002/ses-pre/anat/sub-TC002_ses-pre_acq-mprage_run-02_T1w (256x256x176x1)\n",
      "Compress: \"/bin/pigz\" -b 960 -n -f -6 \"/home/jolinda/lcni/class5out/bids/sub-TC002/ses-pre/anat/sub-TC002_ses-pre_acq-mprage_run-02_T1w.nii\"\n",
      "Conversion required 2.548653 seconds (0.340000 for core code).\n",
      "Chris Rorden's dcm2niiX version v1.0.20200331  (JP2:OpenJPEG) (JP-LS:CharLS) GCC5.5.0 (64-bit Linux)\n",
      "Found 180 DICOM file(s)\n",
      "Convert 180 DICOM as /home/jolinda/lcni/class5out/bids/sub-TC002/ses-pre/func/sub-TC002_ses-pre_task-SVC_run-03_bold (104x104x72x180)\n",
      "Compress: \"/bin/pigz\" -b 960 -n -f -6 \"/home/jolinda/lcni/class5out/bids/sub-TC002/ses-pre/func/sub-TC002_ses-pre_task-SVC_run-03_bold.nii\"\n",
      "Conversion required 16.228609 seconds (0.480000 for core code).\n"
     ]
    }
   ],
   "source": [
    "cat slurm-11618709.out"
   ]
  },
  {
   "cell_type": "markdown",
   "metadata": {},
   "source": [
    "This is just whatever would print to stdout/stderr on the command line. Once our jobs are finished we can see the output with the tree command in bash."
   ]
  },
  {
   "cell_type": "code",
   "execution_count": 49,
   "metadata": {},
   "outputs": [
    {
     "name": "stdout",
     "output_type": "stream",
     "text": [
      "/home/jolinda/lcni/class5out/bids\n",
      "|-- dataset_description.json\n",
      "|-- participants.json\n",
      "|-- participants.tsv\n",
      "|-- sub-TC001\n",
      "|   `-- ses-pre\n",
      "|       |-- anat\n",
      "|       |   |-- sub-TC001_ses-pre_acq-mprage_run-05_T1w.json\n",
      "|       |   `-- sub-TC001_ses-pre_acq-mprage_run-05_T1w.nii.gz\n",
      "|       |-- fmap\n",
      "|       |   |-- sub-TC001_ses-pre_dir-pa_run-09_epi.json\n",
      "|       |   `-- sub-TC001_ses-pre_dir-pa_run-09_epi.nii.gz\n",
      "|       `-- func\n",
      "|           |-- sub-TC001_ses-pre_task-DIFTIM_run-11_bold.json\n",
      "|           |-- sub-TC001_ses-pre_task-DIFTIM_run-11_bold.nii\n",
      "|           `-- sub-TC001_ses-pre_task-DIFTIM_run-11_bold.nii.gz\n",
      "`-- sub-TC002\n",
      "    `-- ses-pre\n",
      "        |-- anat\n",
      "        |   |-- sub-TC002_ses-pre_acq-mprage_run-02_T1w.json\n",
      "        |   `-- sub-TC002_ses-pre_acq-mprage_run-02_T1w.nii.gz\n",
      "        `-- func\n",
      "            |-- sub-TC002_ses-pre_task-SVC_run-03_bold.json\n",
      "            `-- sub-TC002_ses-pre_task-SVC_run-03_bold.nii.gz\n",
      "\n",
      "9 directories, 14 files\n"
     ]
    }
   ],
   "source": [
    "!tree {bidsdir}"
   ]
  },
  {
   "cell_type": "markdown",
   "metadata": {},
   "source": [
    "About those sidecar .json files. There's something annoying in there."
   ]
  },
  {
   "cell_type": "code",
   "execution_count": 50,
   "metadata": {},
   "outputs": [
    {
     "name": "stdout",
     "output_type": "stream",
     "text": [
      "{\n",
      "    \"Modality\": \"MR\",\n",
      "    \"MagneticFieldStrength\": 3,\n",
      "    \"ImagingFrequency\": 123.22,\n",
      "    \"Manufacturer\": \"Siemens\",\n",
      "    \"ManufacturersModelName\": \"Skyra\",\n",
      "    \"InstitutionName\": \"Lewis_Building\",\n",
      "    \"InstitutionalDepartmentName\": \"Department\",\n",
      "    \"InstitutionAddress\": \"Franklin_Blvd_1440_Eugene_District_US_97403\",\n",
      "    \"DeviceSerialNumber\": \"45348\",\n",
      "    \"StationName\": \"AWP45348\",\n",
      "    \"SeriesInstanceUID\": \"1.3.12.2.1107.5.2.19.45348.2018091609104434571015476.0.0.0\",\n",
      "    \"StudyInstanceUID\": \"1.3.12.2.1107.5.2.19.45348.30000018091316524195700000031\",\n",
      "    \"StudyID\": \"1\",\n",
      "    \"PatientName\": \"TC002\",\n",
      "    \"PatientID\": \"18.09.16-09:05:52-DST-1.3.12.2.1107.5.2.19.45348\",\n",
      "    \"PatientBirthDate\": \"2000-01-01\",\n",
      "    \"PatientSex\": \"O\",\n",
      "    \"PatientWeight\": 68.0389,\n",
      "    \"BodyPartExamined\": \"BRAIN\",\n",
      "    \"PatientPosition\": \"HFS\",\n",
      "    \"ProcedureStepDescription\": \"dsnlab_Pfeifer_TAG\",\n",
      "    \"SoftwareVersions\": \"syngo_MR_E11\",\n",
      "    \"MRAcquisitionType\": \"3D\",\n",
      "    \"SeriesDescription\": \"mprage_p2\",\n",
      "    \"ProtocolName\": \"mprage_p2\",\n",
      "    \"ScanningSequence\": \"GR_IR\",\n",
      "    \"SequenceVariant\": \"SK_SP_MP\",\n",
      "    \"ScanOptions\": \"IR\",\n",
      "    \"SequenceName\": \"_tfl3d1_16ns\",\n",
      "    \"ImageType\": [\n",
      "        \"ORIGINAL\",\n",
      "        \"PRIMARY\",\n",
      "        \"M\",\n",
      "        \"NORM\",\n",
      "        \"DIS3D\",\n",
      "        \"DIS2D\"\n",
      "    ],\n",
      "    \"SeriesNumber\": 2,\n",
      "    \"AcquisitionTime\": \"09:10:46.485000\",\n",
      "    \"AcquisitionDateTime\": \"2018-09-16T09:10:46.485000\",\n",
      "    \"AcquisitionNumber\": 1,\n",
      "    \"SliceThickness\": 1,\n",
      "    \"SAR\": 0.0387786,\n",
      "    \"EchoTime\": 0.00343,\n",
      "    \"RepetitionTime\": 2.5,\n",
      "    \"InversionTime\": 1.1,\n",
      "    \"FlipAngle\": 7,\n",
      "    \"PartialFourier\": 1,\n",
      "    \"BaseResolution\": 256,\n",
      "    \"ShimSetting\": [\n",
      "        -4999,\n",
      "        7659,\n",
      "        8655,\n",
      "        112,\n",
      "        2,\n",
      "        416,\n",
      "        58,\n",
      "        -353\n",
      "    ],\n",
      "    \"TxRefAmp\": 354.868,\n",
      "    \"PhaseResolution\": 1,\n",
      "    \"ReceiveCoilName\": \"Head_32\",\n",
      "    \"ReceiveCoilActiveElements\": \"HEA;HEP\",\n",
      "    \"PulseSequenceDetails\": \"%SiemensSeq%_tfl\",\n",
      "    \"RefLinesPE\": 32,\n",
      "    \"ConsistencyInfo\": \"N4_VE11C_LATEST_20160120\",\n",
      "    \"PercentPhaseFOV\": 100,\n",
      "    \"PercentSampling\": 100,\n",
      "    \"PhaseEncodingSteps\": 255,\n",
      "    \"AcquisitionMatrixPE\": 256,\n",
      "    \"ReconMatrixPE\": 256,\n",
      "    \"ParallelReductionFactorInPlane\": 2,\n",
      "    \"PixelBandwidth\": 190,\n",
      "    \"DwellTime\": 1.03e-05,\n",
      "    \"ImageOrientationPatientDICOM\": [\n",
      "        0,\n",
      "        1,\n",
      "        0,\n",
      "        0,\n",
      "        0,\n",
      "        -1\n",
      "    ],\n",
      "    \"InPlanePhaseEncodingDirectionDICOM\": \"ROW\",\n",
      "    \"ConversionSoftware\": \"dcm2niix\",\n",
      "    \"ConversionSoftwareVersion\": \"v1.0.20200331\"\n",
      "}\n"
     ]
    }
   ],
   "source": [
    "import os\n",
    "with open(os.path.join(bidsdir, 'sub-TC002', 'ses-pre', 'anat', 'sub-TC002_ses-pre_acq-mprage_run-02_T1w.json')) as f:\n",
    "    j = json.load(f)\n",
    "print(json.dumps(j, indent = 4))"
   ]
  },
  {
   "cell_type": "markdown",
   "metadata": {},
   "source": [
    "The institution information is all messed up. I've fixed this on the scanner, so future files should come out okay, but if you're converting files that actually exist NOW then this will be wrong for anything from LCNI. Luckily I have a fix for this -- you can define a correction dictionary and include that in your call to Convert with the parameter \"json_mod\""
   ]
  },
  {
   "cell_type": "code",
   "execution_count": 51,
   "metadata": {},
   "outputs": [],
   "source": [
    "corrections = {'InstitutionName':'University of Oregon', 'InstitutionalDepartmentName':'LCNI', 'InstitutionAddress':'Franklin_Blvd_1440_Eugene_Oregon_US_97403'}"
   ]
  },
  {
   "cell_type": "markdown",
   "metadata": {},
   "source": [
    "It's even easier than that for us. This is going to come up a lot so I've put those in the dicom2bids module as dicom2bids.lcni_corrections."
   ]
  },
  {
   "cell_type": "code",
   "execution_count": 52,
   "metadata": {},
   "outputs": [
    {
     "data": {
      "text/plain": [
       "{'InstitutionName': 'University of Oregon',\n",
       " 'InstitutionalDepartmentName': 'LCNI',\n",
       " 'InstitutionAddress': 'Franklin_Blvd_1440_Eugene_Oregon_US_97403'}"
      ]
     },
     "execution_count": 52,
     "metadata": {},
     "output_type": "execute_result"
    }
   ],
   "source": [
    "dicom2bids.lcni_corrections"
   ]
  },
  {
   "cell_type": "markdown",
   "metadata": {},
   "source": [
    "If you want to use other parameters with dcm2niix you can pass those too -- for example, only write the json sidecars, not the nifti files (-b o). You can also opt to just run the commands WITHOUT submitting a slurm job. We'll do that this time."
   ]
  },
  {
   "cell_type": "code",
   "execution_count": 53,
   "metadata": {},
   "outputs": [],
   "source": [
    "dicom2bids.Convert(dcmdir, bidsdir, bids_dict=bd, json_mod = dicom2bids.lcni_corrections, dcm2niix_flags='-b o', slurm = False)"
   ]
  },
  {
   "cell_type": "code",
   "execution_count": 54,
   "metadata": {},
   "outputs": [
    {
     "name": "stdout",
     "output_type": "stream",
     "text": [
      "{\n",
      "    \"Modality\": \"MR\",\n",
      "    \"MagneticFieldStrength\": 3,\n",
      "    \"ImagingFrequency\": 123.22,\n",
      "    \"Manufacturer\": \"Siemens\",\n",
      "    \"ManufacturersModelName\": \"Skyra\",\n",
      "    \"InstitutionName\": \"University of Oregon\",\n",
      "    \"InstitutionalDepartmentName\": \"LCNI\",\n",
      "    \"InstitutionAddress\": \"Franklin_Blvd_1440_Eugene_Oregon_US_97403\",\n",
      "    \"DeviceSerialNumber\": \"45348\",\n",
      "    \"StationName\": \"AWP45348\",\n",
      "    \"SeriesInstanceUID\": \"1.3.12.2.1107.5.2.19.45348.2018091609104434571015476.0.0.0\",\n",
      "    \"StudyInstanceUID\": \"1.3.12.2.1107.5.2.19.45348.30000018091316524195700000031\",\n",
      "    \"StudyID\": \"1\",\n",
      "    \"PatientName\": \"TC002\",\n",
      "    \"PatientID\": \"18.09.16-09:05:52-DST-1.3.12.2.1107.5.2.19.45348\",\n",
      "    \"PatientBirthDate\": \"2000-01-01\",\n",
      "    \"PatientSex\": \"O\",\n",
      "    \"PatientWeight\": 68.0389,\n",
      "    \"BodyPartExamined\": \"BRAIN\",\n",
      "    \"PatientPosition\": \"HFS\",\n",
      "    \"ProcedureStepDescription\": \"dsnlab_Pfeifer_TAG\",\n",
      "    \"SoftwareVersions\": \"syngo_MR_E11\",\n",
      "    \"MRAcquisitionType\": \"3D\",\n",
      "    \"SeriesDescription\": \"mprage_p2\",\n",
      "    \"ProtocolName\": \"mprage_p2\",\n",
      "    \"ScanningSequence\": \"GR_IR\",\n",
      "    \"SequenceVariant\": \"SK_SP_MP\",\n",
      "    \"ScanOptions\": \"IR\",\n",
      "    \"SequenceName\": \"_tfl3d1_16ns\",\n",
      "    \"ImageType\": [\n",
      "        \"ORIGINAL\",\n",
      "        \"PRIMARY\",\n",
      "        \"M\",\n",
      "        \"NORM\",\n",
      "        \"DIS3D\",\n",
      "        \"DIS2D\"\n",
      "    ],\n",
      "    \"SeriesNumber\": 2,\n",
      "    \"AcquisitionTime\": \"09:10:46.485000\",\n",
      "    \"AcquisitionDateTime\": \"2018-09-16T09:10:46.485000\",\n",
      "    \"AcquisitionNumber\": 1,\n",
      "    \"SliceThickness\": 1,\n",
      "    \"SAR\": 0.0387786,\n",
      "    \"EchoTime\": 0.00343,\n",
      "    \"RepetitionTime\": 2.5,\n",
      "    \"InversionTime\": 1.1,\n",
      "    \"FlipAngle\": 7,\n",
      "    \"PartialFourier\": 1,\n",
      "    \"BaseResolution\": 256,\n",
      "    \"ShimSetting\": [\n",
      "        -4999,\n",
      "        7659,\n",
      "        8655,\n",
      "        112,\n",
      "        2,\n",
      "        416,\n",
      "        58,\n",
      "        -353\n",
      "    ],\n",
      "    \"TxRefAmp\": 354.868,\n",
      "    \"PhaseResolution\": 1,\n",
      "    \"ReceiveCoilName\": \"Head_32\",\n",
      "    \"ReceiveCoilActiveElements\": \"HEA;HEP\",\n",
      "    \"PulseSequenceDetails\": \"%SiemensSeq%_tfl\",\n",
      "    \"RefLinesPE\": 32,\n",
      "    \"ConsistencyInfo\": \"N4_VE11C_LATEST_20160120\",\n",
      "    \"PercentPhaseFOV\": 100,\n",
      "    \"PercentSampling\": 100,\n",
      "    \"PhaseEncodingSteps\": 255,\n",
      "    \"AcquisitionMatrixPE\": 256,\n",
      "    \"ReconMatrixPE\": 256,\n",
      "    \"ParallelReductionFactorInPlane\": 2,\n",
      "    \"PixelBandwidth\": 190,\n",
      "    \"DwellTime\": 1.03e-05,\n",
      "    \"ImageOrientationPatientDICOM\": [\n",
      "        0,\n",
      "        1,\n",
      "        0,\n",
      "        0,\n",
      "        0,\n",
      "        -1\n",
      "    ],\n",
      "    \"InPlanePhaseEncodingDirectionDICOM\": \"ROW\",\n",
      "    \"ConversionSoftware\": \"dcm2niix\",\n",
      "    \"ConversionSoftwareVersion\": \"v1.0.20200331\"\n",
      "}\n"
     ]
    }
   ],
   "source": [
    "import os\n",
    "with open(os.path.join(bidsdir, 'sub-TC002', 'ses-pre', 'anat', 'sub-TC002_ses-pre_acq-mprage_run-02_T1w.json')) as f:\n",
    "    j = json.load(f)\n",
    "print(json.dumps(j, indent = 4))"
   ]
  },
  {
   "cell_type": "markdown",
   "metadata": {},
   "source": [
    "What if you have some dicoms that AREN'T in the lcni standard directory structure? For example, these:"
   ]
  },
  {
   "cell_type": "code",
   "execution_count": 55,
   "metadata": {},
   "outputs": [],
   "source": [
    "unsorted_dicoms = '/projects/lcni/jolinda/shared/TalapasClass/unsorted_dicoms/'"
   ]
  },
  {
   "cell_type": "code",
   "execution_count": 56,
   "metadata": {},
   "outputs": [
    {
     "data": {
      "text/plain": [
       "['MR.1.3.12.2.1107.5.2.19.45348.2017121216151094687453923.dcm',\n",
       " 'MR.1.3.12.2.1107.5.2.19.45348.2017121216151094397553916.dcm',\n",
       " 'MR.1.3.12.2.1107.5.2.19.45348.2017121216151593953454273.dcm',\n",
       " 'MR.1.3.12.2.1107.5.2.19.45348.2017121216151069347853664.dcm',\n",
       " 'MR.1.3.12.2.1107.5.2.19.45348.2017121216151599158654314.dcm',\n",
       " 'MR.1.3.12.2.1107.5.2.19.45348.2017121216151060385153582.dcm',\n",
       " 'MR.1.3.12.2.1107.5.2.19.45348.2017121216151598262754309.dcm',\n",
       " 'MR.1.3.12.2.1107.5.2.19.45348.2017121216162878005757311.dcm',\n",
       " 'MR.1.3.12.2.1107.5.2.19.45348.2017121216151593921254272.dcm',\n",
       " 'MR.1.3.12.2.1107.5.2.19.45348.201712121615115383854033.dcm',\n",
       " 'MR.1.3.12.2.1107.5.2.19.45348.201712121615112736554007.dcm',\n",
       " 'MR.1.3.12.2.1107.5.2.19.45348.2017121216151016286453131.dcm',\n",
       " 'MR.1.3.12.2.1107.5.2.19.45348.2017121216151594304054284.dcm',\n",
       " 'MR.1.3.12.2.1107.5.2.19.45348.2017121216151597169854303.dcm',\n",
       " 'MR.1.3.12.2.1107.5.2.19.45348.2017121216151075106953711.dcm',\n",
       " 'MR.1.3.12.2.1107.5.2.19.45348.20171212161511510353985.dcm',\n",
       " 'MR.1.3.12.2.1107.5.2.19.45348.2017121216151060668253595.dcm',\n",
       " 'MR.1.3.12.2.1107.5.2.19.45348.2017121216151099866753970.dcm',\n",
       " 'MR.1.3.12.2.1107.5.2.19.45348.2017121216151021639453177.dcm',\n",
       " 'MR.1.3.12.2.1107.5.2.19.45348.2017121216151044871753441.dcm',\n",
       " 'MR.1.3.12.2.1107.5.2.19.45348.2017121216151019918353160.dcm',\n",
       " 'MR.1.3.12.2.1107.5.2.19.45348.2017121216151058538753573.dcm',\n",
       " 'MR.1.3.12.2.1107.5.2.19.45348.201712121615161146554325.dcm',\n",
       " 'MR.1.3.12.2.1107.5.2.19.45348.2017121216151075172253715.dcm',\n",
       " 'MR.1.3.12.2.1107.5.2.19.45348.2017121216162354543855753.dcm',\n",
       " 'MR.1.3.12.2.1107.5.2.19.45348.2017121216151083522453807.dcm',\n",
       " 'MR.1.3.12.2.1107.5.2.19.45348.2017121216151050958753485.dcm',\n",
       " 'MR.1.3.12.2.1107.5.2.19.45348.2017121216151090949953882.dcm',\n",
       " 'MR.1.3.12.2.1107.5.2.19.45348.2017121216151596626654300.dcm',\n",
       " 'MR.1.3.12.2.1107.5.2.19.45348.2017121216151084000753818.dcm',\n",
       " 'MR.1.3.12.2.1107.5.2.19.45348.20171212161516789654323.dcm',\n",
       " 'MR.1.3.12.2.1107.5.2.19.45348.2017121216151080677253780.dcm',\n",
       " 'MR.1.3.12.2.1107.5.2.19.45348.2017121216151596989254302.dcm',\n",
       " 'MR.1.3.12.2.1107.5.2.19.45348.201712121615161688154328.dcm',\n",
       " 'MR.1.3.12.2.1107.5.2.19.45348.2017121216151052800853507.dcm',\n",
       " 'MR.1.3.12.2.1107.5.2.19.45348.2017121216151039149053392.dcm',\n",
       " 'MR.1.3.12.2.1107.5.2.19.45348.201712121615115666254039.dcm',\n",
       " 'MR.1.3.12.2.1107.5.2.19.45348.2017121216163278222758387.dcm',\n",
       " 'MR.1.3.12.2.1107.5.2.19.45348.2017121216151085820553830.dcm',\n",
       " 'MR.1.3.12.2.1107.5.2.19.45348.201712121615112864454017.dcm',\n",
       " 'MR.1.3.12.2.1107.5.2.19.45348.2017121216151594957054291.dcm',\n",
       " 'MR.1.3.12.2.1107.5.2.19.45348.2017121216151597352454304.dcm',\n",
       " 'MR.1.3.12.2.1107.5.2.19.45348.2017121216151078597553758.dcm',\n",
       " 'MR.1.3.12.2.1107.5.2.19.45348.2017121216151091515553889.dcm',\n",
       " 'MR.1.3.12.2.1107.5.2.19.45348.2017121216151024548953215.dcm',\n",
       " 'MR.1.3.12.2.1107.5.2.19.45348.2017121216162992113957629.dcm',\n",
       " 'MR.1.3.12.2.1107.5.2.19.45348.201712121615114748854029.dcm',\n",
       " 'MR.1.3.12.2.1107.5.2.19.45348.2017121216151042568353419.dcm',\n",
       " 'MR.1.3.12.2.1107.5.2.19.45348.2017121216151594774654290.dcm',\n",
       " 'MR.1.3.12.2.1107.5.2.19.45348.2017121216163538618159025.dcm',\n",
       " 'MR.1.3.12.2.1107.5.2.19.45348.2017121216151070476753674.dcm',\n",
       " 'MR.1.3.12.2.1107.5.2.19.45348.2017121216151040328653403.dcm',\n",
       " 'MR.1.3.12.2.1107.5.2.19.45348.2017121216151030539853295.dcm',\n",
       " 'MR.1.3.12.2.1107.5.2.19.45348.2017121216151050829353477.dcm',\n",
       " 'MR.1.3.12.2.1107.5.2.19.45348.2017121216151087948453856.dcm',\n",
       " 'MR.1.3.12.2.1107.5.2.19.45348.2017121216151082881653794.dcm',\n",
       " 'MR.1.3.12.2.1107.5.2.19.45348.2017121216163221275658241.dcm',\n",
       " 'MR.1.3.12.2.1107.5.2.19.45348.2017121216151018965853144.dcm',\n",
       " 'MR.1.3.12.2.1107.5.2.19.45348.2017121216151078726353762.dcm',\n",
       " 'MR.1.3.12.2.1107.5.2.19.45348.201712121615162752954334.dcm',\n",
       " 'MR.1.3.12.2.1107.5.2.19.45348.2017121216151029695353273.dcm',\n",
       " 'MR.1.3.12.2.1107.5.2.19.45348.2017121216163164601758089.dcm',\n",
       " 'MR.1.3.12.2.1107.5.2.19.45348.2017121216151086624653841.dcm',\n",
       " 'MR.1.3.12.2.1107.5.2.19.45348.2017121216151052865153511.dcm',\n",
       " 'MR.1.3.12.2.1107.5.2.19.45348.201712121615163338854337.dcm',\n",
       " 'MR.1.3.12.2.1107.5.2.19.45348.2017121216151087345053846.dcm',\n",
       " 'MR.1.3.12.2.1107.5.2.19.45348.20171212161511611453989.dcm',\n",
       " 'MR.1.3.12.2.1107.5.2.19.45348.201712121615163151154336.dcm',\n",
       " 'MR.1.3.12.2.1107.5.2.19.45348.201712121615162398154332.dcm',\n",
       " 'MR.1.3.12.2.1107.5.2.19.45348.2017121216163457445858843.dcm',\n",
       " 'MR.1.3.12.2.1107.5.2.19.45348.2017121216151052034653496.dcm',\n",
       " 'MR.1.3.12.2.1107.5.2.19.45348.2017121216151037508753350.dcm',\n",
       " 'MR.1.3.12.2.1107.5.2.19.45348.2017121216151593790754268.dcm',\n",
       " 'MR.1.3.12.2.1107.5.2.19.45348.2017121216151593858454270.dcm',\n",
       " 'MR.1.3.12.2.1107.5.2.19.45348.201712121615161865254329.dcm',\n",
       " 'MR.1.3.12.2.1107.5.2.19.45348.2017121216151044936453445.dcm',\n",
       " 'MR.1.3.12.2.1107.5.2.19.45348.201712121615161327054326.dcm',\n",
       " 'MR.1.3.12.2.1107.5.2.19.45348.2017121216151035431353332.dcm',\n",
       " 'MR.1.3.12.2.1107.5.2.19.45348.2017121216151055893653538.dcm',\n",
       " 'MR.1.3.12.2.1107.5.2.19.45348.2017121216151075238753720.dcm',\n",
       " 'MR.1.3.12.2.1107.5.2.19.45348.2017121216151020244753164.dcm',\n",
       " 'MR.1.3.12.2.1107.5.2.19.45348.2017121216162518772656213.dcm',\n",
       " 'MR.1.3.12.2.1107.5.2.19.45348.2017121216151586355654060.dcm',\n",
       " 'MR.1.3.12.2.1107.5.2.19.45348.2017121216151079010153770.dcm',\n",
       " 'MR.1.3.12.2.1107.5.2.19.45348.2017121216151038738853382.dcm',\n",
       " 'MR.1.3.12.2.1107.5.2.19.45348.2017121216151029977553279.dcm',\n",
       " 'MR.1.3.12.2.1107.5.2.19.45348.2017121216151594016054275.dcm',\n",
       " 'MR.1.3.12.2.1107.5.2.19.45348.2017121216151075505653730.dcm',\n",
       " 'MR.1.3.12.2.1107.5.2.19.45348.2017121216151597901654307.dcm',\n",
       " 'MR.1.3.12.2.1107.5.2.19.45348.2017121216151090665153878.dcm',\n",
       " 'MR.1.3.12.2.1107.5.2.19.45348.2017121216151093748353911.dcm',\n",
       " 'MR.1.3.12.2.1107.5.2.19.45348.201712121615164117554341.dcm',\n",
       " 'MR.1.3.12.2.1107.5.2.19.45348.2017121216151596804554301.dcm',\n",
       " 'MR.1.3.12.2.1107.5.2.19.45348.2017121216151665754319.dcm',\n",
       " 'MR.1.3.12.2.1107.5.2.19.45348.201712121615118458254054.dcm',\n",
       " 'MR.1.3.12.2.1107.5.2.19.45348.2017121216151599707954317.dcm',\n",
       " 'MR.1.3.12.2.1107.5.2.19.45348.2017121216151060545653590.dcm',\n",
       " 'MR.1.3.12.2.1107.5.2.19.45348.2017121216162270063755533.dcm',\n",
       " 'MR.1.3.12.2.1107.5.2.19.45348.2017121216151088471253864.dcm',\n",
       " 'MR.1.3.12.2.1107.5.2.19.45348.201712121615118393354050.dcm',\n",
       " 'MR.1.3.12.2.1107.5.2.19.45348.20171212161511385253981.dcm',\n",
       " 'MR.1.3.12.2.1107.5.2.19.45348.2017121216151594206954281.dcm',\n",
       " 'MR.1.3.12.2.1107.5.2.19.45348.2017121216151051626053490.dcm',\n",
       " 'MR.1.3.12.2.1107.5.2.19.45348.2017121216151018664253140.dcm',\n",
       " 'MR.1.3.12.2.1107.5.2.19.45348.2017121216151036230653343.dcm',\n",
       " 'MR.1.3.12.2.1107.5.2.19.45348.2017121216151595140154292.dcm',\n",
       " 'MR.1.3.12.2.1107.5.2.19.45348.2017121216151596240154298.dcm',\n",
       " 'MR.1.3.12.2.1107.5.2.19.45348.2017121216151019039053148.dcm',\n",
       " 'MR.1.3.12.2.1107.5.2.19.45348.201712121615114000754025.dcm',\n",
       " 'MR.1.3.12.2.1107.5.2.19.45348.20171212161516966754324.dcm',\n",
       " 'MR.1.3.12.2.1107.5.2.19.45348.2017121216151068071353656.dcm',\n",
       " 'MR.1.3.12.2.1107.5.2.19.45348.2017121216162935793257481.dcm',\n",
       " 'MR.1.3.12.2.1107.5.2.19.45348.2017121216151019616653156.dcm',\n",
       " 'MR.1.3.12.2.1107.5.2.19.45348.2017121216151598082554308.dcm',\n",
       " 'MR.1.3.12.2.1107.5.2.19.45348.2017121216151599887854318.dcm',\n",
       " 'MR.1.3.12.2.1107.5.2.19.45348.2017121216163331293658533.dcm',\n",
       " 'MR.1.3.12.2.1107.5.2.19.45348.20171212161516250154320.dcm',\n",
       " 'MR.1.3.12.2.1107.5.2.19.45348.2017121216151076194153739.dcm',\n",
       " 'MR.1.3.12.2.1107.5.2.19.45348.2017121216151594272154283.dcm',\n",
       " 'MR.1.3.12.2.1107.5.2.19.45348.2017121216162651511056633.dcm',\n",
       " 'MR.1.3.12.2.1107.5.2.19.45348.2017121216151594111454278.dcm',\n",
       " 'MR.1.3.12.2.1107.5.2.19.45348.2017121216151064600153632.dcm',\n",
       " 'MR.1.3.12.2.1107.5.2.19.45348.2017121216151099304953952.dcm',\n",
       " 'MR.1.3.12.2.1107.5.2.19.45348.2017121216151032829853306.dcm',\n",
       " 'MR.1.3.12.2.1107.5.2.19.45348.2017121216151594046154276.dcm',\n",
       " 'MR.1.3.12.2.1107.5.2.19.45348.2017121216151039219053396.dcm',\n",
       " 'MR.1.3.12.2.1107.5.2.19.45348.201712121615112043054000.dcm',\n",
       " 'MR.1.3.12.2.1107.5.2.19.45348.2017121216151099602953964.dcm',\n",
       " 'MR.1.3.12.2.1107.5.2.19.45348.2017121216151075040053707.dcm',\n",
       " 'MR.1.3.12.2.1107.5.2.19.45348.2017121216151048502253471.dcm',\n",
       " 'MR.1.3.12.2.1107.5.2.19.45348.201712121615164311854342.dcm',\n",
       " 'MR.1.3.12.2.1107.5.2.19.45348.2017121216151024056053211.dcm',\n",
       " 'MR.1.3.12.2.1107.5.2.19.45348.2017121216151595503854294.dcm',\n",
       " 'MR.1.3.12.2.1107.5.2.19.45348.2017121216151082947653798.dcm',\n",
       " 'MR.1.3.12.2.1107.5.2.19.45348.2017121216151095238153931.dcm',\n",
       " 'MR.1.3.12.2.1107.5.2.19.45348.2017121216151065307453643.dcm',\n",
       " 'MR.1.3.12.2.1107.5.2.19.45348.2017121216163613319459135.dcm',\n",
       " 'MR.1.3.12.2.1107.5.2.19.45348.201712121615163926054340.dcm',\n",
       " 'MR.1.3.12.2.1107.5.2.19.45348.2017121216151594334154285.dcm',\n",
       " 'MR.1.3.12.2.1107.5.2.19.45348.2017121216151594367754286.dcm',\n",
       " 'MR.1.3.12.2.1107.5.2.19.45348.2017121216151080747553784.dcm',\n",
       " 'MR.1.3.12.2.1107.5.2.19.45348.2017121216151599339054315.dcm',\n",
       " 'MR.1.3.12.2.1107.5.2.19.45348.2017121216151594177754280.dcm',\n",
       " 'MR.1.3.12.2.1107.5.2.19.45348.2017121216163388155558673.dcm',\n",
       " 'MR.1.3.12.2.1107.5.2.19.45348.201712121616314288657922.dcm',\n",
       " 'MR.1.3.12.2.1107.5.2.19.45348.2017121216151029388553267.dcm',\n",
       " 'MR.1.3.12.2.1107.5.2.19.45348.20171212161516612054322.dcm',\n",
       " 'MR.1.3.12.2.1107.5.2.19.45348.2017121216151596422754299.dcm',\n",
       " 'MR.1.3.12.2.1107.5.2.19.45348.2017121216151593983754274.dcm',\n",
       " 'MR.1.3.12.2.1107.5.2.19.45348.2017121216151598798754312.dcm',\n",
       " 'MR.1.3.12.2.1107.5.2.19.45348.2017121216151597534354305.dcm',\n",
       " 'MR.1.3.12.2.1107.5.2.19.45348.2017121216151078939953766.dcm',\n",
       " 'MR.1.3.12.2.1107.5.2.19.45348.2017121216151595691254295.dcm',\n",
       " 'MR.1.3.12.2.1107.5.2.19.45348.2017121216151594429954288.dcm',\n",
       " 'MR.1.3.12.2.1107.5.2.19.45348.2017121216151057605453566.dcm',\n",
       " 'MR.1.3.12.2.1107.5.2.19.45348.2017121216163049120657785.dcm',\n",
       " 'MR.1.3.12.2.1107.5.2.19.45348.2017121216151598441754310.dcm',\n",
       " 'MR.1.3.12.2.1107.5.2.19.45348.2017121216151594589954289.dcm',\n",
       " 'MR.1.3.12.2.1107.5.2.19.45348.2017121216151068392053660.dcm',\n",
       " 'MR.1.3.12.2.1107.5.2.19.45348.2017121216151078230053750.dcm',\n",
       " 'MR.1.3.12.2.1107.5.2.19.45348.2017121216151021706753183.dcm',\n",
       " 'MR.1.3.12.2.1107.5.2.19.45348.2017121216151062081053607.dcm',\n",
       " 'MR.1.3.12.2.1107.5.2.19.45348.201712121615162955054335.dcm',\n",
       " 'MR.1.3.12.2.1107.5.2.19.45348.2017121216151029099153263.dcm',\n",
       " 'MR.1.3.12.2.1107.5.2.19.45348.2017121216162586882056419.dcm',\n",
       " 'MR.1.3.12.2.1107.5.2.19.45348.201712121615163726554339.dcm',\n",
       " 'MR.1.3.12.2.1107.5.2.19.45348.2017121216151094965053927.dcm',\n",
       " 'MR.1.3.12.2.1107.5.2.19.45348.2017121216151055027753534.dcm',\n",
       " 'MR.1.3.12.2.1107.5.2.19.45348.2017121216151596056754297.dcm',\n",
       " 'MR.1.3.12.2.1107.5.2.19.45348.20171212161511124053976.dcm',\n",
       " 'MR.1.3.12.2.1107.5.2.19.45348.2017121216151594397854287.dcm',\n",
       " 'MR.1.3.12.2.1107.5.2.19.45348.2017121216151594237954282.dcm',\n",
       " 'MR.1.3.12.2.1107.5.2.19.45348.2017121216151092436753905.dcm',\n",
       " 'MR.1.3.12.2.1107.5.2.19.45348.2017121216162384163455860.dcm',\n",
       " 'MR.1.3.12.2.1107.5.2.19.45348.2017121216151037856753358.dcm',\n",
       " 'MR.1.3.12.2.1107.5.2.19.45348.2017121216151025176853225.dcm',\n",
       " 'MR.1.3.12.2.1107.5.2.19.45348.2017121216151071095453686.dcm',\n",
       " 'MR.1.3.12.2.1107.5.2.19.45348.201712121615162219354331.dcm',\n",
       " 'MR.1.3.12.2.1107.5.2.19.45348.201712121615162042454330.dcm',\n",
       " 'MR.1.3.12.2.1107.5.2.19.45348.2017121216151064523453625.dcm',\n",
       " 'MR.1.3.12.2.1107.5.2.19.45348.2017121216162740695956947.dcm',\n",
       " 'MR.1.3.12.2.1107.5.2.19.45348.2017121216151038436653373.dcm',\n",
       " 'MR.1.3.12.2.1107.5.2.19.45348.2017121216162854157141.dcm',\n",
       " 'MR.1.3.12.2.1107.5.2.19.45348.2017121216151086546153835.dcm',\n",
       " 'MR.1.3.12.2.1107.5.2.19.45348.2017121216151035706553338.dcm',\n",
       " 'MR.1.3.12.2.1107.5.2.19.45348.2017121216151050896953481.dcm',\n",
       " 'MR.1.3.12.2.1107.5.2.19.45348.2017121216151055962853544.dcm',\n",
       " 'MR.1.3.12.2.1107.5.2.19.45348.201712121615111748553996.dcm',\n",
       " 'MR.1.3.12.2.1107.5.2.19.45348.201712121615161504654327.dcm',\n",
       " 'MR.1.3.12.2.1107.5.2.19.45348.2017121216151030321753290.dcm',\n",
       " 'MR.1.3.12.2.1107.5.2.19.45348.2017121216151069429553668.dcm',\n",
       " 'MR.1.3.12.2.1107.5.2.19.45348.2017121216151060473153586.dcm',\n",
       " 'MR.1.3.12.2.1107.5.2.19.45348.2017121216151597727054306.dcm',\n",
       " 'MR.1.3.12.2.1107.5.2.19.45348.2017121216151070553453678.dcm',\n",
       " 'MR.1.3.12.2.1107.5.2.19.45348.2017121216151599525854316.dcm',\n",
       " 'MR.1.3.12.2.1107.5.2.19.45348.2017121216151030239453286.dcm',\n",
       " 'MR.1.3.12.2.1107.5.2.19.45348.2017121216151078530053754.dcm',\n",
       " 'MR.1.3.12.2.1107.5.2.19.45348.201712121615112800454011.dcm',\n",
       " 'MR.1.3.12.2.1107.5.2.19.45348.2017121216151052731653503.dcm',\n",
       " 'MR.1.3.12.2.1107.5.2.19.45348.2017121216162457511556035.dcm',\n",
       " 'MR.1.3.12.2.1107.5.2.19.45348.2017121216151019324353152.dcm',\n",
       " 'MR.1.3.12.2.1107.5.2.19.45348.2017121216151595323154293.dcm',\n",
       " 'MR.1.3.12.2.1107.5.2.19.45348.2017121216151598620154311.dcm',\n",
       " 'MR.1.3.12.2.1107.5.2.19.45348.2017121216151063573453619.dcm',\n",
       " 'MR.1.3.12.2.1107.5.2.19.45348.2017121216151595872754296.dcm',\n",
       " 'MR.1.3.12.2.1107.5.2.19.45348.2017121216151024817653219.dcm',\n",
       " 'MR.1.3.12.2.1107.5.2.19.45348.2017121216151021767653187.dcm',\n",
       " 'MR.1.3.12.2.1107.5.2.19.45348.2017121216151057475953558.dcm',\n",
       " 'MR.1.3.12.2.1107.5.2.19.45348.2017121216162225501355403.dcm',\n",
       " 'MR.1.3.12.2.1107.5.2.19.45348.2017121216151593891154271.dcm',\n",
       " 'MR.1.3.12.2.1107.5.2.19.45348.2017121216151593825254269.dcm',\n",
       " 'MR.1.3.12.2.1107.5.2.19.45348.2017121216151594079554277.dcm',\n",
       " 'MR.1.3.12.2.1107.5.2.19.45348.2017121216151063130053615.dcm',\n",
       " 'MR.1.3.12.2.1107.5.2.19.45348.201712121615163539754338.dcm',\n",
       " 'MR.1.3.12.2.1107.5.2.19.45348.2017121216151057542253562.dcm',\n",
       " 'MR.1.3.12.2.1107.5.2.19.45348.2017121216151594143454279.dcm',\n",
       " 'MR.1.3.12.2.1107.5.2.19.45348.201712121615162575654333.dcm',\n",
       " 'MR.1.3.12.2.1107.5.2.19.45348.2017121216151087647853850.dcm',\n",
       " 'MR.1.3.12.2.1107.5.2.19.45348.2017121216151039032753386.dcm',\n",
       " 'MR.1.3.12.2.1107.5.2.19.45348.2017121216151038148653362.dcm',\n",
       " 'MR.1.3.12.2.1107.5.2.19.45348.2017121216151020312353168.dcm',\n",
       " 'MR.1.3.12.2.1107.5.2.19.45348.20171212161516428454321.dcm',\n",
       " 'MR.1.3.12.2.1107.5.2.19.45348.2017121216151044799453437.dcm',\n",
       " 'MR.1.3.12.2.1107.5.2.19.45348.2017121216151089255153871.dcm',\n",
       " 'MR.1.3.12.2.1107.5.2.19.45348.2017121216151598975654313.dcm',\n",
       " 'MR.1.3.12.2.1107.5.2.19.45348.2017121216162680405556741.dcm',\n",
       " 'MR.1.3.12.2.1107.5.2.19.45348.2017121216151054959153530.dcm']"
      ]
     },
     "execution_count": 56,
     "metadata": {},
     "output_type": "execute_result"
    }
   ],
   "source": [
    "os.listdir(unsorted_dicoms)"
   ]
  },
  {
   "cell_type": "markdown",
   "metadata": {},
   "source": [
    "dicom2bids has a convenience function for sorting them."
   ]
  },
  {
   "cell_type": "code",
   "execution_count": 57,
   "metadata": {},
   "outputs": [],
   "source": [
    "dicom2bids.SortDicoms(unsorted_dicoms, class5_output.joinpath('sorted'), slurm = False)"
   ]
  },
  {
   "cell_type": "code",
   "execution_count": 58,
   "metadata": {},
   "outputs": [
    {
     "name": "stdout",
     "output_type": "stream",
     "text": [
      "/home/jolinda/lcni/class5out/sorted\n",
      "`-- phantom_20171212_161421\n",
      "    |-- Series_1_AAHScout\n",
      "    |-- Series_2_AAHScout_MPR_sag\n",
      "    |-- Series_3_AAHScout_MPR_cor\n",
      "    |-- Series_4_AAHScout_MPR_tra\n",
      "    `-- Series_5_Resting1\n",
      "\n",
      "6 directories\n"
     ]
    }
   ],
   "source": [
    "!tree {class5_output.joinpath('sorted')} -d"
   ]
  },
  {
   "cell_type": "markdown",
   "metadata": {},
   "source": [
    "Some of the clever stuff dicom2bids does to generate the dataset_description and other .json files might not work quite right (especially if your dicoms aren't from lcni), so definitely check that every time. Finally, if you want to see the commands that are called by dicom2bids.Convert without actually converting, you can do it this way (possibly useful if you are running somewhere other than talapas). You have to give it an input directory to a single subject's dicoms."
   ]
  },
  {
   "cell_type": "code",
   "execution_count": 59,
   "metadata": {},
   "outputs": [
    {
     "name": "stdout",
     "output_type": "stream",
     "text": [
      "dcm2niix -ba n -l o -o /home/jolinda/lcni/class5out/bids/sub-TC002/ses-pre/anat -f sub-TC002_ses-pre_acq-mprage_run-02_T1w  /projects/lcni/dcm/TalapasClass/Smith/TC/TC002_20180916_090647/Series_2_mprage_p2\n",
      "dcm2niix -ba n -l o -o /home/jolinda/lcni/class5out/bids/sub-TC002/ses-pre/func -f sub-TC002_ses-pre_task-SVC_run-03_bold  /projects/lcni/dcm/TalapasClass/Smith/TC/TC002_20180916_090647/Series_3_SVC_1_bold_mb3_g2_2mm_te25\n",
      "jq '.TaskName=\"SVC\"' /home/jolinda/lcni/class5out/bids/sub-TC002/ses-pre/func/sub-TC002_ses-pre_task-SVC_run-03_bold.json > /tmp/sub-TC002_ses-pre_task-SVC_run-03_bold.json\n",
      "mv /tmp/sub-TC002_ses-pre_task-SVC_run-03_bold.json /home/jolinda/lcni/class5out/bids/sub-TC002/ses-pre/func/sub-TC002_ses-pre_task-SVC_run-03_bold.json\n",
      "\n"
     ]
    }
   ],
   "source": [
    "print(dicom2bids.GenerateCSCommand('/projects/lcni/dcm/TalapasClass/Smith/TC/TC002_20180916_090647/', bidsdir, bd))"
   ]
  },
  {
   "cell_type": "code",
   "execution_count": null,
   "metadata": {},
   "outputs": [],
   "source": []
  }
 ],
 "metadata": {
  "kernelspec": {
   "display_name": "Python 3",
   "language": "python",
   "name": "python3"
  },
  "language_info": {
   "codemirror_mode": {
    "name": "ipython",
    "version": 3
   },
   "file_extension": ".py",
   "mimetype": "text/x-python",
   "name": "python",
   "nbconvert_exporter": "python",
   "pygments_lexer": "ipython3",
   "version": "3.6.8"
  }
 },
 "nbformat": 4,
 "nbformat_minor": 2
}
